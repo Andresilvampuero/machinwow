{
 "cells": [
  {
   "cell_type": "markdown",
   "id": "570b115c-1dcd-45ab-ae95-756311ea70d4",
   "metadata": {},
   "source": [
    "FASE 1 : Comprensión del negocio "
   ]
  },
  {
   "cell_type": "markdown",
   "id": "00319411-20f2-4708-899b-b27aa8d5bf1c",
   "metadata": {},
   "source": [
    "World of warcraft es un MMORPG en el cual los jugadores pueden caracterizarse por razas y a la vez por clases. Puede personalizar su personaje para pelear contra otros jugadores o para realizar misiones del juego y subir de nivel de personaje o de honor con las distintas zonas. Cada una de estas zonas están diseñadas para conllevar distintos tipos de jugadores, desde los más novatos hasta los más avanzados en el juego. Este juego tiene muchos factores con los cuales se pueden generar diferentes análisis, ya sea, sobre la popularidad de las zonas, la media de jugadores por nivel, control de las zonas a lo largo del tiempo, cómo han cambiado las preferencias de zonas y actividades de los jugadores con diferentes versiones del juego, etc. \n",
    "\n",
    "Ahora, nuestro equipo, con el DataSet entregado decidió hacer un análisis exhaustivo el cual se centre en el ámbito de las zonas, más específicamente, el equipo responderá la interrogante de : ¿Existen zonas donde el nivel de los jugadores es más homogéneo en comparación con otras zonas?, ¿Qué tipo de zonas (por ejemplo, mazmorras, ciudades, áreas PvP) son más populares?, ¿Hay zonas altamente disputadas entre facciones y cómo afecta esto al comportamiento de los jugadores?, ¿Los jugadores de niveles más bajos evitan zonas controladas por facciones opuestas o de nivel alto? . Descubrir si hay zonas con una población de niveles más homogénea nos puede dar pistas sobre las preferencias de los jugadores y cómo eligen moverse por el mundo del juego. Esto puede estar influenciado por el diseño de las zonas, el tipo de contenido disponible y las recompensas que se pueden obtener. En esta primera fase de nuestro análisis CRISP-DM, vamos a sumergirnos en los datos para detectar cómo se distribuyen los niveles de los jugadores en diferentes zonas. Este análisis nos ayudará a encontrar patrones y a entender cómo la uniformidad de niveles varía de una zona a otra, lo cual puede ser crucial para futuras decisiones de diseño y ajuste dentro del juego.\n",
    "\n",
    "En este trabajo nos basaremos en el modelo analitico de CRISP-DM para nuestro proceso de Machine Learning. Este modelo tiene como ventaja que es flexible, facil de comprender y adaptable a la gran mayoria de proyectos. CRISP-DM tiene como formación una cantidad de 6 fases, estas son: \n",
    "**1) Comprensión del negocio:**  Definir claramente el contexto y los objetivos del negocio.\n",
    "**2) Comprensión de los datos:** Explorar, describir y analizar los datos de los DataSets para identificar problemas de calidad o patrones importantes.\n",
    "**3) Preparación de los datos:** Limpiar, transformar y seleccionar los datos relevantes para el análisis.\n",
    "**4) Modelado:** Aplicar algoritmos y técnicas de minería de datos (como árboles de decisión, regresión, etc.) para construir modelos que resuelvan el problema de negocio.\n",
    "**5) Evaluación:** Verificar si los modelos creados son útiles y cumplen con los objetivos del negocio, ajustando si es necesario.\n",
    "**6) Despliegue:** Implementar el modelo en un entorno real, ya sea para automatizar decisiones, generar informes o cualquier otra aplicación del negocio requerido."
   ]
  },
  {
   "cell_type": "markdown",
   "id": "cba5f351-0c3c-4927-90de-e977851d2757",
   "metadata": {},
   "source": [
    "FASE 2 : Comprensión de los datos"
   ]
  },
  {
   "cell_type": "code",
   "execution_count": 1,
   "id": "7ab22cd6-1bdc-4f49-a485-b400a2b0d5a5",
   "metadata": {},
   "outputs": [],
   "source": [
    "import pandas as pd\n",
    "import matplotlib.pyplot as plt\n",
    "import seaborn as sns\n",
    "import plotly.graph_objects as go\n",
    "from scipy import stats\n",
    "import numpy as np\n",
    "import plotly.express as px\n",
    "from sklearn.preprocessing import StandardScaler, MinMaxScaler\n",
    "from sklearn.linear_model import LinearRegression\n",
    "from sklearn.metrics import mean_squared_error\n",
    "from sklearn.preprocessing import PolynomialFeatures\n",
    "from sklearn.model_selection import train_test_split\n",
    "from sklearn.pipeline import make_pipeline\n",
    "from sklearn.linear_model import LogisticRegression\n",
    "from sklearn.preprocessing import OneHotEncoder\n",
    "from sklearn.linear_model import Lasso\n",
    "from sklearn.impute import KNNImputer\n",
    "from sklearn.metrics import mean_absolute_error"
   ]
  },
  {
   "cell_type": "code",
   "execution_count": 3,
   "id": "0f9fe70f-e40d-47ee-a23c-13d4bdacfb12",
   "metadata": {},
   "outputs": [],
   "source": [
    "zones = pd.read_csv('../data/01_raw/zones.csv')\n",
    "wowah_data = pd.read_csv('../data/01_raw/wowah_data.csv')\n",
    "locations = pd.read_csv('../data/01_raw/locations.csv')\n",
    "wowah_data2 = pd.read_csv('../data/01_raw/wowah_data.csv')\n"
   ]
  },
  {
   "cell_type": "markdown",
   "id": "9fa7af9b-7df2-4b18-ab1f-abcb504b7ff6",
   "metadata": {},
   "source": [
    "Debido a problemas con la escrituras del dataframe fuente de wowah_data vamos a ejecutar una linea con la cuál eliminas los espacios."
   ]
  },
  {
   "cell_type": "code",
   "execution_count": 4,
   "id": "393950b3-f0b3-461b-87c8-e7252dc52628",
   "metadata": {},
   "outputs": [],
   "source": [
    "wowah_data.columns = wowah_data.columns.str.strip()\n",
    "wowah_data2.columns = wowah_data2.columns.str.strip()"
   ]
  },
  {
   "cell_type": "markdown",
   "id": "56be7290-24e1-4abd-88bd-9bb7ec8ffe3e",
   "metadata": {},
   "source": [
    "Para comenzar con el análisis exploratorio, es esencial identificar y comprender la información contenida en cada uno de los datasets que vamos a utilizar. A continuación, se presenta un resumen de los tres principales datasets involucrados en nuestro estudio."
   ]
  },
  {
   "cell_type": "code",
   "execution_count": 213,
   "id": "fe93143f-0316-43d9-8f22-602fb4b4decb",
   "metadata": {},
   "outputs": [
    {
     "data": {
      "text/html": [
       "<pre style=\"white-space:pre;overflow-x:auto;line-height:normal;font-family:Menlo,'DejaVu Sans Mono',consolas,'Courier New',monospace\"></pre>\n"
      ],
      "text/plain": []
     },
     "metadata": {},
     "output_type": "display_data"
    },
    {
     "data": {
      "text/html": [
       "<div>\n",
       "<style scoped>\n",
       "    .dataframe tbody tr th:only-of-type {\n",
       "        vertical-align: middle;\n",
       "    }\n",
       "\n",
       "    .dataframe tbody tr th {\n",
       "        vertical-align: top;\n",
       "    }\n",
       "\n",
       "    .dataframe thead th {\n",
       "        text-align: right;\n",
       "    }\n",
       "</style>\n",
       "<table border=\"1\" class=\"dataframe\">\n",
       "  <thead>\n",
       "    <tr style=\"text-align: right;\">\n",
       "      <th></th>\n",
       "      <th>Zone_Name</th>\n",
       "      <th>Continent</th>\n",
       "      <th>Area</th>\n",
       "      <th>Zone</th>\n",
       "      <th>Subzone</th>\n",
       "      <th>Type</th>\n",
       "      <th>Size</th>\n",
       "      <th>Controlled</th>\n",
       "      <th>Min_req_level</th>\n",
       "      <th>Min_rec_level</th>\n",
       "      <th>Max_rec_level</th>\n",
       "      <th>Min_bot_level</th>\n",
       "      <th>Max_bot_level</th>\n",
       "    </tr>\n",
       "  </thead>\n",
       "  <tbody>\n",
       "    <tr>\n",
       "      <th>0</th>\n",
       "      <td>Durotar</td>\n",
       "      <td>Kalimdor</td>\n",
       "      <td>Central Kalimdor</td>\n",
       "      <td>Durotar</td>\n",
       "      <td>NaN</td>\n",
       "      <td>Zone</td>\n",
       "      <td>NaN</td>\n",
       "      <td>Horde</td>\n",
       "      <td>1</td>\n",
       "      <td>1.0</td>\n",
       "      <td>10.0</td>\n",
       "      <td>1.0</td>\n",
       "      <td>10.0</td>\n",
       "    </tr>\n",
       "    <tr>\n",
       "      <th>1</th>\n",
       "      <td>The Barrens</td>\n",
       "      <td>Kalimdor</td>\n",
       "      <td>Central Kalimdor</td>\n",
       "      <td>The Barrens</td>\n",
       "      <td>NaN</td>\n",
       "      <td>Zone</td>\n",
       "      <td>NaN</td>\n",
       "      <td>Contested</td>\n",
       "      <td>1</td>\n",
       "      <td>10.0</td>\n",
       "      <td>35.0</td>\n",
       "      <td>10.0</td>\n",
       "      <td>35.0</td>\n",
       "    </tr>\n",
       "    <tr>\n",
       "      <th>2</th>\n",
       "      <td>Silverpine Forest</td>\n",
       "      <td>Eastern Kingdoms</td>\n",
       "      <td>Lordaeron</td>\n",
       "      <td>Silverpine Forest</td>\n",
       "      <td>NaN</td>\n",
       "      <td>Zone</td>\n",
       "      <td>NaN</td>\n",
       "      <td>Horde</td>\n",
       "      <td>1</td>\n",
       "      <td>10.0</td>\n",
       "      <td>20.0</td>\n",
       "      <td>10.0</td>\n",
       "      <td>20.0</td>\n",
       "    </tr>\n",
       "    <tr>\n",
       "      <th>3</th>\n",
       "      <td>Stonetalon Mountains</td>\n",
       "      <td>Kalimdor</td>\n",
       "      <td>Central Kalimdor</td>\n",
       "      <td>Stonetalon Mountains</td>\n",
       "      <td>NaN</td>\n",
       "      <td>Zone</td>\n",
       "      <td>NaN</td>\n",
       "      <td>Contested</td>\n",
       "      <td>1</td>\n",
       "      <td>25.0</td>\n",
       "      <td>30.0</td>\n",
       "      <td>25.0</td>\n",
       "      <td>30.0</td>\n",
       "    </tr>\n",
       "    <tr>\n",
       "      <th>4</th>\n",
       "      <td>Thunder Bluff</td>\n",
       "      <td>Kalimdor</td>\n",
       "      <td>Central Kalimdor</td>\n",
       "      <td>Thunder Bluff</td>\n",
       "      <td>NaN</td>\n",
       "      <td>City</td>\n",
       "      <td>NaN</td>\n",
       "      <td>Horde</td>\n",
       "      <td>1</td>\n",
       "      <td>1.0</td>\n",
       "      <td>100.0</td>\n",
       "      <td>1.0</td>\n",
       "      <td>100.0</td>\n",
       "    </tr>\n",
       "    <tr>\n",
       "      <th>5</th>\n",
       "      <td>Dustwallow Marsh</td>\n",
       "      <td>Kalimdor</td>\n",
       "      <td>Central Kalimdor</td>\n",
       "      <td>Dustwallow Marsh</td>\n",
       "      <td>NaN</td>\n",
       "      <td>Zone</td>\n",
       "      <td>NaN</td>\n",
       "      <td>Contested</td>\n",
       "      <td>1</td>\n",
       "      <td>35.0</td>\n",
       "      <td>40.0</td>\n",
       "      <td>35.0</td>\n",
       "      <td>40.0</td>\n",
       "    </tr>\n",
       "    <tr>\n",
       "      <th>6</th>\n",
       "      <td>Orgrimmar</td>\n",
       "      <td>Kalimdor</td>\n",
       "      <td>Central Kalimdor</td>\n",
       "      <td>Durotar</td>\n",
       "      <td>Orgrimmar</td>\n",
       "      <td>City</td>\n",
       "      <td>NaN</td>\n",
       "      <td>Horde</td>\n",
       "      <td>1</td>\n",
       "      <td>1.0</td>\n",
       "      <td>100.0</td>\n",
       "      <td>1.0</td>\n",
       "      <td>100.0</td>\n",
       "    </tr>\n",
       "    <tr>\n",
       "      <th>7</th>\n",
       "      <td>Undercity</td>\n",
       "      <td>Eastern Kingdoms</td>\n",
       "      <td>Lordaeron</td>\n",
       "      <td>Tirisfal Glades</td>\n",
       "      <td>Undercity</td>\n",
       "      <td>City</td>\n",
       "      <td>NaN</td>\n",
       "      <td>Horde</td>\n",
       "      <td>1</td>\n",
       "      <td>1.0</td>\n",
       "      <td>100.0</td>\n",
       "      <td>1.0</td>\n",
       "      <td>100.0</td>\n",
       "    </tr>\n",
       "  </tbody>\n",
       "</table>\n",
       "</div>"
      ],
      "text/plain": [
       "\n",
       "              Zone_Name         Continent              Area  \\\n",
       "\u001b[1;36m0\u001b[0m               Durotar          Kalimdor  Central Kalimdor   \n",
       "\u001b[1;36m1\u001b[0m           The Barrens          Kalimdor  Central Kalimdor   \n",
       "\u001b[1;36m2\u001b[0m     Silverpine Forest  Eastern Kingdoms         Lordaeron   \n",
       "\u001b[1;36m3\u001b[0m  Stonetalon Mountains          Kalimdor  Central Kalimdor   \n",
       "\u001b[1;36m4\u001b[0m         Thunder Bluff          Kalimdor  Central Kalimdor   \n",
       "\u001b[1;36m5\u001b[0m      Dustwallow Marsh          Kalimdor  Central Kalimdor   \n",
       "\u001b[1;36m6\u001b[0m             Orgrimmar          Kalimdor  Central Kalimdor   \n",
       "\u001b[1;36m7\u001b[0m             Undercity  Eastern Kingdoms         Lordaeron   \n",
       "\n",
       "                   Zone    Subzone  Type  Size Controlled  Min_req_level  \\\n",
       "\u001b[1;36m0\u001b[0m               Durotar        NaN  Zone   NaN      Horde              \u001b[1;36m1\u001b[0m   \n",
       "\u001b[1;36m1\u001b[0m           The Barrens        NaN  Zone   NaN  Contested              \u001b[1;36m1\u001b[0m   \n",
       "\u001b[1;36m2\u001b[0m     Silverpine Forest        NaN  Zone   NaN      Horde              \u001b[1;36m1\u001b[0m   \n",
       "\u001b[1;36m3\u001b[0m  Stonetalon Mountains        NaN  Zone   NaN  Contested              \u001b[1;36m1\u001b[0m   \n",
       "\u001b[1;36m4\u001b[0m         Thunder Bluff        NaN  City   NaN      Horde              \u001b[1;36m1\u001b[0m   \n",
       "\u001b[1;36m5\u001b[0m      Dustwallow Marsh        NaN  Zone   NaN  Contested              \u001b[1;36m1\u001b[0m   \n",
       "\u001b[1;36m6\u001b[0m               Durotar  Orgrimmar  City   NaN      Horde              \u001b[1;36m1\u001b[0m   \n",
       "\u001b[1;36m7\u001b[0m       Tirisfal Glades  Undercity  City   NaN      Horde              \u001b[1;36m1\u001b[0m   \n",
       "\n",
       "   Min_rec_level  Max_rec_level  Min_bot_level  Max_bot_level  \n",
       "\u001b[1;36m0\u001b[0m            \u001b[1;36m1.0\u001b[0m           \u001b[1;36m10.0\u001b[0m            \u001b[1;36m1.0\u001b[0m           \u001b[1;36m10.0\u001b[0m  \n",
       "\u001b[1;36m1\u001b[0m           \u001b[1;36m10.0\u001b[0m           \u001b[1;36m35.0\u001b[0m           \u001b[1;36m10.0\u001b[0m           \u001b[1;36m35.0\u001b[0m  \n",
       "\u001b[1;36m2\u001b[0m           \u001b[1;36m10.0\u001b[0m           \u001b[1;36m20.0\u001b[0m           \u001b[1;36m10.0\u001b[0m           \u001b[1;36m20.0\u001b[0m  \n",
       "\u001b[1;36m3\u001b[0m           \u001b[1;36m25.0\u001b[0m           \u001b[1;36m30.0\u001b[0m           \u001b[1;36m25.0\u001b[0m           \u001b[1;36m30.0\u001b[0m  \n",
       "\u001b[1;36m4\u001b[0m            \u001b[1;36m1.0\u001b[0m          \u001b[1;36m100.0\u001b[0m            \u001b[1;36m1.0\u001b[0m          \u001b[1;36m100.0\u001b[0m  \n",
       "\u001b[1;36m5\u001b[0m           \u001b[1;36m35.0\u001b[0m           \u001b[1;36m40.0\u001b[0m           \u001b[1;36m35.0\u001b[0m           \u001b[1;36m40.0\u001b[0m  \n",
       "\u001b[1;36m6\u001b[0m            \u001b[1;36m1.0\u001b[0m          \u001b[1;36m100.0\u001b[0m            \u001b[1;36m1.0\u001b[0m          \u001b[1;36m100.0\u001b[0m  \n",
       "\u001b[1;36m7\u001b[0m            \u001b[1;36m1.0\u001b[0m          \u001b[1;36m100.0\u001b[0m            \u001b[1;36m1.0\u001b[0m          \u001b[1;36m100.0\u001b[0m  "
      ]
     },
     "execution_count": 213,
     "metadata": {},
     "output_type": "execute_result"
    }
   ],
   "source": [
    "zones.head(8)"
   ]
  },
  {
   "cell_type": "code",
   "execution_count": 214,
   "id": "6b8879fa-883f-4bd5-a7b0-d2a4a8092d91",
   "metadata": {},
   "outputs": [
    {
     "data": {
      "text/html": [
       "<pre style=\"white-space:pre;overflow-x:auto;line-height:normal;font-family:Menlo,'DejaVu Sans Mono',consolas,'Courier New',monospace\"></pre>\n"
      ],
      "text/plain": []
     },
     "metadata": {},
     "output_type": "display_data"
    },
    {
     "data": {
      "text/html": [
       "<div>\n",
       "<style scoped>\n",
       "    .dataframe tbody tr th:only-of-type {\n",
       "        vertical-align: middle;\n",
       "    }\n",
       "\n",
       "    .dataframe tbody tr th {\n",
       "        vertical-align: top;\n",
       "    }\n",
       "\n",
       "    .dataframe thead th {\n",
       "        text-align: right;\n",
       "    }\n",
       "</style>\n",
       "<table border=\"1\" class=\"dataframe\">\n",
       "  <thead>\n",
       "    <tr style=\"text-align: right;\">\n",
       "      <th></th>\n",
       "      <th>char</th>\n",
       "      <th>level</th>\n",
       "      <th>race</th>\n",
       "      <th>charclass</th>\n",
       "      <th>zone</th>\n",
       "      <th>guild</th>\n",
       "      <th>timestamp</th>\n",
       "    </tr>\n",
       "  </thead>\n",
       "  <tbody>\n",
       "    <tr>\n",
       "      <th>0</th>\n",
       "      <td>59425</td>\n",
       "      <td>1</td>\n",
       "      <td>Orc</td>\n",
       "      <td>Rogue</td>\n",
       "      <td>Orgrimmar</td>\n",
       "      <td>165</td>\n",
       "      <td>01/01/08 00:02:04</td>\n",
       "    </tr>\n",
       "    <tr>\n",
       "      <th>1</th>\n",
       "      <td>65494</td>\n",
       "      <td>9</td>\n",
       "      <td>Orc</td>\n",
       "      <td>Hunter</td>\n",
       "      <td>Durotar</td>\n",
       "      <td>-1</td>\n",
       "      <td>01/01/08 00:02:04</td>\n",
       "    </tr>\n",
       "    <tr>\n",
       "      <th>2</th>\n",
       "      <td>65325</td>\n",
       "      <td>14</td>\n",
       "      <td>Orc</td>\n",
       "      <td>Warrior</td>\n",
       "      <td>Ghostlands</td>\n",
       "      <td>-1</td>\n",
       "      <td>01/01/08 00:02:04</td>\n",
       "    </tr>\n",
       "    <tr>\n",
       "      <th>3</th>\n",
       "      <td>65490</td>\n",
       "      <td>18</td>\n",
       "      <td>Orc</td>\n",
       "      <td>Hunter</td>\n",
       "      <td>Ghostlands</td>\n",
       "      <td>-1</td>\n",
       "      <td>01/01/08 00:02:04</td>\n",
       "    </tr>\n",
       "    <tr>\n",
       "      <th>4</th>\n",
       "      <td>2288</td>\n",
       "      <td>60</td>\n",
       "      <td>Orc</td>\n",
       "      <td>Hunter</td>\n",
       "      <td>Hellfire Peninsula</td>\n",
       "      <td>-1</td>\n",
       "      <td>01/01/08 00:02:09</td>\n",
       "    </tr>\n",
       "    <tr>\n",
       "      <th>5</th>\n",
       "      <td>2289</td>\n",
       "      <td>60</td>\n",
       "      <td>Orc</td>\n",
       "      <td>Hunter</td>\n",
       "      <td>Hellfire Peninsula</td>\n",
       "      <td>-1</td>\n",
       "      <td>01/01/08 00:02:09</td>\n",
       "    </tr>\n",
       "    <tr>\n",
       "      <th>6</th>\n",
       "      <td>61239</td>\n",
       "      <td>68</td>\n",
       "      <td>Orc</td>\n",
       "      <td>Hunter</td>\n",
       "      <td>Blade's Edge Mountains</td>\n",
       "      <td>243</td>\n",
       "      <td>01/01/08 00:02:14</td>\n",
       "    </tr>\n",
       "    <tr>\n",
       "      <th>7</th>\n",
       "      <td>59772</td>\n",
       "      <td>69</td>\n",
       "      <td>Orc</td>\n",
       "      <td>Warrior</td>\n",
       "      <td>Shadowmoon Valley</td>\n",
       "      <td>35</td>\n",
       "      <td>01/01/08 00:02:14</td>\n",
       "    </tr>\n",
       "  </tbody>\n",
       "</table>\n",
       "</div>"
      ],
      "text/plain": [
       "\n",
       "    char  level race charclass                    zone  guild  \\\n",
       "\u001b[1;36m0\u001b[0m  \u001b[1;36m59425\u001b[0m      \u001b[1;36m1\u001b[0m  Orc     Rogue               Orgrimmar    \u001b[1;36m165\u001b[0m   \n",
       "\u001b[1;36m1\u001b[0m  \u001b[1;36m65494\u001b[0m      \u001b[1;36m9\u001b[0m  Orc    Hunter                 Durotar     \u001b[1;36m-1\u001b[0m   \n",
       "\u001b[1;36m2\u001b[0m  \u001b[1;36m65325\u001b[0m     \u001b[1;36m14\u001b[0m  Orc   Warrior              Ghostlands     \u001b[1;36m-1\u001b[0m   \n",
       "\u001b[1;36m3\u001b[0m  \u001b[1;36m65490\u001b[0m     \u001b[1;36m18\u001b[0m  Orc    Hunter              Ghostlands     \u001b[1;36m-1\u001b[0m   \n",
       "\u001b[1;36m4\u001b[0m   \u001b[1;36m2288\u001b[0m     \u001b[1;36m60\u001b[0m  Orc    Hunter      Hellfire Peninsula     \u001b[1;36m-1\u001b[0m   \n",
       "\u001b[1;36m5\u001b[0m   \u001b[1;36m2289\u001b[0m     \u001b[1;36m60\u001b[0m  Orc    Hunter      Hellfire Peninsula     \u001b[1;36m-1\u001b[0m   \n",
       "\u001b[1;36m6\u001b[0m  \u001b[1;36m61239\u001b[0m     \u001b[1;36m68\u001b[0m  Orc    Hunter  Blade's Edge Mountains    \u001b[1;36m243\u001b[0m   \n",
       "\u001b[1;36m7\u001b[0m  \u001b[1;36m59772\u001b[0m     \u001b[1;36m69\u001b[0m  Orc   Warrior       Shadowmoon Valley     \u001b[1;36m35\u001b[0m   \n",
       "\n",
       "           timestamp  \n",
       "\u001b[1;36m0\u001b[0m  \u001b[1;36m01\u001b[0m/\u001b[1;36m01\u001b[0m/\u001b[1;36m08\u001b[0m \u001b[1;92m00:02:04\u001b[0m  \n",
       "\u001b[1;36m1\u001b[0m  \u001b[1;36m01\u001b[0m/\u001b[1;36m01\u001b[0m/\u001b[1;36m08\u001b[0m \u001b[1;92m00:02:04\u001b[0m  \n",
       "\u001b[1;36m2\u001b[0m  \u001b[1;36m01\u001b[0m/\u001b[1;36m01\u001b[0m/\u001b[1;36m08\u001b[0m \u001b[1;92m00:02:04\u001b[0m  \n",
       "\u001b[1;36m3\u001b[0m  \u001b[1;36m01\u001b[0m/\u001b[1;36m01\u001b[0m/\u001b[1;36m08\u001b[0m \u001b[1;92m00:02:04\u001b[0m  \n",
       "\u001b[1;36m4\u001b[0m  \u001b[1;36m01\u001b[0m/\u001b[1;36m01\u001b[0m/\u001b[1;36m08\u001b[0m \u001b[1;92m00:02:09\u001b[0m  \n",
       "\u001b[1;36m5\u001b[0m  \u001b[1;36m01\u001b[0m/\u001b[1;36m01\u001b[0m/\u001b[1;36m08\u001b[0m \u001b[1;92m00:02:09\u001b[0m  \n",
       "\u001b[1;36m6\u001b[0m  \u001b[1;36m01\u001b[0m/\u001b[1;36m01\u001b[0m/\u001b[1;36m08\u001b[0m \u001b[1;92m00:02:14\u001b[0m  \n",
       "\u001b[1;36m7\u001b[0m  \u001b[1;36m01\u001b[0m/\u001b[1;36m01\u001b[0m/\u001b[1;36m08\u001b[0m \u001b[1;92m00:02:14\u001b[0m  "
      ]
     },
     "execution_count": 214,
     "metadata": {},
     "output_type": "execute_result"
    }
   ],
   "source": [
    "wowah_data.head(8)"
   ]
  },
  {
   "cell_type": "code",
   "execution_count": 215,
   "id": "3c1326e1-f948-4353-a2c6-f3a973b8351d",
   "metadata": {},
   "outputs": [
    {
     "data": {
      "text/html": [
       "<pre style=\"white-space:pre;overflow-x:auto;line-height:normal;font-family:Menlo,'DejaVu Sans Mono',consolas,'Courier New',monospace\"></pre>\n"
      ],
      "text/plain": []
     },
     "metadata": {},
     "output_type": "display_data"
    },
    {
     "data": {
      "text/html": [
       "<div>\n",
       "<style scoped>\n",
       "    .dataframe tbody tr th:only-of-type {\n",
       "        vertical-align: middle;\n",
       "    }\n",
       "\n",
       "    .dataframe tbody tr th {\n",
       "        vertical-align: top;\n",
       "    }\n",
       "\n",
       "    .dataframe thead th {\n",
       "        text-align: right;\n",
       "    }\n",
       "</style>\n",
       "<table border=\"1\" class=\"dataframe\">\n",
       "  <thead>\n",
       "    <tr style=\"text-align: right;\">\n",
       "      <th></th>\n",
       "      <th>Map_ID</th>\n",
       "      <th>Location_Type</th>\n",
       "      <th>Location_Name</th>\n",
       "      <th>Game_Version</th>\n",
       "    </tr>\n",
       "  </thead>\n",
       "  <tbody>\n",
       "    <tr>\n",
       "      <th>0</th>\n",
       "      <td>0</td>\n",
       "      <td>Continent</td>\n",
       "      <td>Eastern Kingdoms</td>\n",
       "      <td>WoW</td>\n",
       "    </tr>\n",
       "    <tr>\n",
       "      <th>1</th>\n",
       "      <td>1</td>\n",
       "      <td>Continent</td>\n",
       "      <td>Kalimdor</td>\n",
       "      <td>WoW</td>\n",
       "    </tr>\n",
       "    <tr>\n",
       "      <th>2</th>\n",
       "      <td>530</td>\n",
       "      <td>Continent</td>\n",
       "      <td>Outlands</td>\n",
       "      <td>TBC</td>\n",
       "    </tr>\n",
       "    <tr>\n",
       "      <th>3</th>\n",
       "      <td>571</td>\n",
       "      <td>Continent</td>\n",
       "      <td>Northrend</td>\n",
       "      <td>WLK</td>\n",
       "    </tr>\n",
       "    <tr>\n",
       "      <th>4</th>\n",
       "      <td>646</td>\n",
       "      <td>Continent</td>\n",
       "      <td>Deepholm</td>\n",
       "      <td>CAT</td>\n",
       "    </tr>\n",
       "    <tr>\n",
       "      <th>5</th>\n",
       "      <td>732</td>\n",
       "      <td>Continent</td>\n",
       "      <td>Tol Barad</td>\n",
       "      <td>CAT</td>\n",
       "    </tr>\n",
       "    <tr>\n",
       "      <th>6</th>\n",
       "      <td>870</td>\n",
       "      <td>Continent</td>\n",
       "      <td>Pandaria</td>\n",
       "      <td>MoP</td>\n",
       "    </tr>\n",
       "    <tr>\n",
       "      <th>7</th>\n",
       "      <td>1064</td>\n",
       "      <td>Continent</td>\n",
       "      <td>Mogu Island Daily Area (Isle of Thunder)</td>\n",
       "      <td>MoP</td>\n",
       "    </tr>\n",
       "  </tbody>\n",
       "</table>\n",
       "</div>"
      ],
      "text/plain": [
       "\n",
       "   Map_ID Location_Type                             Location_Name Game_Version\n",
       "\u001b[1;36m0\u001b[0m       \u001b[1;36m0\u001b[0m     Continent                          Eastern Kingdoms          WoW\n",
       "\u001b[1;36m1\u001b[0m       \u001b[1;36m1\u001b[0m     Continent                                  Kalimdor          WoW\n",
       "\u001b[1;36m2\u001b[0m     \u001b[1;36m530\u001b[0m     Continent                                  Outlands          TBC\n",
       "\u001b[1;36m3\u001b[0m     \u001b[1;36m571\u001b[0m     Continent                                 Northrend          WLK\n",
       "\u001b[1;36m4\u001b[0m     \u001b[1;36m646\u001b[0m     Continent                                  Deepholm          CAT\n",
       "\u001b[1;36m5\u001b[0m     \u001b[1;36m732\u001b[0m     Continent                                 Tol Barad          CAT\n",
       "\u001b[1;36m6\u001b[0m     \u001b[1;36m870\u001b[0m     Continent                                  Pandaria          MoP\n",
       "\u001b[1;36m7\u001b[0m    \u001b[1;36m1064\u001b[0m     Continent  Mogu Island Daily Area \u001b[1m(\u001b[0mIsle of Thunder\u001b[1m)\u001b[0m          MoP"
      ]
     },
     "execution_count": 215,
     "metadata": {},
     "output_type": "execute_result"
    }
   ],
   "source": [
    "locations.head(8)"
   ]
  },
  {
   "cell_type": "markdown",
   "id": "5e4f33b8-35c0-4f78-af0b-a2ada5c44b47",
   "metadata": {},
   "source": [
    "Al analizar estos tres datasets, buscamos identificar patrones en la distribución de los niveles de los jugadores a través de diferentes zonas, entender cómo las características de las zonas afectan esta distribución y explorar cómo los mapas y sus versiones juegan un papel en la experiencia del juego. Este enfoque nos permitirá obtener una visión integral de cómo los jugadores interactúan con el mundo de World of Warcraft y cómo se pueden ajustar las zonas y los mapas para mejorar el juego."
   ]
  },
  {
   "cell_type": "markdown",
   "id": "37a0cd36-3ee0-46c3-977c-94b855180396",
   "metadata": {},
   "source": [
    "Vamos a describir los datos para proporcionar un análisis detallado que va más allá de los estadísticos básicos obtenidos con la función describe(). Esto no solo presenta las medidas de tendencia central y dispersión, sino que también ayuda a interpretar cómo estos valores se relacionan con el negocio. Al hacerlo, se pueden identificar patrones y tendencias que son esenciales para la toma de decisiones informadas, mejorar estrategias de juego y optimizar la experiencia del usuario. Esta comprensión más profunda de los datos es crucial para un análisis efectivo y para obtener información valiosa que respalde el desarrollo."
   ]
  },
  {
   "cell_type": "markdown",
   "id": "746d57bb-463b-4d5b-89ec-15581bb80f14",
   "metadata": {},
   "source": [
    "es útil saber qué tipo de datos tenemos en cada uno de los datasets. Esto nos ayuda a entender cómo podemos trabajar con la información. A continuacion mostraremos los diferente tipos de datos de cada uno de los datasets:"
   ]
  },
  {
   "cell_type": "code",
   "execution_count": 216,
   "id": "c69f47bc-e71d-4e37-92ab-e8ed1a56ea29",
   "metadata": {},
   "outputs": [
    {
     "data": {
      "text/html": [
       "<pre style=\"white-space:pre;overflow-x:auto;line-height:normal;font-family:Menlo,'DejaVu Sans Mono',consolas,'Courier New',monospace\"></pre>\n"
      ],
      "text/plain": []
     },
     "metadata": {},
     "output_type": "display_data"
    },
    {
     "data": {
      "text/html": [
       "<div>\n",
       "<style scoped>\n",
       "    .dataframe tbody tr th:only-of-type {\n",
       "        vertical-align: middle;\n",
       "    }\n",
       "\n",
       "    .dataframe tbody tr th {\n",
       "        vertical-align: top;\n",
       "    }\n",
       "\n",
       "    .dataframe thead th {\n",
       "        text-align: right;\n",
       "    }\n",
       "</style>\n",
       "<table border=\"1\" class=\"dataframe\">\n",
       "  <thead>\n",
       "    <tr style=\"text-align: right;\">\n",
       "      <th></th>\n",
       "      <th>Size</th>\n",
       "      <th>Min_req_level</th>\n",
       "      <th>Min_rec_level</th>\n",
       "      <th>Max_rec_level</th>\n",
       "      <th>Min_bot_level</th>\n",
       "      <th>Max_bot_level</th>\n",
       "    </tr>\n",
       "  </thead>\n",
       "  <tbody>\n",
       "    <tr>\n",
       "      <th>count</th>\n",
       "      <td>68.000000</td>\n",
       "      <td>160.000000</td>\n",
       "      <td>159.000000</td>\n",
       "      <td>159.000000</td>\n",
       "      <td>158.000000</td>\n",
       "      <td>158.000000</td>\n",
       "    </tr>\n",
       "    <tr>\n",
       "      <th>mean</th>\n",
       "      <td>11.544118</td>\n",
       "      <td>22.975000</td>\n",
       "      <td>39.981132</td>\n",
       "      <td>61.918239</td>\n",
       "      <td>40.518987</td>\n",
       "      <td>61.974684</td>\n",
       "    </tr>\n",
       "    <tr>\n",
       "      <th>std</th>\n",
       "      <td>10.935952</td>\n",
       "      <td>29.272511</td>\n",
       "      <td>28.165980</td>\n",
       "      <td>27.350276</td>\n",
       "      <td>28.128622</td>\n",
       "      <td>26.861036</td>\n",
       "    </tr>\n",
       "    <tr>\n",
       "      <th>min</th>\n",
       "      <td>5.000000</td>\n",
       "      <td>1.000000</td>\n",
       "      <td>0.000000</td>\n",
       "      <td>0.000000</td>\n",
       "      <td>1.000000</td>\n",
       "      <td>0.000000</td>\n",
       "    </tr>\n",
       "    <tr>\n",
       "      <th>25%</th>\n",
       "      <td>5.000000</td>\n",
       "      <td>1.000000</td>\n",
       "      <td>10.000000</td>\n",
       "      <td>42.000000</td>\n",
       "      <td>10.000000</td>\n",
       "      <td>40.750000</td>\n",
       "    </tr>\n",
       "    <tr>\n",
       "      <th>50%</th>\n",
       "      <td>5.000000</td>\n",
       "      <td>1.000000</td>\n",
       "      <td>45.000000</td>\n",
       "      <td>70.000000</td>\n",
       "      <td>46.000000</td>\n",
       "      <td>70.000000</td>\n",
       "    </tr>\n",
       "    <tr>\n",
       "      <th>75%</th>\n",
       "      <td>16.250000</td>\n",
       "      <td>57.250000</td>\n",
       "      <td>67.000000</td>\n",
       "      <td>80.000000</td>\n",
       "      <td>68.000000</td>\n",
       "      <td>80.000000</td>\n",
       "    </tr>\n",
       "    <tr>\n",
       "      <th>max</th>\n",
       "      <td>40.000000</td>\n",
       "      <td>80.000000</td>\n",
       "      <td>80.000000</td>\n",
       "      <td>100.000000</td>\n",
       "      <td>80.000000</td>\n",
       "      <td>100.000000</td>\n",
       "    </tr>\n",
       "  </tbody>\n",
       "</table>\n",
       "</div>"
      ],
      "text/plain": [
       "\n",
       "            Size  Min_req_level  Min_rec_level  Max_rec_level  Min_bot_level  \\\n",
       "count  \u001b[1;36m68.000000\u001b[0m     \u001b[1;36m160.000000\u001b[0m     \u001b[1;36m159.000000\u001b[0m     \u001b[1;36m159.000000\u001b[0m     \u001b[1;36m158.000000\u001b[0m   \n",
       "mean   \u001b[1;36m11.544118\u001b[0m      \u001b[1;36m22.975000\u001b[0m      \u001b[1;36m39.981132\u001b[0m      \u001b[1;36m61.918239\u001b[0m      \u001b[1;36m40.518987\u001b[0m   \n",
       "std    \u001b[1;36m10.935952\u001b[0m      \u001b[1;36m29.272511\u001b[0m      \u001b[1;36m28.165980\u001b[0m      \u001b[1;36m27.350276\u001b[0m      \u001b[1;36m28.128622\u001b[0m   \n",
       "min     \u001b[1;36m5.000000\u001b[0m       \u001b[1;36m1.000000\u001b[0m       \u001b[1;36m0.000000\u001b[0m       \u001b[1;36m0.000000\u001b[0m       \u001b[1;36m1.000000\u001b[0m   \n",
       "\u001b[1;36m25\u001b[0m%     \u001b[1;36m5.000000\u001b[0m       \u001b[1;36m1.000000\u001b[0m      \u001b[1;36m10.000000\u001b[0m      \u001b[1;36m42.000000\u001b[0m      \u001b[1;36m10.000000\u001b[0m   \n",
       "\u001b[1;36m50\u001b[0m%     \u001b[1;36m5.000000\u001b[0m       \u001b[1;36m1.000000\u001b[0m      \u001b[1;36m45.000000\u001b[0m      \u001b[1;36m70.000000\u001b[0m      \u001b[1;36m46.000000\u001b[0m   \n",
       "\u001b[1;36m75\u001b[0m%    \u001b[1;36m16.250000\u001b[0m      \u001b[1;36m57.250000\u001b[0m      \u001b[1;36m67.000000\u001b[0m      \u001b[1;36m80.000000\u001b[0m      \u001b[1;36m68.000000\u001b[0m   \n",
       "max    \u001b[1;36m40.000000\u001b[0m      \u001b[1;36m80.000000\u001b[0m      \u001b[1;36m80.000000\u001b[0m     \u001b[1;36m100.000000\u001b[0m      \u001b[1;36m80.000000\u001b[0m   \n",
       "\n",
       "       Max_bot_level  \n",
       "count     \u001b[1;36m158.000000\u001b[0m  \n",
       "mean       \u001b[1;36m61.974684\u001b[0m  \n",
       "std        \u001b[1;36m26.861036\u001b[0m  \n",
       "min         \u001b[1;36m0.000000\u001b[0m  \n",
       "\u001b[1;36m25\u001b[0m%        \u001b[1;36m40.750000\u001b[0m  \n",
       "\u001b[1;36m50\u001b[0m%        \u001b[1;36m70.000000\u001b[0m  \n",
       "\u001b[1;36m75\u001b[0m%        \u001b[1;36m80.000000\u001b[0m  \n",
       "max       \u001b[1;36m100.000000\u001b[0m  "
      ]
     },
     "execution_count": 216,
     "metadata": {},
     "output_type": "execute_result"
    }
   ],
   "source": [
    "zones.describe()"
   ]
  },
  {
   "cell_type": "code",
   "execution_count": 217,
   "id": "a95e0954-a32a-4fa6-88b6-d1fabb39750d",
   "metadata": {},
   "outputs": [
    {
     "name": "stdout",
     "output_type": "stream",
     "text": [
      "Análisis de Size:\n",
      " - Media (Promedio): 11.54 \n",
      " - Mediana: 5.00 \n",
      " - IQR (Rango Intercuartílico): 11.25 \n",
      " - Desviación estándar: 10.94 \n",
      " - Mínimo: 5.00, Máximo: 40.00 \n",
      "Análisis de Min_req_level:\n",
      " - Media (Promedio): 22.98 \n",
      " - Mediana: 1.00 \n",
      " - IQR (Rango Intercuartílico): 56.25 \n",
      " - Desviación estándar: 29.27 \n",
      " - Mínimo: 1.00, Máximo: 80.00 \n",
      "Análisis de Min_rec_level:\n",
      " - Media (Promedio): 39.98 \n",
      " - Mediana: 45.00 \n",
      " - IQR (Rango Intercuartílico): 57.00 \n",
      " - Desviación estándar: 28.17 \n",
      " - Mínimo: 0.00, Máximo: 80.00 \n",
      "Análisis de Max_rec_level:\n",
      " - Media (Promedio): 61.92 \n",
      " - Mediana: 70.00 \n",
      " - IQR (Rango Intercuartílico): 38.00 \n",
      " - Desviación estándar: 27.35 \n",
      " - Mínimo: 0.00, Máximo: 100.00 \n",
      "Análisis de Min_bot_level:\n",
      " - Media (Promedio): 40.52 \n",
      " - Mediana: 46.00 \n",
      " - IQR (Rango Intercuartílico): 58.00 \n",
      " - Desviación estándar: 28.13 \n",
      " - Mínimo: 1.00, Máximo: 80.00 \n",
      "Análisis de Max_bot_level:\n",
      " - Media (Promedio): 61.97 \n",
      " - Mediana: 70.00 \n",
      " - IQR (Rango Intercuartílico): 39.25 \n",
      " - Desviación estándar: 26.86 \n",
      " - Mínimo: 0.00, Máximo: 100.00 \n"
     ]
    }
   ],
   "source": [
    "zones.dtypes\n",
    "description = zones.describe()\n",
    "for column in description.columns:\n",
    "    print(f\"Análisis de {column}:\")\n",
    "    \n",
    "    mean_value = description.loc['mean', column]\n",
    "    print(f\" - Media (Promedio): {mean_value:.2f} \")\n",
    "    \n",
    "    median_value = zones[column].median()\n",
    "    print(f\" - Mediana: {median_value:.2f} \")\n",
    "    \n",
    "    q1 = description.loc['25%', column]\n",
    "    q3 = description.loc['75%', column]\n",
    "    iqr = q3 - q1\n",
    "    print(f\" - IQR (Rango Intercuartílico): {iqr:.2f} \")\n",
    "    \n",
    "    std_dev = description.loc['std', column]\n",
    "    print(f\" - Desviación estándar: {std_dev:.2f} \")\n",
    "    \n",
    "    min_value = description.loc['min', column]\n",
    "    max_value = description.loc['max', column]\n",
    "    print(f\" - Mínimo: {min_value:.2f}, Máximo: {max_value:.2f} \")\n"
   ]
  },
  {
   "cell_type": "markdown",
   "id": "537f8be3-45d2-408b-a9af-3db3b00d42ce",
   "metadata": {},
   "source": [
    "La mayoría de las zonas tienen tamaños pequeños, con un promedio de 11.54 y una mediana de 5.0. Hay una amplia variación en el tamaño (máximo 40). En cuanto a los niveles, el nivel mínimo requerido promedio es 22.98, pero la mayoría de las zonas tienen un nivel mínimo de 1, lo que indica que muchas están accesibles desde el inicio. El nivel recomendado mínimo promedio es 39.98, y el máximo es 61.92, lo que sugiere que las zonas están diseñadas para jugadores de nivel medio-alto. En cuanto a los bots, el nivel mínimo promedio es 40.52, con un máximo de 61.97, lo que indica que los bots son, en su mayoría, de niveles similares a los recomendados para jugadores."
   ]
  },
  {
   "cell_type": "code",
   "execution_count": 218,
   "id": "bb2f967f-ca76-4629-9531-ece2cc0084a6",
   "metadata": {},
   "outputs": [
    {
     "data": {
      "text/html": [
       "<pre style=\"white-space:pre;overflow-x:auto;line-height:normal;font-family:Menlo,'DejaVu Sans Mono',consolas,'Courier New',monospace\"></pre>\n"
      ],
      "text/plain": []
     },
     "metadata": {},
     "output_type": "display_data"
    },
    {
     "data": {
      "text/html": [
       "<div>\n",
       "<style scoped>\n",
       "    .dataframe tbody tr th:only-of-type {\n",
       "        vertical-align: middle;\n",
       "    }\n",
       "\n",
       "    .dataframe tbody tr th {\n",
       "        vertical-align: top;\n",
       "    }\n",
       "\n",
       "    .dataframe thead th {\n",
       "        text-align: right;\n",
       "    }\n",
       "</style>\n",
       "<table border=\"1\" class=\"dataframe\">\n",
       "  <thead>\n",
       "    <tr style=\"text-align: right;\">\n",
       "      <th></th>\n",
       "      <th>char</th>\n",
       "      <th>level</th>\n",
       "      <th>guild</th>\n",
       "    </tr>\n",
       "  </thead>\n",
       "  <tbody>\n",
       "    <tr>\n",
       "      <th>count</th>\n",
       "      <td>1.048575e+06</td>\n",
       "      <td>1.048575e+06</td>\n",
       "      <td>1.048575e+06</td>\n",
       "    </tr>\n",
       "    <tr>\n",
       "      <th>mean</th>\n",
       "      <td>3.722180e+04</td>\n",
       "      <td>6.056243e+01</td>\n",
       "      <td>1.218761e+02</td>\n",
       "    </tr>\n",
       "    <tr>\n",
       "      <th>std</th>\n",
       "      <td>2.172658e+04</td>\n",
       "      <td>1.784720e+01</td>\n",
       "      <td>9.460111e+01</td>\n",
       "    </tr>\n",
       "    <tr>\n",
       "      <th>min</th>\n",
       "      <td>7.000000e+00</td>\n",
       "      <td>1.000000e+00</td>\n",
       "      <td>-1.000000e+00</td>\n",
       "    </tr>\n",
       "    <tr>\n",
       "      <th>25%</th>\n",
       "      <td>2.209800e+04</td>\n",
       "      <td>6.100000e+01</td>\n",
       "      <td>3.500000e+01</td>\n",
       "    </tr>\n",
       "    <tr>\n",
       "      <th>50%</th>\n",
       "      <td>3.610600e+04</td>\n",
       "      <td>7.000000e+01</td>\n",
       "      <td>1.030000e+02</td>\n",
       "    </tr>\n",
       "    <tr>\n",
       "      <th>75%</th>\n",
       "      <td>5.950700e+04</td>\n",
       "      <td>7.000000e+01</td>\n",
       "      <td>2.040000e+02</td>\n",
       "    </tr>\n",
       "    <tr>\n",
       "      <th>max</th>\n",
       "      <td>6.704300e+04</td>\n",
       "      <td>7.000000e+01</td>\n",
       "      <td>3.160000e+02</td>\n",
       "    </tr>\n",
       "  </tbody>\n",
       "</table>\n",
       "</div>"
      ],
      "text/plain": [
       "\n",
       "               char         level         guild\n",
       "count  \u001b[1;36m1.048575e+06\u001b[0m  \u001b[1;36m1.048575e+06\u001b[0m  \u001b[1;36m1.048575e+06\u001b[0m\n",
       "mean   \u001b[1;36m3.722180e+04\u001b[0m  \u001b[1;36m6.056243e+01\u001b[0m  \u001b[1;36m1.218761e+02\u001b[0m\n",
       "std    \u001b[1;36m2.172658e+04\u001b[0m  \u001b[1;36m1.784720e+01\u001b[0m  \u001b[1;36m9.460111e+01\u001b[0m\n",
       "min    \u001b[1;36m7.000000e+00\u001b[0m  \u001b[1;36m1.000000e+00\u001b[0m \u001b[1;36m-1.000000e+00\u001b[0m\n",
       "\u001b[1;36m25\u001b[0m%    \u001b[1;36m2.209800e+04\u001b[0m  \u001b[1;36m6.100000e+01\u001b[0m  \u001b[1;36m3.500000e+01\u001b[0m\n",
       "\u001b[1;36m50\u001b[0m%    \u001b[1;36m3.610600e+04\u001b[0m  \u001b[1;36m7.000000e+01\u001b[0m  \u001b[1;36m1.030000e+02\u001b[0m\n",
       "\u001b[1;36m75\u001b[0m%    \u001b[1;36m5.950700e+04\u001b[0m  \u001b[1;36m7.000000e+01\u001b[0m  \u001b[1;36m2.040000e+02\u001b[0m\n",
       "max    \u001b[1;36m6.704300e+04\u001b[0m  \u001b[1;36m7.000000e+01\u001b[0m  \u001b[1;36m3.160000e+02\u001b[0m"
      ]
     },
     "execution_count": 218,
     "metadata": {},
     "output_type": "execute_result"
    }
   ],
   "source": [
    "wowah_data.describe()"
   ]
  },
  {
   "cell_type": "code",
   "execution_count": 219,
   "id": "37dedfad-a603-423e-b228-de074fd48dee",
   "metadata": {},
   "outputs": [
    {
     "name": "stdout",
     "output_type": "stream",
     "text": [
      "Análisis de char en wowah_data:\n",
      " - Media (Promedio): 37221.80 \n",
      " - Mediana: 36106.00 \n",
      " - IQR (Rango Intercuartílico): 37409.00 \n",
      " - Desviación estándar: 21726.58 \n",
      " - Mínimo: 7.00, Máximo: 67043.00 \n",
      "Análisis de level en wowah_data:\n",
      " - Media (Promedio): 60.56 \n",
      " - Mediana: 70.00 \n",
      " - IQR (Rango Intercuartílico): 9.00 \n",
      " - Desviación estándar: 17.85 \n",
      " - Mínimo: 1.00, Máximo: 70.00 \n",
      "Análisis de guild en wowah_data:\n",
      " - Media (Promedio): 121.88 \n",
      " - Mediana: 103.00 \n",
      " - IQR (Rango Intercuartílico): 169.00 \n",
      " - Desviación estándar: 94.60 \n",
      " - Mínimo: -1.00, Máximo: 316.00 \n"
     ]
    }
   ],
   "source": [
    "description_wowah = wowah_data.describe()\n",
    "\n",
    "for column in description_wowah.columns:\n",
    "    print(f\"Análisis de {column} en wowah_data:\")\n",
    "    \n",
    "    mean_value = description_wowah.loc['mean', column]\n",
    "    print(f\" - Media (Promedio): {mean_value:.2f} \")\n",
    "    \n",
    "    median_value = wowah_data[column].median()\n",
    "    print(f\" - Mediana: {median_value:.2f} \")\n",
    "    \n",
    "    q1 = description_wowah.loc['25%', column]\n",
    "    q3 = description_wowah.loc['75%', column]\n",
    "    iqr = q3 - q1\n",
    "    print(f\" - IQR (Rango Intercuartílico): {iqr:.2f} \")\n",
    "    \n",
    "    std_dev = description_wowah.loc['std', column]\n",
    "    print(f\" - Desviación estándar: {std_dev:.2f} \")\n",
    "    \n",
    "    min_value = description_wowah.loc['min', column]\n",
    "    max_value = description_wowah.loc['max', column]\n",
    "    print(f\" - Mínimo: {min_value:.2f}, Máximo: {max_value:.2f} \")\n",
    "\n"
   ]
  },
  {
   "cell_type": "markdown",
   "id": "81501d7d-b6e0-43c4-8196-34e3c6ce1a97",
   "metadata": {},
   "source": [
    "La mayoría de los personajes tienen niveles altos, con una media de 60.56 y una mediana de 70, lo que indica que muchos están cerca del nivel máximo del juego (70). Los datos de guild muestran una media de 121.88, aunque la variación es considerable, con un rango de -1 a 316, lo que podría implicar personajes sin gremio o pertenecientes a gremios grandes. En cuanto a los bots, el nivel mínimo requerido es bajo (promedio 40.52), pero muchos llegan hasta niveles más altos, cercanos a los recomendados para jugadores."
   ]
  },
  {
   "cell_type": "code",
   "execution_count": 220,
   "id": "abead009-3c04-4479-a322-c6d3ed518ea1",
   "metadata": {},
   "outputs": [
    {
     "data": {
      "text/html": [
       "<pre style=\"white-space:pre;overflow-x:auto;line-height:normal;font-family:Menlo,'DejaVu Sans Mono',consolas,'Courier New',monospace\"></pre>\n"
      ],
      "text/plain": []
     },
     "metadata": {},
     "output_type": "display_data"
    },
    {
     "data": {
      "text/html": [
       "<div>\n",
       "<style scoped>\n",
       "    .dataframe tbody tr th:only-of-type {\n",
       "        vertical-align: middle;\n",
       "    }\n",
       "\n",
       "    .dataframe tbody tr th {\n",
       "        vertical-align: top;\n",
       "    }\n",
       "\n",
       "    .dataframe thead th {\n",
       "        text-align: right;\n",
       "    }\n",
       "</style>\n",
       "<table border=\"1\" class=\"dataframe\">\n",
       "  <thead>\n",
       "    <tr style=\"text-align: right;\">\n",
       "      <th></th>\n",
       "      <th>Map_ID</th>\n",
       "    </tr>\n",
       "  </thead>\n",
       "  <tbody>\n",
       "    <tr>\n",
       "      <th>count</th>\n",
       "      <td>151.000000</td>\n",
       "    </tr>\n",
       "    <tr>\n",
       "      <th>mean</th>\n",
       "      <td>696.655629</td>\n",
       "    </tr>\n",
       "    <tr>\n",
       "      <th>std</th>\n",
       "      <td>337.953982</td>\n",
       "    </tr>\n",
       "    <tr>\n",
       "      <th>min</th>\n",
       "      <td>0.000000</td>\n",
       "    </tr>\n",
       "    <tr>\n",
       "      <th>25%</th>\n",
       "      <td>546.500000</td>\n",
       "    </tr>\n",
       "    <tr>\n",
       "      <th>50%</th>\n",
       "      <td>618.000000</td>\n",
       "    </tr>\n",
       "    <tr>\n",
       "      <th>75%</th>\n",
       "      <td>967.500000</td>\n",
       "    </tr>\n",
       "    <tr>\n",
       "      <th>max</th>\n",
       "      <td>1464.000000</td>\n",
       "    </tr>\n",
       "  </tbody>\n",
       "</table>\n",
       "</div>"
      ],
      "text/plain": [
       "\n",
       "            Map_ID\n",
       "count   \u001b[1;36m151.000000\u001b[0m\n",
       "mean    \u001b[1;36m696.655629\u001b[0m\n",
       "std     \u001b[1;36m337.953982\u001b[0m\n",
       "min       \u001b[1;36m0.000000\u001b[0m\n",
       "\u001b[1;36m25\u001b[0m%     \u001b[1;36m546.500000\u001b[0m\n",
       "\u001b[1;36m50\u001b[0m%     \u001b[1;36m618.000000\u001b[0m\n",
       "\u001b[1;36m75\u001b[0m%     \u001b[1;36m967.500000\u001b[0m\n",
       "max    \u001b[1;36m1464.000000\u001b[0m"
      ]
     },
     "execution_count": 220,
     "metadata": {},
     "output_type": "execute_result"
    }
   ],
   "source": [
    "locations.describe()"
   ]
  },
  {
   "cell_type": "code",
   "execution_count": 221,
   "id": "687fd46f-af4a-4299-8836-6eaf0c2d706a",
   "metadata": {},
   "outputs": [
    {
     "name": "stdout",
     "output_type": "stream",
     "text": [
      "Análisis de Map_ID en locations:\n",
      " - Media (Promedio): 696.66 \n",
      " - Mediana: 618.00 \n",
      " - IQR (Rango Intercuartílico): 421.00 \n",
      " - Desviación estándar: 337.95 \n",
      " - Mínimo: 0.00, Máximo: 1464.00 \n"
     ]
    }
   ],
   "source": [
    "description_locations = locations.describe()\n",
    "\n",
    "for column in description_locations.columns:\n",
    "    print(f\"Análisis de {column} en locations:\")\n",
    "    \n",
    "    mean_value = description_locations.loc['mean', column]\n",
    "    print(f\" - Media (Promedio): {mean_value:.2f} \")\n",
    "    \n",
    "    median_value = locations[column].median()\n",
    "    print(f\" - Mediana: {median_value:.2f} \")\n",
    "\n",
    "    q1 = description_locations.loc['25%', column]\n",
    "    q3 = description_locations.loc['75%', column]\n",
    "    iqr = q3 - q1\n",
    "    print(f\" - IQR (Rango Intercuartílico): {iqr:.2f} \")\n",
    "    \n",
    "    std_dev = description_locations.loc['std', column]\n",
    "    print(f\" - Desviación estándar: {std_dev:.2f} \")\n",
    "    \n",
    "    min_value = description_locations.loc['min', column]\n",
    "    max_value = description_locations.loc['max', column]\n",
    "    print(f\" - Mínimo: {min_value:.2f}, Máximo: {max_value:.2f} \")\n",
    "   "
   ]
  },
  {
   "cell_type": "markdown",
   "id": "07ded74c-b703-4480-9bea-65ff6351675b",
   "metadata": {},
   "source": [
    "La mayoría de las zonas tienen tamaños pequeños, con un promedio de 11.54 y una mediana de 5.0. El nivel mínimo requerido es bajo, con una media de 22.98, lo que indica accesibilidad desde el inicio del juego. El nivel recomendado mínimo es 39.98, con un máximo de 61.92, sugiriendo que están diseñadas para jugadores de nivel medio-alto. En cuanto a los bots, el nivel mínimo promedio es 40.52, lo que indica que operan en un rango similar a los niveles recomendados para los jugadores. Además, el Map_ID muestra una media de 696.66, con una considerable variación (máximo 1464), lo que sugiere una diversidad en los mapas disponibles."
   ]
  },
  {
   "cell_type": "markdown",
   "id": "a23682ce-7441-4699-a6d3-01edc74ab9e3",
   "metadata": {},
   "source": [
    "Para entender mejor los datos numéricos en nuestro dataset zones, usamos .describe(). Este comando nos da un vistazo rápido a cómo se distribuyen los números en las columnas del dataset:"
   ]
  },
  {
   "cell_type": "code",
   "execution_count": 222,
   "id": "7b51d91a-1ce8-42b3-be16-6b0a2c80ed31",
   "metadata": {},
   "outputs": [
    {
     "data": {
      "text/html": [
       "<pre style=\"white-space:pre;overflow-x:auto;line-height:normal;font-family:Menlo,'DejaVu Sans Mono',consolas,'Courier New',monospace\"></pre>\n"
      ],
      "text/plain": []
     },
     "metadata": {},
     "output_type": "display_data"
    },
    {
     "data": {
      "text/html": [
       "<div>\n",
       "<style scoped>\n",
       "    .dataframe tbody tr th:only-of-type {\n",
       "        vertical-align: middle;\n",
       "    }\n",
       "\n",
       "    .dataframe tbody tr th {\n",
       "        vertical-align: top;\n",
       "    }\n",
       "\n",
       "    .dataframe thead th {\n",
       "        text-align: right;\n",
       "    }\n",
       "</style>\n",
       "<table border=\"1\" class=\"dataframe\">\n",
       "  <thead>\n",
       "    <tr style=\"text-align: right;\">\n",
       "      <th></th>\n",
       "      <th>count</th>\n",
       "      <th>mean</th>\n",
       "      <th>std</th>\n",
       "      <th>min</th>\n",
       "      <th>25%</th>\n",
       "      <th>50%</th>\n",
       "      <th>75%</th>\n",
       "      <th>max</th>\n",
       "    </tr>\n",
       "  </thead>\n",
       "  <tbody>\n",
       "    <tr>\n",
       "      <th>Size</th>\n",
       "      <td>68.0</td>\n",
       "      <td>11.544118</td>\n",
       "      <td>10.935952</td>\n",
       "      <td>5.0</td>\n",
       "      <td>5.00</td>\n",
       "      <td>5.0</td>\n",
       "      <td>16.25</td>\n",
       "      <td>40.0</td>\n",
       "    </tr>\n",
       "    <tr>\n",
       "      <th>Min_req_level</th>\n",
       "      <td>160.0</td>\n",
       "      <td>22.975000</td>\n",
       "      <td>29.272511</td>\n",
       "      <td>1.0</td>\n",
       "      <td>1.00</td>\n",
       "      <td>1.0</td>\n",
       "      <td>57.25</td>\n",
       "      <td>80.0</td>\n",
       "    </tr>\n",
       "    <tr>\n",
       "      <th>Min_rec_level</th>\n",
       "      <td>159.0</td>\n",
       "      <td>39.981132</td>\n",
       "      <td>28.165980</td>\n",
       "      <td>0.0</td>\n",
       "      <td>10.00</td>\n",
       "      <td>45.0</td>\n",
       "      <td>67.00</td>\n",
       "      <td>80.0</td>\n",
       "    </tr>\n",
       "    <tr>\n",
       "      <th>Max_rec_level</th>\n",
       "      <td>159.0</td>\n",
       "      <td>61.918239</td>\n",
       "      <td>27.350276</td>\n",
       "      <td>0.0</td>\n",
       "      <td>42.00</td>\n",
       "      <td>70.0</td>\n",
       "      <td>80.00</td>\n",
       "      <td>100.0</td>\n",
       "    </tr>\n",
       "    <tr>\n",
       "      <th>Min_bot_level</th>\n",
       "      <td>158.0</td>\n",
       "      <td>40.518987</td>\n",
       "      <td>28.128622</td>\n",
       "      <td>1.0</td>\n",
       "      <td>10.00</td>\n",
       "      <td>46.0</td>\n",
       "      <td>68.00</td>\n",
       "      <td>80.0</td>\n",
       "    </tr>\n",
       "    <tr>\n",
       "      <th>Max_bot_level</th>\n",
       "      <td>158.0</td>\n",
       "      <td>61.974684</td>\n",
       "      <td>26.861036</td>\n",
       "      <td>0.0</td>\n",
       "      <td>40.75</td>\n",
       "      <td>70.0</td>\n",
       "      <td>80.00</td>\n",
       "      <td>100.0</td>\n",
       "    </tr>\n",
       "  </tbody>\n",
       "</table>\n",
       "</div>"
      ],
      "text/plain": [
       "\n",
       "               count       mean        std  min    \u001b[1;36m25\u001b[0m%   \u001b[1;36m50\u001b[0m%    \u001b[1;36m75\u001b[0m%    max\n",
       "Size            \u001b[1;36m68.0\u001b[0m  \u001b[1;36m11.544118\u001b[0m  \u001b[1;36m10.935952\u001b[0m  \u001b[1;36m5.0\u001b[0m   \u001b[1;36m5.00\u001b[0m   \u001b[1;36m5.0\u001b[0m  \u001b[1;36m16.25\u001b[0m   \u001b[1;36m40.0\u001b[0m\n",
       "Min_req_level  \u001b[1;36m160.0\u001b[0m  \u001b[1;36m22.975000\u001b[0m  \u001b[1;36m29.272511\u001b[0m  \u001b[1;36m1.0\u001b[0m   \u001b[1;36m1.00\u001b[0m   \u001b[1;36m1.0\u001b[0m  \u001b[1;36m57.25\u001b[0m   \u001b[1;36m80.0\u001b[0m\n",
       "Min_rec_level  \u001b[1;36m159.0\u001b[0m  \u001b[1;36m39.981132\u001b[0m  \u001b[1;36m28.165980\u001b[0m  \u001b[1;36m0.0\u001b[0m  \u001b[1;36m10.00\u001b[0m  \u001b[1;36m45.0\u001b[0m  \u001b[1;36m67.00\u001b[0m   \u001b[1;36m80.0\u001b[0m\n",
       "Max_rec_level  \u001b[1;36m159.0\u001b[0m  \u001b[1;36m61.918239\u001b[0m  \u001b[1;36m27.350276\u001b[0m  \u001b[1;36m0.0\u001b[0m  \u001b[1;36m42.00\u001b[0m  \u001b[1;36m70.0\u001b[0m  \u001b[1;36m80.00\u001b[0m  \u001b[1;36m100.0\u001b[0m\n",
       "Min_bot_level  \u001b[1;36m158.0\u001b[0m  \u001b[1;36m40.518987\u001b[0m  \u001b[1;36m28.128622\u001b[0m  \u001b[1;36m1.0\u001b[0m  \u001b[1;36m10.00\u001b[0m  \u001b[1;36m46.0\u001b[0m  \u001b[1;36m68.00\u001b[0m   \u001b[1;36m80.0\u001b[0m\n",
       "Max_bot_level  \u001b[1;36m158.0\u001b[0m  \u001b[1;36m61.974684\u001b[0m  \u001b[1;36m26.861036\u001b[0m  \u001b[1;36m0.0\u001b[0m  \u001b[1;36m40.75\u001b[0m  \u001b[1;36m70.0\u001b[0m  \u001b[1;36m80.00\u001b[0m  \u001b[1;36m100.0\u001b[0m"
      ]
     },
     "execution_count": 222,
     "metadata": {},
     "output_type": "execute_result"
    }
   ],
   "source": [
    "zones.describe().T"
   ]
  },
  {
   "cell_type": "code",
   "execution_count": 223,
   "id": "abfb5812-0a53-4dee-8a09-f5ffa1ac1bc5",
   "metadata": {},
   "outputs": [
    {
     "data": {
      "text/html": [
       "<pre style=\"white-space:pre;overflow-x:auto;line-height:normal;font-family:Menlo,'DejaVu Sans Mono',consolas,'Courier New',monospace\"></pre>\n"
      ],
      "text/plain": []
     },
     "metadata": {},
     "output_type": "display_data"
    },
    {
     "data": {
      "text/plain": [
       "\n",
       "Zone_Name          \u001b[1;36m0\u001b[0m\n",
       "Continent          \u001b[1;36m0\u001b[0m\n",
       "Area               \u001b[1;36m3\u001b[0m\n",
       "Zone               \u001b[1;36m7\u001b[0m\n",
       "Subzone          \u001b[1;36m108\u001b[0m\n",
       "Type               \u001b[1;36m0\u001b[0m\n",
       "Size              \u001b[1;36m92\u001b[0m\n",
       "Controlled         \u001b[1;36m0\u001b[0m\n",
       "Min_req_level      \u001b[1;36m0\u001b[0m\n",
       "Min_rec_level      \u001b[1;36m1\u001b[0m\n",
       "Max_rec_level      \u001b[1;36m1\u001b[0m\n",
       "Min_bot_level      \u001b[1;36m2\u001b[0m\n",
       "Max_bot_level      \u001b[1;36m2\u001b[0m\n",
       "dtype: int64"
      ]
     },
     "execution_count": 223,
     "metadata": {},
     "output_type": "execute_result"
    }
   ],
   "source": [
    "zones.isna().sum()"
   ]
  },
  {
   "cell_type": "markdown",
   "id": "f3b955ed-778e-4bcd-b180-36615d83bc71",
   "metadata": {},
   "source": [
    "Al ver siguiente analisis de datos nos damos que hay columnas con datos faltantes."
   ]
  },
  {
   "cell_type": "code",
   "execution_count": 224,
   "id": "8b958982-530f-46d7-abf6-f4cc6908cdfd",
   "metadata": {},
   "outputs": [
    {
     "data": {
      "text/html": [
       "<pre style=\"white-space:pre;overflow-x:auto;line-height:normal;font-family:Menlo,'DejaVu Sans Mono',consolas,'Courier New',monospace\"></pre>\n"
      ],
      "text/plain": []
     },
     "metadata": {},
     "output_type": "display_data"
    },
    {
     "data": {
      "text/plain": [
       "\u001b[1m(\u001b[0m\u001b[1;36m160\u001b[0m, \u001b[1;36m13\u001b[0m\u001b[1m)\u001b[0m"
      ]
     },
     "execution_count": 224,
     "metadata": {},
     "output_type": "execute_result"
    }
   ],
   "source": [
    "filas, columnas = zones.shape\n",
    "filas , columnas "
   ]
  },
  {
   "cell_type": "markdown",
   "id": "aeb054ea-fbb8-47e2-ac08-3bbc5e4f2ed9",
   "metadata": {},
   "source": [
    "A continuación, exploraremos cuáles son las clases más jugadas en World of Warcraft. Identificar las clases más populares nos ayudará a comprender mejor las preferencias de los jugadores y cómo se distribuyen entre las diferentes opciones disponibles en el juego."
   ]
  },
  {
   "cell_type": "code",
   "execution_count": 225,
   "id": "b909205b-e717-4333-b26b-6069eed690c4",
   "metadata": {},
   "outputs": [
    {
     "data": {
      "application/vnd.plotly.v1+json": {
       "config": {
        "plotlyServerURL": "https://plot.ly"
       },
       "data": [
        {
         "hole": 0.3,
         "insidetextorientation": "radial",
         "labels": [
          "Hunter",
          "Mage",
          "Warlock",
          "Warrior",
          "Priest",
          "Rogue",
          "Paladin",
          "Druid",
          "Shaman"
         ],
         "marker": {
          "colors": [
           "#ABD473",
           "#69CCF0",
           "#9482C9",
           "#C79C6E",
           "#FFFFFF",
           "#FFF569",
           "#F58CBA",
           "#FF7D0A",
           "#0070DE"
          ]
         },
         "textinfo": "label+percent",
         "type": "pie",
         "values": [
          155891,
          151202,
          138181,
          124262,
          116138,
          108818,
          108734,
          80061,
          65288
         ]
        }
       ],
       "layout": {
        "annotations": [
         {
          "font": {
           "size": 20
          },
          "showarrow": false,
          "text": "Distribución de<br>Personajes",
          "x": 0.5,
          "y": 0.5
         }
        ],
        "height": 600,
        "legend": {
         "orientation": "v",
         "title": {
          "text": "Clase"
         },
         "traceorder": "normal",
         "x": 1.05,
         "y": 0.5
        },
        "margin": {
         "b": 0,
         "l": 0,
         "r": 150,
         "t": 50
        },
        "template": {
         "data": {
          "bar": [
           {
            "error_x": {
             "color": "#2a3f5f"
            },
            "error_y": {
             "color": "#2a3f5f"
            },
            "marker": {
             "line": {
              "color": "#E5ECF6",
              "width": 0.5
             },
             "pattern": {
              "fillmode": "overlay",
              "size": 10,
              "solidity": 0.2
             }
            },
            "type": "bar"
           }
          ],
          "barpolar": [
           {
            "marker": {
             "line": {
              "color": "#E5ECF6",
              "width": 0.5
             },
             "pattern": {
              "fillmode": "overlay",
              "size": 10,
              "solidity": 0.2
             }
            },
            "type": "barpolar"
           }
          ],
          "carpet": [
           {
            "aaxis": {
             "endlinecolor": "#2a3f5f",
             "gridcolor": "white",
             "linecolor": "white",
             "minorgridcolor": "white",
             "startlinecolor": "#2a3f5f"
            },
            "baxis": {
             "endlinecolor": "#2a3f5f",
             "gridcolor": "white",
             "linecolor": "white",
             "minorgridcolor": "white",
             "startlinecolor": "#2a3f5f"
            },
            "type": "carpet"
           }
          ],
          "choropleth": [
           {
            "colorbar": {
             "outlinewidth": 0,
             "ticks": ""
            },
            "type": "choropleth"
           }
          ],
          "contour": [
           {
            "colorbar": {
             "outlinewidth": 0,
             "ticks": ""
            },
            "colorscale": [
             [
              0,
              "#0d0887"
             ],
             [
              0.1111111111111111,
              "#46039f"
             ],
             [
              0.2222222222222222,
              "#7201a8"
             ],
             [
              0.3333333333333333,
              "#9c179e"
             ],
             [
              0.4444444444444444,
              "#bd3786"
             ],
             [
              0.5555555555555556,
              "#d8576b"
             ],
             [
              0.6666666666666666,
              "#ed7953"
             ],
             [
              0.7777777777777778,
              "#fb9f3a"
             ],
             [
              0.8888888888888888,
              "#fdca26"
             ],
             [
              1,
              "#f0f921"
             ]
            ],
            "type": "contour"
           }
          ],
          "contourcarpet": [
           {
            "colorbar": {
             "outlinewidth": 0,
             "ticks": ""
            },
            "type": "contourcarpet"
           }
          ],
          "heatmap": [
           {
            "colorbar": {
             "outlinewidth": 0,
             "ticks": ""
            },
            "colorscale": [
             [
              0,
              "#0d0887"
             ],
             [
              0.1111111111111111,
              "#46039f"
             ],
             [
              0.2222222222222222,
              "#7201a8"
             ],
             [
              0.3333333333333333,
              "#9c179e"
             ],
             [
              0.4444444444444444,
              "#bd3786"
             ],
             [
              0.5555555555555556,
              "#d8576b"
             ],
             [
              0.6666666666666666,
              "#ed7953"
             ],
             [
              0.7777777777777778,
              "#fb9f3a"
             ],
             [
              0.8888888888888888,
              "#fdca26"
             ],
             [
              1,
              "#f0f921"
             ]
            ],
            "type": "heatmap"
           }
          ],
          "heatmapgl": [
           {
            "colorbar": {
             "outlinewidth": 0,
             "ticks": ""
            },
            "colorscale": [
             [
              0,
              "#0d0887"
             ],
             [
              0.1111111111111111,
              "#46039f"
             ],
             [
              0.2222222222222222,
              "#7201a8"
             ],
             [
              0.3333333333333333,
              "#9c179e"
             ],
             [
              0.4444444444444444,
              "#bd3786"
             ],
             [
              0.5555555555555556,
              "#d8576b"
             ],
             [
              0.6666666666666666,
              "#ed7953"
             ],
             [
              0.7777777777777778,
              "#fb9f3a"
             ],
             [
              0.8888888888888888,
              "#fdca26"
             ],
             [
              1,
              "#f0f921"
             ]
            ],
            "type": "heatmapgl"
           }
          ],
          "histogram": [
           {
            "marker": {
             "pattern": {
              "fillmode": "overlay",
              "size": 10,
              "solidity": 0.2
             }
            },
            "type": "histogram"
           }
          ],
          "histogram2d": [
           {
            "colorbar": {
             "outlinewidth": 0,
             "ticks": ""
            },
            "colorscale": [
             [
              0,
              "#0d0887"
             ],
             [
              0.1111111111111111,
              "#46039f"
             ],
             [
              0.2222222222222222,
              "#7201a8"
             ],
             [
              0.3333333333333333,
              "#9c179e"
             ],
             [
              0.4444444444444444,
              "#bd3786"
             ],
             [
              0.5555555555555556,
              "#d8576b"
             ],
             [
              0.6666666666666666,
              "#ed7953"
             ],
             [
              0.7777777777777778,
              "#fb9f3a"
             ],
             [
              0.8888888888888888,
              "#fdca26"
             ],
             [
              1,
              "#f0f921"
             ]
            ],
            "type": "histogram2d"
           }
          ],
          "histogram2dcontour": [
           {
            "colorbar": {
             "outlinewidth": 0,
             "ticks": ""
            },
            "colorscale": [
             [
              0,
              "#0d0887"
             ],
             [
              0.1111111111111111,
              "#46039f"
             ],
             [
              0.2222222222222222,
              "#7201a8"
             ],
             [
              0.3333333333333333,
              "#9c179e"
             ],
             [
              0.4444444444444444,
              "#bd3786"
             ],
             [
              0.5555555555555556,
              "#d8576b"
             ],
             [
              0.6666666666666666,
              "#ed7953"
             ],
             [
              0.7777777777777778,
              "#fb9f3a"
             ],
             [
              0.8888888888888888,
              "#fdca26"
             ],
             [
              1,
              "#f0f921"
             ]
            ],
            "type": "histogram2dcontour"
           }
          ],
          "mesh3d": [
           {
            "colorbar": {
             "outlinewidth": 0,
             "ticks": ""
            },
            "type": "mesh3d"
           }
          ],
          "parcoords": [
           {
            "line": {
             "colorbar": {
              "outlinewidth": 0,
              "ticks": ""
             }
            },
            "type": "parcoords"
           }
          ],
          "pie": [
           {
            "automargin": true,
            "type": "pie"
           }
          ],
          "scatter": [
           {
            "fillpattern": {
             "fillmode": "overlay",
             "size": 10,
             "solidity": 0.2
            },
            "type": "scatter"
           }
          ],
          "scatter3d": [
           {
            "line": {
             "colorbar": {
              "outlinewidth": 0,
              "ticks": ""
             }
            },
            "marker": {
             "colorbar": {
              "outlinewidth": 0,
              "ticks": ""
             }
            },
            "type": "scatter3d"
           }
          ],
          "scattercarpet": [
           {
            "marker": {
             "colorbar": {
              "outlinewidth": 0,
              "ticks": ""
             }
            },
            "type": "scattercarpet"
           }
          ],
          "scattergeo": [
           {
            "marker": {
             "colorbar": {
              "outlinewidth": 0,
              "ticks": ""
             }
            },
            "type": "scattergeo"
           }
          ],
          "scattergl": [
           {
            "marker": {
             "colorbar": {
              "outlinewidth": 0,
              "ticks": ""
             }
            },
            "type": "scattergl"
           }
          ],
          "scattermapbox": [
           {
            "marker": {
             "colorbar": {
              "outlinewidth": 0,
              "ticks": ""
             }
            },
            "type": "scattermapbox"
           }
          ],
          "scatterpolar": [
           {
            "marker": {
             "colorbar": {
              "outlinewidth": 0,
              "ticks": ""
             }
            },
            "type": "scatterpolar"
           }
          ],
          "scatterpolargl": [
           {
            "marker": {
             "colorbar": {
              "outlinewidth": 0,
              "ticks": ""
             }
            },
            "type": "scatterpolargl"
           }
          ],
          "scatterternary": [
           {
            "marker": {
             "colorbar": {
              "outlinewidth": 0,
              "ticks": ""
             }
            },
            "type": "scatterternary"
           }
          ],
          "surface": [
           {
            "colorbar": {
             "outlinewidth": 0,
             "ticks": ""
            },
            "colorscale": [
             [
              0,
              "#0d0887"
             ],
             [
              0.1111111111111111,
              "#46039f"
             ],
             [
              0.2222222222222222,
              "#7201a8"
             ],
             [
              0.3333333333333333,
              "#9c179e"
             ],
             [
              0.4444444444444444,
              "#bd3786"
             ],
             [
              0.5555555555555556,
              "#d8576b"
             ],
             [
              0.6666666666666666,
              "#ed7953"
             ],
             [
              0.7777777777777778,
              "#fb9f3a"
             ],
             [
              0.8888888888888888,
              "#fdca26"
             ],
             [
              1,
              "#f0f921"
             ]
            ],
            "type": "surface"
           }
          ],
          "table": [
           {
            "cells": {
             "fill": {
              "color": "#EBF0F8"
             },
             "line": {
              "color": "white"
             }
            },
            "header": {
             "fill": {
              "color": "#C8D4E3"
             },
             "line": {
              "color": "white"
             }
            },
            "type": "table"
           }
          ]
         },
         "layout": {
          "annotationdefaults": {
           "arrowcolor": "#2a3f5f",
           "arrowhead": 0,
           "arrowwidth": 1
          },
          "autotypenumbers": "strict",
          "coloraxis": {
           "colorbar": {
            "outlinewidth": 0,
            "ticks": ""
           }
          },
          "colorscale": {
           "diverging": [
            [
             0,
             "#8e0152"
            ],
            [
             0.1,
             "#c51b7d"
            ],
            [
             0.2,
             "#de77ae"
            ],
            [
             0.3,
             "#f1b6da"
            ],
            [
             0.4,
             "#fde0ef"
            ],
            [
             0.5,
             "#f7f7f7"
            ],
            [
             0.6,
             "#e6f5d0"
            ],
            [
             0.7,
             "#b8e186"
            ],
            [
             0.8,
             "#7fbc41"
            ],
            [
             0.9,
             "#4d9221"
            ],
            [
             1,
             "#276419"
            ]
           ],
           "sequential": [
            [
             0,
             "#0d0887"
            ],
            [
             0.1111111111111111,
             "#46039f"
            ],
            [
             0.2222222222222222,
             "#7201a8"
            ],
            [
             0.3333333333333333,
             "#9c179e"
            ],
            [
             0.4444444444444444,
             "#bd3786"
            ],
            [
             0.5555555555555556,
             "#d8576b"
            ],
            [
             0.6666666666666666,
             "#ed7953"
            ],
            [
             0.7777777777777778,
             "#fb9f3a"
            ],
            [
             0.8888888888888888,
             "#fdca26"
            ],
            [
             1,
             "#f0f921"
            ]
           ],
           "sequentialminus": [
            [
             0,
             "#0d0887"
            ],
            [
             0.1111111111111111,
             "#46039f"
            ],
            [
             0.2222222222222222,
             "#7201a8"
            ],
            [
             0.3333333333333333,
             "#9c179e"
            ],
            [
             0.4444444444444444,
             "#bd3786"
            ],
            [
             0.5555555555555556,
             "#d8576b"
            ],
            [
             0.6666666666666666,
             "#ed7953"
            ],
            [
             0.7777777777777778,
             "#fb9f3a"
            ],
            [
             0.8888888888888888,
             "#fdca26"
            ],
            [
             1,
             "#f0f921"
            ]
           ]
          },
          "colorway": [
           "#636efa",
           "#EF553B",
           "#00cc96",
           "#ab63fa",
           "#FFA15A",
           "#19d3f3",
           "#FF6692",
           "#B6E880",
           "#FF97FF",
           "#FECB52"
          ],
          "font": {
           "color": "#2a3f5f"
          },
          "geo": {
           "bgcolor": "white",
           "lakecolor": "white",
           "landcolor": "#E5ECF6",
           "showlakes": true,
           "showland": true,
           "subunitcolor": "white"
          },
          "hoverlabel": {
           "align": "left"
          },
          "hovermode": "closest",
          "mapbox": {
           "style": "light"
          },
          "paper_bgcolor": "white",
          "plot_bgcolor": "#E5ECF6",
          "polar": {
           "angularaxis": {
            "gridcolor": "white",
            "linecolor": "white",
            "ticks": ""
           },
           "bgcolor": "#E5ECF6",
           "radialaxis": {
            "gridcolor": "white",
            "linecolor": "white",
            "ticks": ""
           }
          },
          "scene": {
           "xaxis": {
            "backgroundcolor": "#E5ECF6",
            "gridcolor": "white",
            "gridwidth": 2,
            "linecolor": "white",
            "showbackground": true,
            "ticks": "",
            "zerolinecolor": "white"
           },
           "yaxis": {
            "backgroundcolor": "#E5ECF6",
            "gridcolor": "white",
            "gridwidth": 2,
            "linecolor": "white",
            "showbackground": true,
            "ticks": "",
            "zerolinecolor": "white"
           },
           "zaxis": {
            "backgroundcolor": "#E5ECF6",
            "gridcolor": "white",
            "gridwidth": 2,
            "linecolor": "white",
            "showbackground": true,
            "ticks": "",
            "zerolinecolor": "white"
           }
          },
          "shapedefaults": {
           "line": {
            "color": "#2a3f5f"
           }
          },
          "ternary": {
           "aaxis": {
            "gridcolor": "white",
            "linecolor": "white",
            "ticks": ""
           },
           "baxis": {
            "gridcolor": "white",
            "linecolor": "white",
            "ticks": ""
           },
           "bgcolor": "#E5ECF6",
           "caxis": {
            "gridcolor": "white",
            "linecolor": "white",
            "ticks": ""
           }
          },
          "title": {
           "x": 0.05
          },
          "xaxis": {
           "automargin": true,
           "gridcolor": "white",
           "linecolor": "white",
           "ticks": "",
           "title": {
            "standoff": 15
           },
           "zerolinecolor": "white",
           "zerolinewidth": 2
          },
          "yaxis": {
           "automargin": true,
           "gridcolor": "white",
           "linecolor": "white",
           "ticks": "",
           "title": {
            "standoff": 15
           },
           "zerolinecolor": "white",
           "zerolinewidth": 2
          }
         }
        },
        "title": {
         "font": {
          "size": 24
         },
         "text": "Distribución de Personajes por Clase",
         "x": 0.5,
         "y": 0.95
        },
        "width": 800
       }
      },
      "image/png": "[encoded data removed]",
      "text/html": [
       "<div>                            <div id=\"c0613d95-e0cb-43de-8c93-3e954199d168\" class=\"plotly-graph-div\" style=\"height:600px; width:800px;\"></div>            <script type=\"text/javascript\">                require([\"plotly\"], function(Plotly) {                    window.PLOTLYENV=window.PLOTLYENV || {};                                    if (document.getElementById(\"c0613d95-e0cb-43de-8c93-3e954199d168\")) {                    Plotly.newPlot(                        \"c0613d95-e0cb-43de-8c93-3e954199d168\",                        [{\"hole\":0.3,\"insidetextorientation\":\"radial\",\"labels\":[\"Hunter\",\"Mage\",\"Warlock\",\"Warrior\",\"Priest\",\"Rogue\",\"Paladin\",\"Druid\",\"Shaman\"],\"marker\":{\"colors\":[\"#ABD473\",\"#69CCF0\",\"#9482C9\",\"#C79C6E\",\"#FFFFFF\",\"#FFF569\",\"#F58CBA\",\"#FF7D0A\",\"#0070DE\"]},\"textinfo\":\"label+percent\",\"values\":[155891,151202,138181,124262,116138,108818,108734,80061,65288],\"type\":\"pie\"}],                        {\"template\":{\"data\":{\"histogram2dcontour\":[{\"type\":\"histogram2dcontour\",\"colorbar\":{\"outlinewidth\":0,\"ticks\":\"\"},\"colorscale\":[[0.0,\"#0d0887\"],[0.1111111111111111,\"#46039f\"],[0.2222222222222222,\"#7201a8\"],[0.3333333333333333,\"#9c179e\"],[0.4444444444444444,\"#bd3786\"],[0.5555555555555556,\"#d8576b\"],[0.6666666666666666,\"#ed7953\"],[0.7777777777777778,\"#fb9f3a\"],[0.8888888888888888,\"#fdca26\"],[1.0,\"#f0f921\"]]}],\"choropleth\":[{\"type\":\"choropleth\",\"colorbar\":{\"outlinewidth\":0,\"ticks\":\"\"}}],\"histogram2d\":[{\"type\":\"histogram2d\",\"colorbar\":{\"outlinewidth\":0,\"ticks\":\"\"},\"colorscale\":[[0.0,\"#0d0887\"],[0.1111111111111111,\"#46039f\"],[0.2222222222222222,\"#7201a8\"],[0.3333333333333333,\"#9c179e\"],[0.4444444444444444,\"#bd3786\"],[0.5555555555555556,\"#d8576b\"],[0.6666666666666666,\"#ed7953\"],[0.7777777777777778,\"#fb9f3a\"],[0.8888888888888888,\"#fdca26\"],[1.0,\"#f0f921\"]]}],\"heatmap\":[{\"type\":\"heatmap\",\"colorbar\":{\"outlinewidth\":0,\"ticks\":\"\"},\"colorscale\":[[0.0,\"#0d0887\"],[0.1111111111111111,\"#46039f\"],[0.2222222222222222,\"#7201a8\"],[0.3333333333333333,\"#9c179e\"],[0.4444444444444444,\"#bd3786\"],[0.5555555555555556,\"#d8576b\"],[0.6666666666666666,\"#ed7953\"],[0.7777777777777778,\"#fb9f3a\"],[0.8888888888888888,\"#fdca26\"],[1.0,\"#f0f921\"]]}],\"heatmapgl\":[{\"type\":\"heatmapgl\",\"colorbar\":{\"outlinewidth\":0,\"ticks\":\"\"},\"colorscale\":[[0.0,\"#0d0887\"],[0.1111111111111111,\"#46039f\"],[0.2222222222222222,\"#7201a8\"],[0.3333333333333333,\"#9c179e\"],[0.4444444444444444,\"#bd3786\"],[0.5555555555555556,\"#d8576b\"],[0.6666666666666666,\"#ed7953\"],[0.7777777777777778,\"#fb9f3a\"],[0.8888888888888888,\"#fdca26\"],[1.0,\"#f0f921\"]]}],\"contourcarpet\":[{\"type\":\"contourcarpet\",\"colorbar\":{\"outlinewidth\":0,\"ticks\":\"\"}}],\"contour\":[{\"type\":\"contour\",\"colorbar\":{\"outlinewidth\":0,\"ticks\":\"\"},\"colorscale\":[[0.0,\"#0d0887\"],[0.1111111111111111,\"#46039f\"],[0.2222222222222222,\"#7201a8\"],[0.3333333333333333,\"#9c179e\"],[0.4444444444444444,\"#bd3786\"],[0.5555555555555556,\"#d8576b\"],[0.6666666666666666,\"#ed7953\"],[0.7777777777777778,\"#fb9f3a\"],[0.8888888888888888,\"#fdca26\"],[1.0,\"#f0f921\"]]}],\"surface\":[{\"type\":\"surface\",\"colorbar\":{\"outlinewidth\":0,\"ticks\":\"\"},\"colorscale\":[[0.0,\"#0d0887\"],[0.1111111111111111,\"#46039f\"],[0.2222222222222222,\"#7201a8\"],[0.3333333333333333,\"#9c179e\"],[0.4444444444444444,\"#bd3786\"],[0.5555555555555556,\"#d8576b\"],[0.6666666666666666,\"#ed7953\"],[0.7777777777777778,\"#fb9f3a\"],[0.8888888888888888,\"#fdca26\"],[1.0,\"#f0f921\"]]}],\"mesh3d\":[{\"type\":\"mesh3d\",\"colorbar\":{\"outlinewidth\":0,\"ticks\":\"\"}}],\"scatter\":[{\"fillpattern\":{\"fillmode\":\"overlay\",\"size\":10,\"solidity\":0.2},\"type\":\"scatter\"}],\"parcoords\":[{\"type\":\"parcoords\",\"line\":{\"colorbar\":{\"outlinewidth\":0,\"ticks\":\"\"}}}],\"scatterpolargl\":[{\"type\":\"scatterpolargl\",\"marker\":{\"colorbar\":{\"outlinewidth\":0,\"ticks\":\"\"}}}],\"bar\":[{\"error_x\":{\"color\":\"#2a3f5f\"},\"error_y\":{\"color\":\"#2a3f5f\"},\"marker\":{\"line\":{\"color\":\"#E5ECF6\",\"width\":0.5},\"pattern\":{\"fillmode\":\"overlay\",\"size\":10,\"solidity\":0.2}},\"type\":\"bar\"}],\"scattergeo\":[{\"type\":\"scattergeo\",\"marker\":{\"colorbar\":{\"outlinewidth\":0,\"ticks\":\"\"}}}],\"scatterpolar\":[{\"type\":\"scatterpolar\",\"marker\":{\"colorbar\":{\"outlinewidth\":0,\"ticks\":\"\"}}}],\"histogram\":[{\"marker\":{\"pattern\":{\"fillmode\":\"overlay\",\"size\":10,\"solidity\":0.2}},\"type\":\"histogram\"}],\"scattergl\":[{\"type\":\"scattergl\",\"marker\":{\"colorbar\":{\"outlinewidth\":0,\"ticks\":\"\"}}}],\"scatter3d\":[{\"type\":\"scatter3d\",\"line\":{\"colorbar\":{\"outlinewidth\":0,\"ticks\":\"\"}},\"marker\":{\"colorbar\":{\"outlinewidth\":0,\"ticks\":\"\"}}}],\"scattermapbox\":[{\"type\":\"scattermapbox\",\"marker\":{\"colorbar\":{\"outlinewidth\":0,\"ticks\":\"\"}}}],\"scatterternary\":[{\"type\":\"scatterternary\",\"marker\":{\"colorbar\":{\"outlinewidth\":0,\"ticks\":\"\"}}}],\"scattercarpet\":[{\"type\":\"scattercarpet\",\"marker\":{\"colorbar\":{\"outlinewidth\":0,\"ticks\":\"\"}}}],\"carpet\":[{\"aaxis\":{\"endlinecolor\":\"#2a3f5f\",\"gridcolor\":\"white\",\"linecolor\":\"white\",\"minorgridcolor\":\"white\",\"startlinecolor\":\"#2a3f5f\"},\"baxis\":{\"endlinecolor\":\"#2a3f5f\",\"gridcolor\":\"white\",\"linecolor\":\"white\",\"minorgridcolor\":\"white\",\"startlinecolor\":\"#2a3f5f\"},\"type\":\"carpet\"}],\"table\":[{\"cells\":{\"fill\":{\"color\":\"#EBF0F8\"},\"line\":{\"color\":\"white\"}},\"header\":{\"fill\":{\"color\":\"#C8D4E3\"},\"line\":{\"color\":\"white\"}},\"type\":\"table\"}],\"barpolar\":[{\"marker\":{\"line\":{\"color\":\"#E5ECF6\",\"width\":0.5},\"pattern\":{\"fillmode\":\"overlay\",\"size\":10,\"solidity\":0.2}},\"type\":\"barpolar\"}],\"pie\":[{\"automargin\":true,\"type\":\"pie\"}]},\"layout\":{\"autotypenumbers\":\"strict\",\"colorway\":[\"#636efa\",\"#EF553B\",\"#00cc96\",\"#ab63fa\",\"#FFA15A\",\"#19d3f3\",\"#FF6692\",\"#B6E880\",\"#FF97FF\",\"#FECB52\"],\"font\":{\"color\":\"#2a3f5f\"},\"hovermode\":\"closest\",\"hoverlabel\":{\"align\":\"left\"},\"paper_bgcolor\":\"white\",\"plot_bgcolor\":\"#E5ECF6\",\"polar\":{\"bgcolor\":\"#E5ECF6\",\"angularaxis\":{\"gridcolor\":\"white\",\"linecolor\":\"white\",\"ticks\":\"\"},\"radialaxis\":{\"gridcolor\":\"white\",\"linecolor\":\"white\",\"ticks\":\"\"}},\"ternary\":{\"bgcolor\":\"#E5ECF6\",\"aaxis\":{\"gridcolor\":\"white\",\"linecolor\":\"white\",\"ticks\":\"\"},\"baxis\":{\"gridcolor\":\"white\",\"linecolor\":\"white\",\"ticks\":\"\"},\"caxis\":{\"gridcolor\":\"white\",\"linecolor\":\"white\",\"ticks\":\"\"}},\"coloraxis\":{\"colorbar\":{\"outlinewidth\":0,\"ticks\":\"\"}},\"colorscale\":{\"sequential\":[[0.0,\"#0d0887\"],[0.1111111111111111,\"#46039f\"],[0.2222222222222222,\"#7201a8\"],[0.3333333333333333,\"#9c179e\"],[0.4444444444444444,\"#bd3786\"],[0.5555555555555556,\"#d8576b\"],[0.6666666666666666,\"#ed7953\"],[0.7777777777777778,\"#fb9f3a\"],[0.8888888888888888,\"#fdca26\"],[1.0,\"#f0f921\"]],\"sequentialminus\":[[0.0,\"#0d0887\"],[0.1111111111111111,\"#46039f\"],[0.2222222222222222,\"#7201a8\"],[0.3333333333333333,\"#9c179e\"],[0.4444444444444444,\"#bd3786\"],[0.5555555555555556,\"#d8576b\"],[0.6666666666666666,\"#ed7953\"],[0.7777777777777778,\"#fb9f3a\"],[0.8888888888888888,\"#fdca26\"],[1.0,\"#f0f921\"]],\"diverging\":[[0,\"#8e0152\"],[0.1,\"#c51b7d\"],[0.2,\"#de77ae\"],[0.3,\"#f1b6da\"],[0.4,\"#fde0ef\"],[0.5,\"#f7f7f7\"],[0.6,\"#e6f5d0\"],[0.7,\"#b8e186\"],[0.8,\"#7fbc41\"],[0.9,\"#4d9221\"],[1,\"#276419\"]]},\"xaxis\":{\"gridcolor\":\"white\",\"linecolor\":\"white\",\"ticks\":\"\",\"title\":{\"standoff\":15},\"zerolinecolor\":\"white\",\"automargin\":true,\"zerolinewidth\":2},\"yaxis\":{\"gridcolor\":\"white\",\"linecolor\":\"white\",\"ticks\":\"\",\"title\":{\"standoff\":15},\"zerolinecolor\":\"white\",\"automargin\":true,\"zerolinewidth\":2},\"scene\":{\"xaxis\":{\"backgroundcolor\":\"#E5ECF6\",\"gridcolor\":\"white\",\"linecolor\":\"white\",\"showbackground\":true,\"ticks\":\"\",\"zerolinecolor\":\"white\",\"gridwidth\":2},\"yaxis\":{\"backgroundcolor\":\"#E5ECF6\",\"gridcolor\":\"white\",\"linecolor\":\"white\",\"showbackground\":true,\"ticks\":\"\",\"zerolinecolor\":\"white\",\"gridwidth\":2},\"zaxis\":{\"backgroundcolor\":\"#E5ECF6\",\"gridcolor\":\"white\",\"linecolor\":\"white\",\"showbackground\":true,\"ticks\":\"\",\"zerolinecolor\":\"white\",\"gridwidth\":2}},\"shapedefaults\":{\"line\":{\"color\":\"#2a3f5f\"}},\"annotationdefaults\":{\"arrowcolor\":\"#2a3f5f\",\"arrowhead\":0,\"arrowwidth\":1},\"geo\":{\"bgcolor\":\"white\",\"landcolor\":\"#E5ECF6\",\"subunitcolor\":\"white\",\"showland\":true,\"showlakes\":true,\"lakecolor\":\"white\"},\"title\":{\"x\":0.05},\"mapbox\":{\"style\":\"light\"}}},\"title\":{\"font\":{\"size\":24},\"text\":\"Distribución de Personajes por Clase\",\"x\":0.5,\"y\":0.95},\"legend\":{\"title\":{\"text\":\"Clase\"},\"x\":1.05,\"y\":0.5,\"traceorder\":\"normal\",\"orientation\":\"v\"},\"margin\":{\"l\":0,\"r\":150,\"t\":50,\"b\":0},\"width\":800,\"height\":600,\"annotations\":[{\"showarrow\":false,\"text\":\"Distribución de\\u003cbr\\u003ePersonajes\",\"x\":0.5,\"y\":0.5,\"font\":{\"size\":20}}]},                        {\"responsive\": true}                    ).then(function(){\n",
       "                            \n",
       "var gd = document.getElementById('c0613d95-e0cb-43de-8c93-3e954199d168');\n",
       "var x = new MutationObserver(function (mutations, observer) {{\n",
       "        var display = window.getComputedStyle(gd).display;\n",
       "        if (!display || display === 'none') {{\n",
       "            console.log([gd, 'removed!']);\n",
       "            Plotly.purge(gd);\n",
       "            observer.disconnect();\n",
       "        }}\n",
       "}});\n",
       "\n",
       "// Listen for the removal of the full notebook cells\n",
       "var notebookContainer = gd.closest('#notebook-container');\n",
       "if (notebookContainer) {{\n",
       "    x.observe(notebookContainer, {childList: true});\n",
       "}}\n",
       "\n",
       "// Listen for the clearing of the current output cell\n",
       "var outputEl = gd.closest('.output');\n",
       "if (outputEl) {{\n",
       "    x.observe(outputEl, {childList: true});\n",
       "}}\n",
       "\n",
       "                        })                };                });            </script>        </div>"
      ]
     },
     "metadata": {},
     "output_type": "display_data"
    }
   ],
   "source": [
    "class_counts = wowah_data['charclass'].value_counts()\n",
    "\n",
    "\n",
    "colors = {\n",
    "    'Druid': '#FF7D0A',   # Naranja\n",
    "    'Hunter': '#ABD473',  # Verde\n",
    "    'Mage': '#69CCF0',    # Azul claro\n",
    "    'Paladin': '#F58CBA', # Rosa\n",
    "    'Priest': '#FFFFFF',  # Blanco\n",
    "    'Rogue': '#FFF569',   # Amarillo\n",
    "    'Shaman': '#0070DE',  # Azul\n",
    "    'Warlock': '#9482C9', # Morado\n",
    "    'Warrior': '#C79C6E'  # Marrón claro\n",
    "}\n",
    "\n",
    "fig = go.Figure(data=[go.Pie(\n",
    "    labels=class_counts.index,\n",
    "    values=class_counts,\n",
    "    marker=dict(\n",
    "        colors=[colors.get(clase, '#000000') for clase in class_counts.index]\n",
    "    ),\n",
    "    textinfo='label+percent',\n",
    "    insidetextorientation='radial',\n",
    "    hole=0.3 \n",
    ")])\n",
    "\n",
    "fig.update_layout(\n",
    "    title_text='Distribución de Personajes por Clase',\n",
    "    title_font_size=24,\n",
    "    title_x=0.5,\n",
    "    title_y=0.95,\n",
    "    legend_title_text='Clase',\n",
    "    legend=dict(\n",
    "        x=1.05,  \n",
    "        y=0.5,\n",
    "        traceorder='normal',\n",
    "        orientation='v'\n",
    "    ),\n",
    "    margin=dict(l=0, r=150, t=50, b=0),  \n",
    "    width=800,  \n",
    "    height=600,  \n",
    "    annotations=[dict(\n",
    "        text='Distribución de<br>Personajes',\n",
    "        x=0.5,\n",
    "        y=0.5,\n",
    "        font_size=20,\n",
    "        showarrow=False\n",
    "    )]\n",
    ")\n",
    "\n",
    "fig.show()"
   ]
  },
  {
   "cell_type": "markdown",
   "id": "23184802-a3c2-4415-bd8a-9f31e1ed7202",
   "metadata": {},
   "source": [
    "Este análisis identifica las clases más jugadas en World of Warcraft mediante el conteo de personajes por clase. Utilizamos la función `value_counts()` para obtener la distribución de clases y asignamos colores específicos a cada una para mejorar la visualización. Luego, se crea un gráfico de pie con Plotly, que permite ver claramente las proporciones de cada clase. Este análisis nos ayuda a comprender las preferencias de los jugadores y la distribución de personajes en el juego."
   ]
  },
  {
   "cell_type": "code",
   "execution_count": 226,
   "id": "bce3cd14-7413-4327-bf53-6167442ef757",
   "metadata": {},
   "outputs": [
    {
     "data": {
      "text/html": [
       "<pre style=\"white-space:pre;overflow-x:auto;line-height:normal;font-family:Menlo,'DejaVu Sans Mono',consolas,'Courier New',monospace\"></pre>\n"
      ],
      "text/plain": []
     },
     "metadata": {},
     "output_type": "display_data"
    },
    {
     "data": {
      "text/plain": [
       "\n",
       "charclass\n",
       "Hunter     \u001b[1;36m155891\u001b[0m\n",
       "Mage       \u001b[1;36m151202\u001b[0m\n",
       "Warlock    \u001b[1;36m138181\u001b[0m\n",
       "Warrior    \u001b[1;36m124262\u001b[0m\n",
       "Priest     \u001b[1;36m116138\u001b[0m\n",
       "Rogue      \u001b[1;36m108818\u001b[0m\n",
       "Paladin    \u001b[1;36m108734\u001b[0m\n",
       "Druid       \u001b[1;36m80061\u001b[0m\n",
       "Shaman      \u001b[1;36m65288\u001b[0m\n",
       "Name: count, dtype: int64"
      ]
     },
     "execution_count": 226,
     "metadata": {},
     "output_type": "execute_result"
    }
   ],
   "source": [
    "class_counts = wowah_data['charclass'].value_counts()\n",
    "class_counts"
   ]
  },
  {
   "cell_type": "markdown",
   "id": "ebb7d06d-f98c-4f22-986a-988738e0c93a",
   "metadata": {},
   "source": [
    "Ya que el enfoque principal de nuestro analisis se basa nada mas en las dos primeras versiones del juego debido a la imnensa cantidad de datos nos gustaria dividir los numeros de jugadores totales asi que filtraremos solamente a la poblacion que jugo esas versiones de juego."
   ]
  },
  {
   "cell_type": "code",
   "execution_count": 227,
   "id": "e5e4fb41-efc5-41e9-9c91-452163af7ee7",
   "metadata": {},
   "outputs": [
    {
     "data": {
      "application/vnd.plotly.v1+json": {
       "config": {
        "plotlyServerURL": "https://plot.ly"
       },
       "data": [
        {
         "marker": {
          "color": [
           "yellow",
           "green"
          ]
         },
         "text": [
          "153974",
          "148244"
         ],
         "textposition": "auto",
         "type": "bar",
         "x": [
          "WoW",
          "TBC"
         ],
         "y": [
          153974,
          148244
         ]
        }
       ],
       "layout": {
        "autosize": true,
        "margin": {
         "b": 40,
         "l": 40,
         "r": 40,
         "t": 40
        },
        "template": {
         "data": {
          "bar": [
           {
            "error_x": {
             "color": "#2a3f5f"
            },
            "error_y": {
             "color": "#2a3f5f"
            },
            "marker": {
             "line": {
              "color": "#E5ECF6",
              "width": 0.5
             },
             "pattern": {
              "fillmode": "overlay",
              "size": 10,
              "solidity": 0.2
             }
            },
            "type": "bar"
           }
          ],
          "barpolar": [
           {
            "marker": {
             "line": {
              "color": "#E5ECF6",
              "width": 0.5
             },
             "pattern": {
              "fillmode": "overlay",
              "size": 10,
              "solidity": 0.2
             }
            },
            "type": "barpolar"
           }
          ],
          "carpet": [
           {
            "aaxis": {
             "endlinecolor": "#2a3f5f",
             "gridcolor": "white",
             "linecolor": "white",
             "minorgridcolor": "white",
             "startlinecolor": "#2a3f5f"
            },
            "baxis": {
             "endlinecolor": "#2a3f5f",
             "gridcolor": "white",
             "linecolor": "white",
             "minorgridcolor": "white",
             "startlinecolor": "#2a3f5f"
            },
            "type": "carpet"
           }
          ],
          "choropleth": [
           {
            "colorbar": {
             "outlinewidth": 0,
             "ticks": ""
            },
            "type": "choropleth"
           }
          ],
          "contour": [
           {
            "colorbar": {
             "outlinewidth": 0,
             "ticks": ""
            },
            "colorscale": [
             [
              0,
              "#0d0887"
             ],
             [
              0.1111111111111111,
              "#46039f"
             ],
             [
              0.2222222222222222,
              "#7201a8"
             ],
             [
              0.3333333333333333,
              "#9c179e"
             ],
             [
              0.4444444444444444,
              "#bd3786"
             ],
             [
              0.5555555555555556,
              "#d8576b"
             ],
             [
              0.6666666666666666,
              "#ed7953"
             ],
             [
              0.7777777777777778,
              "#fb9f3a"
             ],
             [
              0.8888888888888888,
              "#fdca26"
             ],
             [
              1,
              "#f0f921"
             ]
            ],
            "type": "contour"
           }
          ],
          "contourcarpet": [
           {
            "colorbar": {
             "outlinewidth": 0,
             "ticks": ""
            },
            "type": "contourcarpet"
           }
          ],
          "heatmap": [
           {
            "colorbar": {
             "outlinewidth": 0,
             "ticks": ""
            },
            "colorscale": [
             [
              0,
              "#0d0887"
             ],
             [
              0.1111111111111111,
              "#46039f"
             ],
             [
              0.2222222222222222,
              "#7201a8"
             ],
             [
              0.3333333333333333,
              "#9c179e"
             ],
             [
              0.4444444444444444,
              "#bd3786"
             ],
             [
              0.5555555555555556,
              "#d8576b"
             ],
             [
              0.6666666666666666,
              "#ed7953"
             ],
             [
              0.7777777777777778,
              "#fb9f3a"
             ],
             [
              0.8888888888888888,
              "#fdca26"
             ],
             [
              1,
              "#f0f921"
             ]
            ],
            "type": "heatmap"
           }
          ],
          "heatmapgl": [
           {
            "colorbar": {
             "outlinewidth": 0,
             "ticks": ""
            },
            "colorscale": [
             [
              0,
              "#0d0887"
             ],
             [
              0.1111111111111111,
              "#46039f"
             ],
             [
              0.2222222222222222,
              "#7201a8"
             ],
             [
              0.3333333333333333,
              "#9c179e"
             ],
             [
              0.4444444444444444,
              "#bd3786"
             ],
             [
              0.5555555555555556,
              "#d8576b"
             ],
             [
              0.6666666666666666,
              "#ed7953"
             ],
             [
              0.7777777777777778,
              "#fb9f3a"
             ],
             [
              0.8888888888888888,
              "#fdca26"
             ],
             [
              1,
              "#f0f921"
             ]
            ],
            "type": "heatmapgl"
           }
          ],
          "histogram": [
           {
            "marker": {
             "pattern": {
              "fillmode": "overlay",
              "size": 10,
              "solidity": 0.2
             }
            },
            "type": "histogram"
           }
          ],
          "histogram2d": [
           {
            "colorbar": {
             "outlinewidth": 0,
             "ticks": ""
            },
            "colorscale": [
             [
              0,
              "#0d0887"
             ],
             [
              0.1111111111111111,
              "#46039f"
             ],
             [
              0.2222222222222222,
              "#7201a8"
             ],
             [
              0.3333333333333333,
              "#9c179e"
             ],
             [
              0.4444444444444444,
              "#bd3786"
             ],
             [
              0.5555555555555556,
              "#d8576b"
             ],
             [
              0.6666666666666666,
              "#ed7953"
             ],
             [
              0.7777777777777778,
              "#fb9f3a"
             ],
             [
              0.8888888888888888,
              "#fdca26"
             ],
             [
              1,
              "#f0f921"
             ]
            ],
            "type": "histogram2d"
           }
          ],
          "histogram2dcontour": [
           {
            "colorbar": {
             "outlinewidth": 0,
             "ticks": ""
            },
            "colorscale": [
             [
              0,
              "#0d0887"
             ],
             [
              0.1111111111111111,
              "#46039f"
             ],
             [
              0.2222222222222222,
              "#7201a8"
             ],
             [
              0.3333333333333333,
              "#9c179e"
             ],
             [
              0.4444444444444444,
              "#bd3786"
             ],
             [
              0.5555555555555556,
              "#d8576b"
             ],
             [
              0.6666666666666666,
              "#ed7953"
             ],
             [
              0.7777777777777778,
              "#fb9f3a"
             ],
             [
              0.8888888888888888,
              "#fdca26"
             ],
             [
              1,
              "#f0f921"
             ]
            ],
            "type": "histogram2dcontour"
           }
          ],
          "mesh3d": [
           {
            "colorbar": {
             "outlinewidth": 0,
             "ticks": ""
            },
            "type": "mesh3d"
           }
          ],
          "parcoords": [
           {
            "line": {
             "colorbar": {
              "outlinewidth": 0,
              "ticks": ""
             }
            },
            "type": "parcoords"
           }
          ],
          "pie": [
           {
            "automargin": true,
            "type": "pie"
           }
          ],
          "scatter": [
           {
            "fillpattern": {
             "fillmode": "overlay",
             "size": 10,
             "solidity": 0.2
            },
            "type": "scatter"
           }
          ],
          "scatter3d": [
           {
            "line": {
             "colorbar": {
              "outlinewidth": 0,
              "ticks": ""
             }
            },
            "marker": {
             "colorbar": {
              "outlinewidth": 0,
              "ticks": ""
             }
            },
            "type": "scatter3d"
           }
          ],
          "scattercarpet": [
           {
            "marker": {
             "colorbar": {
              "outlinewidth": 0,
              "ticks": ""
             }
            },
            "type": "scattercarpet"
           }
          ],
          "scattergeo": [
           {
            "marker": {
             "colorbar": {
              "outlinewidth": 0,
              "ticks": ""
             }
            },
            "type": "scattergeo"
           }
          ],
          "scattergl": [
           {
            "marker": {
             "colorbar": {
              "outlinewidth": 0,
              "ticks": ""
             }
            },
            "type": "scattergl"
           }
          ],
          "scattermapbox": [
           {
            "marker": {
             "colorbar": {
              "outlinewidth": 0,
              "ticks": ""
             }
            },
            "type": "scattermapbox"
           }
          ],
          "scatterpolar": [
           {
            "marker": {
             "colorbar": {
              "outlinewidth": 0,
              "ticks": ""
             }
            },
            "type": "scatterpolar"
           }
          ],
          "scatterpolargl": [
           {
            "marker": {
             "colorbar": {
              "outlinewidth": 0,
              "ticks": ""
             }
            },
            "type": "scatterpolargl"
           }
          ],
          "scatterternary": [
           {
            "marker": {
             "colorbar": {
              "outlinewidth": 0,
              "ticks": ""
             }
            },
            "type": "scatterternary"
           }
          ],
          "surface": [
           {
            "colorbar": {
             "outlinewidth": 0,
             "ticks": ""
            },
            "colorscale": [
             [
              0,
              "#0d0887"
             ],
             [
              0.1111111111111111,
              "#46039f"
             ],
             [
              0.2222222222222222,
              "#7201a8"
             ],
             [
              0.3333333333333333,
              "#9c179e"
             ],
             [
              0.4444444444444444,
              "#bd3786"
             ],
             [
              0.5555555555555556,
              "#d8576b"
             ],
             [
              0.6666666666666666,
              "#ed7953"
             ],
             [
              0.7777777777777778,
              "#fb9f3a"
             ],
             [
              0.8888888888888888,
              "#fdca26"
             ],
             [
              1,
              "#f0f921"
             ]
            ],
            "type": "surface"
           }
          ],
          "table": [
           {
            "cells": {
             "fill": {
              "color": "#EBF0F8"
             },
             "line": {
              "color": "white"
             }
            },
            "header": {
             "fill": {
              "color": "#C8D4E3"
             },
             "line": {
              "color": "white"
             }
            },
            "type": "table"
           }
          ]
         },
         "layout": {
          "annotationdefaults": {
           "arrowcolor": "#2a3f5f",
           "arrowhead": 0,
           "arrowwidth": 1
          },
          "autotypenumbers": "strict",
          "coloraxis": {
           "colorbar": {
            "outlinewidth": 0,
            "ticks": ""
           }
          },
          "colorscale": {
           "diverging": [
            [
             0,
             "#8e0152"
            ],
            [
             0.1,
             "#c51b7d"
            ],
            [
             0.2,
             "#de77ae"
            ],
            [
             0.3,
             "#f1b6da"
            ],
            [
             0.4,
             "#fde0ef"
            ],
            [
             0.5,
             "#f7f7f7"
            ],
            [
             0.6,
             "#e6f5d0"
            ],
            [
             0.7,
             "#b8e186"
            ],
            [
             0.8,
             "#7fbc41"
            ],
            [
             0.9,
             "#4d9221"
            ],
            [
             1,
             "#276419"
            ]
           ],
           "sequential": [
            [
             0,
             "#0d0887"
            ],
            [
             0.1111111111111111,
             "#46039f"
            ],
            [
             0.2222222222222222,
             "#7201a8"
            ],
            [
             0.3333333333333333,
             "#9c179e"
            ],
            [
             0.4444444444444444,
             "#bd3786"
            ],
            [
             0.5555555555555556,
             "#d8576b"
            ],
            [
             0.6666666666666666,
             "#ed7953"
            ],
            [
             0.7777777777777778,
             "#fb9f3a"
            ],
            [
             0.8888888888888888,
             "#fdca26"
            ],
            [
             1,
             "#f0f921"
            ]
           ],
           "sequentialminus": [
            [
             0,
             "#0d0887"
            ],
            [
             0.1111111111111111,
             "#46039f"
            ],
            [
             0.2222222222222222,
             "#7201a8"
            ],
            [
             0.3333333333333333,
             "#9c179e"
            ],
            [
             0.4444444444444444,
             "#bd3786"
            ],
            [
             0.5555555555555556,
             "#d8576b"
            ],
            [
             0.6666666666666666,
             "#ed7953"
            ],
            [
             0.7777777777777778,
             "#fb9f3a"
            ],
            [
             0.8888888888888888,
             "#fdca26"
            ],
            [
             1,
             "#f0f921"
            ]
           ]
          },
          "colorway": [
           "#636efa",
           "#EF553B",
           "#00cc96",
           "#ab63fa",
           "#FFA15A",
           "#19d3f3",
           "#FF6692",
           "#B6E880",
           "#FF97FF",
           "#FECB52"
          ],
          "font": {
           "color": "#2a3f5f"
          },
          "geo": {
           "bgcolor": "white",
           "lakecolor": "white",
           "landcolor": "#E5ECF6",
           "showlakes": true,
           "showland": true,
           "subunitcolor": "white"
          },
          "hoverlabel": {
           "align": "left"
          },
          "hovermode": "closest",
          "mapbox": {
           "style": "light"
          },
          "paper_bgcolor": "white",
          "plot_bgcolor": "#E5ECF6",
          "polar": {
           "angularaxis": {
            "gridcolor": "white",
            "linecolor": "white",
            "ticks": ""
           },
           "bgcolor": "#E5ECF6",
           "radialaxis": {
            "gridcolor": "white",
            "linecolor": "white",
            "ticks": ""
           }
          },
          "scene": {
           "xaxis": {
            "backgroundcolor": "#E5ECF6",
            "gridcolor": "white",
            "gridwidth": 2,
            "linecolor": "white",
            "showbackground": true,
            "ticks": "",
            "zerolinecolor": "white"
           },
           "yaxis": {
            "backgroundcolor": "#E5ECF6",
            "gridcolor": "white",
            "gridwidth": 2,
            "linecolor": "white",
            "showbackground": true,
            "ticks": "",
            "zerolinecolor": "white"
           },
           "zaxis": {
            "backgroundcolor": "#E5ECF6",
            "gridcolor": "white",
            "gridwidth": 2,
            "linecolor": "white",
            "showbackground": true,
            "ticks": "",
            "zerolinecolor": "white"
           }
          },
          "shapedefaults": {
           "line": {
            "color": "#2a3f5f"
           }
          },
          "ternary": {
           "aaxis": {
            "gridcolor": "white",
            "linecolor": "white",
            "ticks": ""
           },
           "baxis": {
            "gridcolor": "white",
            "linecolor": "white",
            "ticks": ""
           },
           "bgcolor": "#E5ECF6",
           "caxis": {
            "gridcolor": "white",
            "linecolor": "white",
            "ticks": ""
           }
          },
          "title": {
           "x": 0.05
          },
          "xaxis": {
           "automargin": true,
           "gridcolor": "white",
           "linecolor": "white",
           "ticks": "",
           "title": {
            "standoff": 15
           },
           "zerolinecolor": "white",
           "zerolinewidth": 2
          },
          "yaxis": {
           "automargin": true,
           "gridcolor": "white",
           "linecolor": "white",
           "ticks": "",
           "title": {
            "standoff": 15
           },
           "zerolinecolor": "white",
           "zerolinewidth": 2
          }
         }
        },
        "title": {
         "text": "Número de Jugadores por Expansión (WoW vs TBC)"
        },
        "xaxis": {
         "autorange": true,
         "range": [
          -0.5,
          1.5
         ],
         "ticktext": [
          "WoW",
          "TBC"
         ],
         "tickvals": [
          0,
          1
         ],
         "title": {
          "text": "Expansión"
         },
         "type": "category"
        },
        "yaxis": {
         "autorange": true,
         "gridcolor": "rgba(0, 0, 0, 0.1)",
         "gridwidth": 1,
         "range": [
          0,
          162077.8947368421
         ],
         "showgrid": true,
         "title": {
          "text": "Número de Jugadores"
         },
         "type": "linear"
        }
       }
      },
      "image/png": "[encoded data removed]",
      "text/html": [
       "<div>                            <div id=\"cd7af556-9ecc-42b9-9e98-3f24191cfa1e\" class=\"plotly-graph-div\" style=\"height:525px; width:100%;\"></div>            <script type=\"text/javascript\">                require([\"plotly\"], function(Plotly) {                    window.PLOTLYENV=window.PLOTLYENV || {};                                    if (document.getElementById(\"cd7af556-9ecc-42b9-9e98-3f24191cfa1e\")) {                    Plotly.newPlot(                        \"cd7af556-9ecc-42b9-9e98-3f24191cfa1e\",                        [{\"marker\":{\"color\":[\"yellow\",\"green\"]},\"text\":[\"153974\",\"148244\"],\"textposition\":\"auto\",\"x\":[\"WoW\",\"TBC\"],\"y\":[153974,148244],\"type\":\"bar\"}],                        {\"template\":{\"data\":{\"histogram2dcontour\":[{\"type\":\"histogram2dcontour\",\"colorbar\":{\"outlinewidth\":0,\"ticks\":\"\"},\"colorscale\":[[0.0,\"#0d0887\"],[0.1111111111111111,\"#46039f\"],[0.2222222222222222,\"#7201a8\"],[0.3333333333333333,\"#9c179e\"],[0.4444444444444444,\"#bd3786\"],[0.5555555555555556,\"#d8576b\"],[0.6666666666666666,\"#ed7953\"],[0.7777777777777778,\"#fb9f3a\"],[0.8888888888888888,\"#fdca26\"],[1.0,\"#f0f921\"]]}],\"choropleth\":[{\"type\":\"choropleth\",\"colorbar\":{\"outlinewidth\":0,\"ticks\":\"\"}}],\"histogram2d\":[{\"type\":\"histogram2d\",\"colorbar\":{\"outlinewidth\":0,\"ticks\":\"\"},\"colorscale\":[[0.0,\"#0d0887\"],[0.1111111111111111,\"#46039f\"],[0.2222222222222222,\"#7201a8\"],[0.3333333333333333,\"#9c179e\"],[0.4444444444444444,\"#bd3786\"],[0.5555555555555556,\"#d8576b\"],[0.6666666666666666,\"#ed7953\"],[0.7777777777777778,\"#fb9f3a\"],[0.8888888888888888,\"#fdca26\"],[1.0,\"#f0f921\"]]}],\"heatmap\":[{\"type\":\"heatmap\",\"colorbar\":{\"outlinewidth\":0,\"ticks\":\"\"},\"colorscale\":[[0.0,\"#0d0887\"],[0.1111111111111111,\"#46039f\"],[0.2222222222222222,\"#7201a8\"],[0.3333333333333333,\"#9c179e\"],[0.4444444444444444,\"#bd3786\"],[0.5555555555555556,\"#d8576b\"],[0.6666666666666666,\"#ed7953\"],[0.7777777777777778,\"#fb9f3a\"],[0.8888888888888888,\"#fdca26\"],[1.0,\"#f0f921\"]]}],\"heatmapgl\":[{\"type\":\"heatmapgl\",\"colorbar\":{\"outlinewidth\":0,\"ticks\":\"\"},\"colorscale\":[[0.0,\"#0d0887\"],[0.1111111111111111,\"#46039f\"],[0.2222222222222222,\"#7201a8\"],[0.3333333333333333,\"#9c179e\"],[0.4444444444444444,\"#bd3786\"],[0.5555555555555556,\"#d8576b\"],[0.6666666666666666,\"#ed7953\"],[0.7777777777777778,\"#fb9f3a\"],[0.8888888888888888,\"#fdca26\"],[1.0,\"#f0f921\"]]}],\"contourcarpet\":[{\"type\":\"contourcarpet\",\"colorbar\":{\"outlinewidth\":0,\"ticks\":\"\"}}],\"contour\":[{\"type\":\"contour\",\"colorbar\":{\"outlinewidth\":0,\"ticks\":\"\"},\"colorscale\":[[0.0,\"#0d0887\"],[0.1111111111111111,\"#46039f\"],[0.2222222222222222,\"#7201a8\"],[0.3333333333333333,\"#9c179e\"],[0.4444444444444444,\"#bd3786\"],[0.5555555555555556,\"#d8576b\"],[0.6666666666666666,\"#ed7953\"],[0.7777777777777778,\"#fb9f3a\"],[0.8888888888888888,\"#fdca26\"],[1.0,\"#f0f921\"]]}],\"surface\":[{\"type\":\"surface\",\"colorbar\":{\"outlinewidth\":0,\"ticks\":\"\"},\"colorscale\":[[0.0,\"#0d0887\"],[0.1111111111111111,\"#46039f\"],[0.2222222222222222,\"#7201a8\"],[0.3333333333333333,\"#9c179e\"],[0.4444444444444444,\"#bd3786\"],[0.5555555555555556,\"#d8576b\"],[0.6666666666666666,\"#ed7953\"],[0.7777777777777778,\"#fb9f3a\"],[0.8888888888888888,\"#fdca26\"],[1.0,\"#f0f921\"]]}],\"mesh3d\":[{\"type\":\"mesh3d\",\"colorbar\":{\"outlinewidth\":0,\"ticks\":\"\"}}],\"scatter\":[{\"fillpattern\":{\"fillmode\":\"overlay\",\"size\":10,\"solidity\":0.2},\"type\":\"scatter\"}],\"parcoords\":[{\"type\":\"parcoords\",\"line\":{\"colorbar\":{\"outlinewidth\":0,\"ticks\":\"\"}}}],\"scatterpolargl\":[{\"type\":\"scatterpolargl\",\"marker\":{\"colorbar\":{\"outlinewidth\":0,\"ticks\":\"\"}}}],\"bar\":[{\"error_x\":{\"color\":\"#2a3f5f\"},\"error_y\":{\"color\":\"#2a3f5f\"},\"marker\":{\"line\":{\"color\":\"#E5ECF6\",\"width\":0.5},\"pattern\":{\"fillmode\":\"overlay\",\"size\":10,\"solidity\":0.2}},\"type\":\"bar\"}],\"scattergeo\":[{\"type\":\"scattergeo\",\"marker\":{\"colorbar\":{\"outlinewidth\":0,\"ticks\":\"\"}}}],\"scatterpolar\":[{\"type\":\"scatterpolar\",\"marker\":{\"colorbar\":{\"outlinewidth\":0,\"ticks\":\"\"}}}],\"histogram\":[{\"marker\":{\"pattern\":{\"fillmode\":\"overlay\",\"size\":10,\"solidity\":0.2}},\"type\":\"histogram\"}],\"scattergl\":[{\"type\":\"scattergl\",\"marker\":{\"colorbar\":{\"outlinewidth\":0,\"ticks\":\"\"}}}],\"scatter3d\":[{\"type\":\"scatter3d\",\"line\":{\"colorbar\":{\"outlinewidth\":0,\"ticks\":\"\"}},\"marker\":{\"colorbar\":{\"outlinewidth\":0,\"ticks\":\"\"}}}],\"scattermapbox\":[{\"type\":\"scattermapbox\",\"marker\":{\"colorbar\":{\"outlinewidth\":0,\"ticks\":\"\"}}}],\"scatterternary\":[{\"type\":\"scatterternary\",\"marker\":{\"colorbar\":{\"outlinewidth\":0,\"ticks\":\"\"}}}],\"scattercarpet\":[{\"type\":\"scattercarpet\",\"marker\":{\"colorbar\":{\"outlinewidth\":0,\"ticks\":\"\"}}}],\"carpet\":[{\"aaxis\":{\"endlinecolor\":\"#2a3f5f\",\"gridcolor\":\"white\",\"linecolor\":\"white\",\"minorgridcolor\":\"white\",\"startlinecolor\":\"#2a3f5f\"},\"baxis\":{\"endlinecolor\":\"#2a3f5f\",\"gridcolor\":\"white\",\"linecolor\":\"white\",\"minorgridcolor\":\"white\",\"startlinecolor\":\"#2a3f5f\"},\"type\":\"carpet\"}],\"table\":[{\"cells\":{\"fill\":{\"color\":\"#EBF0F8\"},\"line\":{\"color\":\"white\"}},\"header\":{\"fill\":{\"color\":\"#C8D4E3\"},\"line\":{\"color\":\"white\"}},\"type\":\"table\"}],\"barpolar\":[{\"marker\":{\"line\":{\"color\":\"#E5ECF6\",\"width\":0.5},\"pattern\":{\"fillmode\":\"overlay\",\"size\":10,\"solidity\":0.2}},\"type\":\"barpolar\"}],\"pie\":[{\"automargin\":true,\"type\":\"pie\"}]},\"layout\":{\"autotypenumbers\":\"strict\",\"colorway\":[\"#636efa\",\"#EF553B\",\"#00cc96\",\"#ab63fa\",\"#FFA15A\",\"#19d3f3\",\"#FF6692\",\"#B6E880\",\"#FF97FF\",\"#FECB52\"],\"font\":{\"color\":\"#2a3f5f\"},\"hovermode\":\"closest\",\"hoverlabel\":{\"align\":\"left\"},\"paper_bgcolor\":\"white\",\"plot_bgcolor\":\"#E5ECF6\",\"polar\":{\"bgcolor\":\"#E5ECF6\",\"angularaxis\":{\"gridcolor\":\"white\",\"linecolor\":\"white\",\"ticks\":\"\"},\"radialaxis\":{\"gridcolor\":\"white\",\"linecolor\":\"white\",\"ticks\":\"\"}},\"ternary\":{\"bgcolor\":\"#E5ECF6\",\"aaxis\":{\"gridcolor\":\"white\",\"linecolor\":\"white\",\"ticks\":\"\"},\"baxis\":{\"gridcolor\":\"white\",\"linecolor\":\"white\",\"ticks\":\"\"},\"caxis\":{\"gridcolor\":\"white\",\"linecolor\":\"white\",\"ticks\":\"\"}},\"coloraxis\":{\"colorbar\":{\"outlinewidth\":0,\"ticks\":\"\"}},\"colorscale\":{\"sequential\":[[0.0,\"#0d0887\"],[0.1111111111111111,\"#46039f\"],[0.2222222222222222,\"#7201a8\"],[0.3333333333333333,\"#9c179e\"],[0.4444444444444444,\"#bd3786\"],[0.5555555555555556,\"#d8576b\"],[0.6666666666666666,\"#ed7953\"],[0.7777777777777778,\"#fb9f3a\"],[0.8888888888888888,\"#fdca26\"],[1.0,\"#f0f921\"]],\"sequentialminus\":[[0.0,\"#0d0887\"],[0.1111111111111111,\"#46039f\"],[0.2222222222222222,\"#7201a8\"],[0.3333333333333333,\"#9c179e\"],[0.4444444444444444,\"#bd3786\"],[0.5555555555555556,\"#d8576b\"],[0.6666666666666666,\"#ed7953\"],[0.7777777777777778,\"#fb9f3a\"],[0.8888888888888888,\"#fdca26\"],[1.0,\"#f0f921\"]],\"diverging\":[[0,\"#8e0152\"],[0.1,\"#c51b7d\"],[0.2,\"#de77ae\"],[0.3,\"#f1b6da\"],[0.4,\"#fde0ef\"],[0.5,\"#f7f7f7\"],[0.6,\"#e6f5d0\"],[0.7,\"#b8e186\"],[0.8,\"#7fbc41\"],[0.9,\"#4d9221\"],[1,\"#276419\"]]},\"xaxis\":{\"gridcolor\":\"white\",\"linecolor\":\"white\",\"ticks\":\"\",\"title\":{\"standoff\":15},\"zerolinecolor\":\"white\",\"automargin\":true,\"zerolinewidth\":2},\"yaxis\":{\"gridcolor\":\"white\",\"linecolor\":\"white\",\"ticks\":\"\",\"title\":{\"standoff\":15},\"zerolinecolor\":\"white\",\"automargin\":true,\"zerolinewidth\":2},\"scene\":{\"xaxis\":{\"backgroundcolor\":\"#E5ECF6\",\"gridcolor\":\"white\",\"linecolor\":\"white\",\"showbackground\":true,\"ticks\":\"\",\"zerolinecolor\":\"white\",\"gridwidth\":2},\"yaxis\":{\"backgroundcolor\":\"#E5ECF6\",\"gridcolor\":\"white\",\"linecolor\":\"white\",\"showbackground\":true,\"ticks\":\"\",\"zerolinecolor\":\"white\",\"gridwidth\":2},\"zaxis\":{\"backgroundcolor\":\"#E5ECF6\",\"gridcolor\":\"white\",\"linecolor\":\"white\",\"showbackground\":true,\"ticks\":\"\",\"zerolinecolor\":\"white\",\"gridwidth\":2}},\"shapedefaults\":{\"line\":{\"color\":\"#2a3f5f\"}},\"annotationdefaults\":{\"arrowcolor\":\"#2a3f5f\",\"arrowhead\":0,\"arrowwidth\":1},\"geo\":{\"bgcolor\":\"white\",\"landcolor\":\"#E5ECF6\",\"subunitcolor\":\"white\",\"showland\":true,\"showlakes\":true,\"lakecolor\":\"white\"},\"title\":{\"x\":0.05},\"mapbox\":{\"style\":\"light\"}}},\"xaxis\":{\"title\":{\"text\":\"Expansión\"},\"tickvals\":[0,1],\"ticktext\":[\"WoW\",\"TBC\"]},\"yaxis\":{\"title\":{\"text\":\"Número de Jugadores\"},\"showgrid\":true,\"gridcolor\":\"rgba(0,0,0,0.1)\",\"gridwidth\":1},\"margin\":{\"l\":40,\"r\":40,\"t\":40,\"b\":40},\"title\":{\"text\":\"Número de Jugadores por Expansión (WoW vs TBC)\"}},                        {\"responsive\": true}                    ).then(function(){\n",
       "                            \n",
       "var gd = document.getElementById('cd7af556-9ecc-42b9-9e98-3f24191cfa1e');\n",
       "var x = new MutationObserver(function (mutations, observer) {{\n",
       "        var display = window.getComputedStyle(gd).display;\n",
       "        if (!display || display === 'none') {{\n",
       "            console.log([gd, 'removed!']);\n",
       "            Plotly.purge(gd);\n",
       "            observer.disconnect();\n",
       "        }}\n",
       "}});\n",
       "\n",
       "// Listen for the removal of the full notebook cells\n",
       "var notebookContainer = gd.closest('#notebook-container');\n",
       "if (notebookContainer) {{\n",
       "    x.observe(notebookContainer, {childList: true});\n",
       "}}\n",
       "\n",
       "// Listen for the clearing of the current output cell\n",
       "var outputEl = gd.closest('.output');\n",
       "if (outputEl) {{\n",
       "    x.observe(outputEl, {childList: true});\n",
       "}}\n",
       "\n",
       "                        })                };                });            </script>        </div>"
      ]
     },
     "metadata": {},
     "output_type": "display_data"
    }
   ],
   "source": [
    "filtered_locations_wow = locations[locations['Game_Version'] == 'WoW']\n",
    "filtered_locations_tbc = locations[locations['Game_Version'] == 'TBC']\n",
    "\n",
    "filtered_wowah_data_wow = wowah_data[wowah_data['zone'].isin(filtered_locations_wow['Location_Name'])]\n",
    "filtered_wowah_data_tbc = wowah_data[wowah_data['zone'].isin(filtered_locations_tbc['Location_Name'])]\n",
    "\n",
    "merged_filtered_data_wow = pd.merge(filtered_wowah_data_wow, filtered_locations_wow, left_on='zone', right_on='Location_Name', how='left')\n",
    "merged_filtered_data_tbc = pd.merge(filtered_wowah_data_tbc, filtered_locations_tbc, left_on='zone', right_on='Location_Name', how='left')\n",
    "\n",
    "expansion_counts = {\n",
    "    'WoW': len(merged_filtered_data_wow),\n",
    "    'TBC': len(merged_filtered_data_tbc)\n",
    "}\n",
    "\n",
    "fig = go.Figure(data=[go.Bar(\n",
    "    x=list(expansion_counts.keys()),\n",
    "    y=list(expansion_counts.values()),\n",
    "    marker_color=['yellow', 'green'],  \n",
    "    text=[f'{count}' for count in expansion_counts.values()],\n",
    "    textposition='auto'\n",
    ")])\n",
    "\n",
    "fig.update_layout(\n",
    "    title='Número de Jugadores por Expansión (WoW vs TBC)',\n",
    "    xaxis_title='Expansión',\n",
    "    yaxis_title='Número de Jugadores',\n",
    "    xaxis=dict(tickvals=[0, 1], ticktext=['WoW', 'TBC']),\n",
    "    yaxis=dict(showgrid=True, gridcolor='rgba(0,0,0,0.1)', gridwidth=1),\n",
    "    margin=dict(l=40, r=40, t=40, b=40)\n",
    ")\n",
    "\n",
    "fig.show()"
   ]
  },
  {
   "cell_type": "markdown",
   "id": "7ac419ee-d798-42fe-bfb7-63c5f8c4e9df",
   "metadata": {},
   "source": [
    "Filtramos los datos de ubicaciones según las versiones del juego: World of Warcraft (WoW) y The Burning Crusade (TBC). Luego, utilizamos estos filtros para crear dos conjuntos de datos: uno para las zonas de WoW y otro para TBC, manteniendo solo las zonas relevantes para cada expansión.\n",
    "A continuación, realizamos un *merge* entre los datos de personajes y las ubicaciones filtradas para obtener información sobre el número de jugadores por expansión. Finalmente, se genera un gráfico de barras que muestra la cantidad de jugadores en cada expansión, facilitando la comparación visual entre WoW y TBC. Este análisis nos permite evaluar la distribución de la base de jugadores a través de las diferentes expansiones del juego."
   ]
  },
  {
   "cell_type": "markdown",
   "id": "af155dfd-81eb-4b1a-80c6-f79ff53215f0",
   "metadata": {},
   "source": [
    "Para la exploracion de datos nos gustaria igualmente analizar el numero de jugadores por zona para asi tener una idea de como va a ser nuestra hipotesis principalmente."
   ]
  },
  {
   "cell_type": "code",
   "execution_count": 228,
   "id": "149e4200-4925-41e5-bb7d-b96f2a74287e",
   "metadata": {},
   "outputs": [
    {
     "data": {
      "application/vnd.plotly.v1+json": {
       "config": {
        "plotlyServerURL": "https://plot.ly"
       },
       "data": [
        {
         "alignmentgroup": "True",
         "hovertemplate": "Zona=%{x}<br>Número de Personajes=%{y}<extra></extra>",
         "legendgroup": "",
         "marker": {
          "color": "#636efa",
          "pattern": {
           "shape": ""
          }
         },
         "name": "",
         "offsetgroup": "",
         "orientation": "v",
         "showlegend": false,
         "textposition": "auto",
         "type": "bar",
         "x": [
          "Shattrath City",
          "Orgrimmar",
          "Terokkar Forest",
          "Arathi Basin",
          "Nagrand",
          "Karazhan",
          "Shadowmoon Valley",
          "Blade's Edge Mountains",
          "Netherstorm",
          "Hellfire Peninsula",
          "Alterac Valley",
          "Zangarmarsh",
          "Warsong Gulch",
          "The Barrens",
          "Serpentshrine Cavern",
          "Tempest Keep",
          "Stranglethorn Vale",
          "The Mechanar",
          "Undercity",
          "Ghostlands",
          "Eversong Woods",
          "Hillsbrad Foothills",
          "Durotar",
          "Tanaris",
          "Auchindoun: Shadow Labyrinth",
          "Eye of the Storm",
          "Coilfang: The Slave Pens",
          "The Steamvault",
          "Thousand Needles",
          "Thunder Bluff",
          "Mana-Tombs",
          "Tirisfal Glades",
          "Arathi Highlands",
          "The Botanica",
          "Ashenvale",
          "The Hinterlands",
          "Mulgore",
          "Silvermoon City",
          "Feralas",
          "Hellfire Ramparts",
          "Felwood",
          "Stonetalon Mountains",
          "The Underbog",
          "Un'Goro Crater",
          "The Arcatraz",
          "Winterspring",
          "Deadwind Pass",
          "Sethekk Halls",
          "Western Plaguelands",
          "Silverpine Forest",
          "Gruul's Lair",
          "The Blood Furnace",
          "The Shattered Halls",
          "Desolace",
          "The Black Morass",
          "Eastern Plaguelands",
          "Alterac Mountains",
          "Blade's Edge Arena",
          "Ruins of Lordaeron",
          "Old Hillsbrad Foothills",
          "Dustwallow Marsh",
          "Nagrand Arena",
          "Scarlet Monastery",
          "Badlands",
          "Hall of Legends",
          "Silithus",
          "Azshara",
          "Zul'Farrak",
          "Swamp of Sorrows",
          "Auchenai Crypts",
          "Wailing Caverns",
          "The Temple of Atal'Hakkar",
          "Magtheridon's Lair",
          "Shadowfang Keep",
          "Razorfen Kraul",
          "Stratholme",
          "Maraudon",
          "Ragefire Chasm",
          "Blasted Lands",
          "Scholomance",
          "Searing Gorge",
          "Dire Maul",
          "Razorfen Downs",
          "Burning Steppes",
          "Blackfathom Deeps",
          "Uldaman",
          "Zul'Gurub",
          "Gnomeregan",
          "Blackrock Spire",
          "Blackrock Depths",
          "Wetlands",
          "Moonglade",
          "Twisting Nether",
          "Duskwood",
          "Molten Core",
          "Loch Modan",
          "Blackrock Mountain",
          "Elwynn Forest",
          "Darkshore",
          "Deadmines",
          "Westfall",
          "Dun Morogh",
          "Teldrassil",
          "Redridge Mountains",
          "Onyxia's Lair",
          "Quel'thalas",
          "Stormwind City",
          "The Great Sea",
          "Gates of Ahn'Qiraj",
          "Azuremyst Isle",
          "Blackwing Lair"
         ],
         "xaxis": "x",
         "y": [
          101972,
          78224,
          52623,
          51115,
          40410,
          40218,
          39669,
          38340,
          35009,
          33549,
          33320,
          30906,
          26871,
          23387,
          23067,
          21824,
          17906,
          16470,
          15659,
          15157,
          14988,
          13272,
          11939,
          10752,
          10185,
          9933,
          9145,
          8565,
          8456,
          7878,
          7441,
          7351,
          7206,
          7084,
          6816,
          6474,
          6352,
          6322,
          6209,
          6099,
          5716,
          5381,
          5261,
          4959,
          4910,
          4851,
          4845,
          4699,
          4460,
          4433,
          4411,
          4326,
          4246,
          3907,
          3889,
          3758,
          3733,
          3585,
          3460,
          3363,
          3362,
          3279,
          3087,
          2699,
          2647,
          2581,
          2579,
          2461,
          2357,
          2330,
          2043,
          1906,
          1865,
          1473,
          1468,
          1388,
          1387,
          1276,
          1161,
          1125,
          1082,
          1007,
          956,
          942,
          758,
          642,
          544,
          427,
          404,
          392,
          380,
          378,
          370,
          338,
          210,
          190,
          187,
          133,
          127,
          97,
          69,
          36,
          24,
          23,
          13,
          7,
          3,
          2,
          2,
          1,
          1
         ],
         "yaxis": "y"
        }
       ],
       "layout": {
        "barmode": "relative",
        "height": 600,
        "legend": {
         "tracegroupgap": 0
        },
        "margin": {
         "b": 100,
         "l": 40,
         "r": 40,
         "t": 40
        },
        "template": {
         "data": {
          "bar": [
           {
            "error_x": {
             "color": "#2a3f5f"
            },
            "error_y": {
             "color": "#2a3f5f"
            },
            "marker": {
             "line": {
              "color": "#E5ECF6",
              "width": 0.5
             },
             "pattern": {
              "fillmode": "overlay",
              "size": 10,
              "solidity": 0.2
             }
            },
            "type": "bar"
           }
          ],
          "barpolar": [
           {
            "marker": {
             "line": {
              "color": "#E5ECF6",
              "width": 0.5
             },
             "pattern": {
              "fillmode": "overlay",
              "size": 10,
              "solidity": 0.2
             }
            },
            "type": "barpolar"
           }
          ],
          "carpet": [
           {
            "aaxis": {
             "endlinecolor": "#2a3f5f",
             "gridcolor": "white",
             "linecolor": "white",
             "minorgridcolor": "white",
             "startlinecolor": "#2a3f5f"
            },
            "baxis": {
             "endlinecolor": "#2a3f5f",
             "gridcolor": "white",
             "linecolor": "white",
             "minorgridcolor": "white",
             "startlinecolor": "#2a3f5f"
            },
            "type": "carpet"
           }
          ],
          "choropleth": [
           {
            "colorbar": {
             "outlinewidth": 0,
             "ticks": ""
            },
            "type": "choropleth"
           }
          ],
          "contour": [
           {
            "colorbar": {
             "outlinewidth": 0,
             "ticks": ""
            },
            "colorscale": [
             [
              0,
              "#0d0887"
             ],
             [
              0.1111111111111111,
              "#46039f"
             ],
             [
              0.2222222222222222,
              "#7201a8"
             ],
             [
              0.3333333333333333,
              "#9c179e"
             ],
             [
              0.4444444444444444,
              "#bd3786"
             ],
             [
              0.5555555555555556,
              "#d8576b"
             ],
             [
              0.6666666666666666,
              "#ed7953"
             ],
             [
              0.7777777777777778,
              "#fb9f3a"
             ],
             [
              0.8888888888888888,
              "#fdca26"
             ],
             [
              1,
              "#f0f921"
             ]
            ],
            "type": "contour"
           }
          ],
          "contourcarpet": [
           {
            "colorbar": {
             "outlinewidth": 0,
             "ticks": ""
            },
            "type": "contourcarpet"
           }
          ],
          "heatmap": [
           {
            "colorbar": {
             "outlinewidth": 0,
             "ticks": ""
            },
            "colorscale": [
             [
              0,
              "#0d0887"
             ],
             [
              0.1111111111111111,
              "#46039f"
             ],
             [
              0.2222222222222222,
              "#7201a8"
             ],
             [
              0.3333333333333333,
              "#9c179e"
             ],
             [
              0.4444444444444444,
              "#bd3786"
             ],
             [
              0.5555555555555556,
              "#d8576b"
             ],
             [
              0.6666666666666666,
              "#ed7953"
             ],
             [
              0.7777777777777778,
              "#fb9f3a"
             ],
             [
              0.8888888888888888,
              "#fdca26"
             ],
             [
              1,
              "#f0f921"
             ]
            ],
            "type": "heatmap"
           }
          ],
          "heatmapgl": [
           {
            "colorbar": {
             "outlinewidth": 0,
             "ticks": ""
            },
            "colorscale": [
             [
              0,
              "#0d0887"
             ],
             [
              0.1111111111111111,
              "#46039f"
             ],
             [
              0.2222222222222222,
              "#7201a8"
             ],
             [
              0.3333333333333333,
              "#9c179e"
             ],
             [
              0.4444444444444444,
              "#bd3786"
             ],
             [
              0.5555555555555556,
              "#d8576b"
             ],
             [
              0.6666666666666666,
              "#ed7953"
             ],
             [
              0.7777777777777778,
              "#fb9f3a"
             ],
             [
              0.8888888888888888,
              "#fdca26"
             ],
             [
              1,
              "#f0f921"
             ]
            ],
            "type": "heatmapgl"
           }
          ],
          "histogram": [
           {
            "marker": {
             "pattern": {
              "fillmode": "overlay",
              "size": 10,
              "solidity": 0.2
             }
            },
            "type": "histogram"
           }
          ],
          "histogram2d": [
           {
            "colorbar": {
             "outlinewidth": 0,
             "ticks": ""
            },
            "colorscale": [
             [
              0,
              "#0d0887"
             ],
             [
              0.1111111111111111,
              "#46039f"
             ],
             [
              0.2222222222222222,
              "#7201a8"
             ],
             [
              0.3333333333333333,
              "#9c179e"
             ],
             [
              0.4444444444444444,
              "#bd3786"
             ],
             [
              0.5555555555555556,
              "#d8576b"
             ],
             [
              0.6666666666666666,
              "#ed7953"
             ],
             [
              0.7777777777777778,
              "#fb9f3a"
             ],
             [
              0.8888888888888888,
              "#fdca26"
             ],
             [
              1,
              "#f0f921"
             ]
            ],
            "type": "histogram2d"
           }
          ],
          "histogram2dcontour": [
           {
            "colorbar": {
             "outlinewidth": 0,
             "ticks": ""
            },
            "colorscale": [
             [
              0,
              "#0d0887"
             ],
             [
              0.1111111111111111,
              "#46039f"
             ],
             [
              0.2222222222222222,
              "#7201a8"
             ],
             [
              0.3333333333333333,
              "#9c179e"
             ],
             [
              0.4444444444444444,
              "#bd3786"
             ],
             [
              0.5555555555555556,
              "#d8576b"
             ],
             [
              0.6666666666666666,
              "#ed7953"
             ],
             [
              0.7777777777777778,
              "#fb9f3a"
             ],
             [
              0.8888888888888888,
              "#fdca26"
             ],
             [
              1,
              "#f0f921"
             ]
            ],
            "type": "histogram2dcontour"
           }
          ],
          "mesh3d": [
           {
            "colorbar": {
             "outlinewidth": 0,
             "ticks": ""
            },
            "type": "mesh3d"
           }
          ],
          "parcoords": [
           {
            "line": {
             "colorbar": {
              "outlinewidth": 0,
              "ticks": ""
             }
            },
            "type": "parcoords"
           }
          ],
          "pie": [
           {
            "automargin": true,
            "type": "pie"
           }
          ],
          "scatter": [
           {
            "fillpattern": {
             "fillmode": "overlay",
             "size": 10,
             "solidity": 0.2
            },
            "type": "scatter"
           }
          ],
          "scatter3d": [
           {
            "line": {
             "colorbar": {
              "outlinewidth": 0,
              "ticks": ""
             }
            },
            "marker": {
             "colorbar": {
              "outlinewidth": 0,
              "ticks": ""
             }
            },
            "type": "scatter3d"
           }
          ],
          "scattercarpet": [
           {
            "marker": {
             "colorbar": {
              "outlinewidth": 0,
              "ticks": ""
             }
            },
            "type": "scattercarpet"
           }
          ],
          "scattergeo": [
           {
            "marker": {
             "colorbar": {
              "outlinewidth": 0,
              "ticks": ""
             }
            },
            "type": "scattergeo"
           }
          ],
          "scattergl": [
           {
            "marker": {
             "colorbar": {
              "outlinewidth": 0,
              "ticks": ""
             }
            },
            "type": "scattergl"
           }
          ],
          "scattermapbox": [
           {
            "marker": {
             "colorbar": {
              "outlinewidth": 0,
              "ticks": ""
             }
            },
            "type": "scattermapbox"
           }
          ],
          "scatterpolar": [
           {
            "marker": {
             "colorbar": {
              "outlinewidth": 0,
              "ticks": ""
             }
            },
            "type": "scatterpolar"
           }
          ],
          "scatterpolargl": [
           {
            "marker": {
             "colorbar": {
              "outlinewidth": 0,
              "ticks": ""
             }
            },
            "type": "scatterpolargl"
           }
          ],
          "scatterternary": [
           {
            "marker": {
             "colorbar": {
              "outlinewidth": 0,
              "ticks": ""
             }
            },
            "type": "scatterternary"
           }
          ],
          "surface": [
           {
            "colorbar": {
             "outlinewidth": 0,
             "ticks": ""
            },
            "colorscale": [
             [
              0,
              "#0d0887"
             ],
             [
              0.1111111111111111,
              "#46039f"
             ],
             [
              0.2222222222222222,
              "#7201a8"
             ],
             [
              0.3333333333333333,
              "#9c179e"
             ],
             [
              0.4444444444444444,
              "#bd3786"
             ],
             [
              0.5555555555555556,
              "#d8576b"
             ],
             [
              0.6666666666666666,
              "#ed7953"
             ],
             [
              0.7777777777777778,
              "#fb9f3a"
             ],
             [
              0.8888888888888888,
              "#fdca26"
             ],
             [
              1,
              "#f0f921"
             ]
            ],
            "type": "surface"
           }
          ],
          "table": [
           {
            "cells": {
             "fill": {
              "color": "#EBF0F8"
             },
             "line": {
              "color": "white"
             }
            },
            "header": {
             "fill": {
              "color": "#C8D4E3"
             },
             "line": {
              "color": "white"
             }
            },
            "type": "table"
           }
          ]
         },
         "layout": {
          "annotationdefaults": {
           "arrowcolor": "#2a3f5f",
           "arrowhead": 0,
           "arrowwidth": 1
          },
          "autotypenumbers": "strict",
          "coloraxis": {
           "colorbar": {
            "outlinewidth": 0,
            "ticks": ""
           }
          },
          "colorscale": {
           "diverging": [
            [
             0,
             "#8e0152"
            ],
            [
             0.1,
             "#c51b7d"
            ],
            [
             0.2,
             "#de77ae"
            ],
            [
             0.3,
             "#f1b6da"
            ],
            [
             0.4,
             "#fde0ef"
            ],
            [
             0.5,
             "#f7f7f7"
            ],
            [
             0.6,
             "#e6f5d0"
            ],
            [
             0.7,
             "#b8e186"
            ],
            [
             0.8,
             "#7fbc41"
            ],
            [
             0.9,
             "#4d9221"
            ],
            [
             1,
             "#276419"
            ]
           ],
           "sequential": [
            [
             0,
             "#0d0887"
            ],
            [
             0.1111111111111111,
             "#46039f"
            ],
            [
             0.2222222222222222,
             "#7201a8"
            ],
            [
             0.3333333333333333,
             "#9c179e"
            ],
            [
             0.4444444444444444,
             "#bd3786"
            ],
            [
             0.5555555555555556,
             "#d8576b"
            ],
            [
             0.6666666666666666,
             "#ed7953"
            ],
            [
             0.7777777777777778,
             "#fb9f3a"
            ],
            [
             0.8888888888888888,
             "#fdca26"
            ],
            [
             1,
             "#f0f921"
            ]
           ],
           "sequentialminus": [
            [
             0,
             "#0d0887"
            ],
            [
             0.1111111111111111,
             "#46039f"
            ],
            [
             0.2222222222222222,
             "#7201a8"
            ],
            [
             0.3333333333333333,
             "#9c179e"
            ],
            [
             0.4444444444444444,
             "#bd3786"
            ],
            [
             0.5555555555555556,
             "#d8576b"
            ],
            [
             0.6666666666666666,
             "#ed7953"
            ],
            [
             0.7777777777777778,
             "#fb9f3a"
            ],
            [
             0.8888888888888888,
             "#fdca26"
            ],
            [
             1,
             "#f0f921"
            ]
           ]
          },
          "colorway": [
           "#636efa",
           "#EF553B",
           "#00cc96",
           "#ab63fa",
           "#FFA15A",
           "#19d3f3",
           "#FF6692",
           "#B6E880",
           "#FF97FF",
           "#FECB52"
          ],
          "font": {
           "color": "#2a3f5f"
          },
          "geo": {
           "bgcolor": "white",
           "lakecolor": "white",
           "landcolor": "#E5ECF6",
           "showlakes": true,
           "showland": true,
           "subunitcolor": "white"
          },
          "hoverlabel": {
           "align": "left"
          },
          "hovermode": "closest",
          "mapbox": {
           "style": "light"
          },
          "paper_bgcolor": "white",
          "plot_bgcolor": "#E5ECF6",
          "polar": {
           "angularaxis": {
            "gridcolor": "white",
            "linecolor": "white",
            "ticks": ""
           },
           "bgcolor": "#E5ECF6",
           "radialaxis": {
            "gridcolor": "white",
            "linecolor": "white",
            "ticks": ""
           }
          },
          "scene": {
           "xaxis": {
            "backgroundcolor": "#E5ECF6",
            "gridcolor": "white",
            "gridwidth": 2,
            "linecolor": "white",
            "showbackground": true,
            "ticks": "",
            "zerolinecolor": "white"
           },
           "yaxis": {
            "backgroundcolor": "#E5ECF6",
            "gridcolor": "white",
            "gridwidth": 2,
            "linecolor": "white",
            "showbackground": true,
            "ticks": "",
            "zerolinecolor": "white"
           },
           "zaxis": {
            "backgroundcolor": "#E5ECF6",
            "gridcolor": "white",
            "gridwidth": 2,
            "linecolor": "white",
            "showbackground": true,
            "ticks": "",
            "zerolinecolor": "white"
           }
          },
          "shapedefaults": {
           "line": {
            "color": "#2a3f5f"
           }
          },
          "ternary": {
           "aaxis": {
            "gridcolor": "white",
            "linecolor": "white",
            "ticks": ""
           },
           "baxis": {
            "gridcolor": "white",
            "linecolor": "white",
            "ticks": ""
           },
           "bgcolor": "#E5ECF6",
           "caxis": {
            "gridcolor": "white",
            "linecolor": "white",
            "ticks": ""
           }
          },
          "title": {
           "x": 0.05
          },
          "xaxis": {
           "automargin": true,
           "gridcolor": "white",
           "linecolor": "white",
           "ticks": "",
           "title": {
            "standoff": 15
           },
           "zerolinecolor": "white",
           "zerolinewidth": 2
          },
          "yaxis": {
           "automargin": true,
           "gridcolor": "white",
           "linecolor": "white",
           "ticks": "",
           "title": {
            "standoff": 15
           },
           "zerolinecolor": "white",
           "zerolinewidth": 2
          }
         }
        },
        "title": {
         "text": "Número de Personajes por Zona"
        },
        "width": 1000,
        "xaxis": {
         "anchor": "y",
         "autorange": true,
         "domain": [
          0,
          1
         ],
         "range": [
          -0.5,
          110.5
         ],
         "tickangle": -45,
         "title": {
          "text": "Zona"
         },
         "type": "category"
        },
        "yaxis": {
         "anchor": "x",
         "autorange": true,
         "domain": [
          0,
          1
         ],
         "range": [
          0,
          107338.94736842105
         ],
         "title": {
          "text": "Número de Personajes"
         },
         "type": "linear"
        }
       }
      },
      "image/png": "[encoded data removed]",
      "text/html": [
       "<div>                            <div id=\"5b2e08c1-00e7-4dad-8c49-f0e80430086d\" class=\"plotly-graph-div\" style=\"height:600px; width:1000px;\"></div>            <script type=\"text/javascript\">                require([\"plotly\"], function(Plotly) {                    window.PLOTLYENV=window.PLOTLYENV || {};                                    if (document.getElementById(\"5b2e08c1-00e7-4dad-8c49-f0e80430086d\")) {                    Plotly.newPlot(                        \"5b2e08c1-00e7-4dad-8c49-f0e80430086d\",                        [{\"alignmentgroup\":\"True\",\"hovertemplate\":\"Zona=%{x}\\u003cbr\\u003eNúmero de Personajes=%{y}\\u003cextra\\u003e\\u003c\\u002fextra\\u003e\",\"legendgroup\":\"\",\"marker\":{\"color\":\"#636efa\",\"pattern\":{\"shape\":\"\"}},\"name\":\"\",\"offsetgroup\":\"\",\"orientation\":\"v\",\"showlegend\":false,\"textposition\":\"auto\",\"x\":[\"Shattrath City\",\"Orgrimmar\",\"Terokkar Forest\",\"Arathi Basin\",\"Nagrand\",\"Karazhan\",\"Shadowmoon Valley\",\"Blade's Edge Mountains\",\"Netherstorm\",\"Hellfire Peninsula\",\"Alterac Valley\",\"Zangarmarsh\",\"Warsong Gulch\",\"The Barrens\",\"Serpentshrine Cavern\",\"Tempest Keep\",\"Stranglethorn Vale\",\"The Mechanar\",\"Undercity\",\"Ghostlands\",\"Eversong Woods\",\"Hillsbrad Foothills\",\"Durotar\",\"Tanaris\",\"Auchindoun: Shadow Labyrinth\",\"Eye of the Storm\",\"Coilfang: The Slave Pens\",\"The Steamvault\",\"Thousand Needles\",\"Thunder Bluff\",\"Mana-Tombs\",\"Tirisfal Glades\",\"Arathi Highlands\",\"The Botanica\",\"Ashenvale\",\"The Hinterlands\",\"Mulgore\",\"Silvermoon City\",\"Feralas\",\"Hellfire Ramparts\",\"Felwood\",\"Stonetalon Mountains\",\"The Underbog\",\"Un'Goro Crater\",\"The Arcatraz\",\"Winterspring\",\"Deadwind Pass\",\"Sethekk Halls\",\"Western Plaguelands\",\"Silverpine Forest\",\"Gruul's Lair\",\"The Blood Furnace\",\"The Shattered Halls\",\"Desolace\",\"The Black Morass\",\"Eastern Plaguelands\",\"Alterac Mountains\",\"Blade's Edge Arena\",\"Ruins of Lordaeron\",\"Old Hillsbrad Foothills\",\"Dustwallow Marsh\",\"Nagrand Arena\",\"Scarlet Monastery\",\"Badlands\",\"Hall of Legends\",\"Silithus\",\"Azshara\",\"Zul'Farrak\",\"Swamp of Sorrows\",\"Auchenai Crypts\",\"Wailing Caverns\",\"The Temple of Atal'Hakkar\",\"Magtheridon's Lair\",\"Shadowfang Keep\",\"Razorfen Kraul\",\"Stratholme\",\"Maraudon\",\"Ragefire Chasm\",\"Blasted Lands\",\"Scholomance\",\"Searing Gorge\",\"Dire Maul\",\"Razorfen Downs\",\"Burning Steppes\",\"Blackfathom Deeps\",\"Uldaman\",\"Zul'Gurub\",\"Gnomeregan\",\"Blackrock Spire\",\"Blackrock Depths\",\"Wetlands\",\"Moonglade\",\"Twisting Nether\",\"Duskwood\",\"Molten Core\",\"Loch Modan\",\"Blackrock Mountain\",\"Elwynn Forest\",\"Darkshore\",\"Deadmines\",\"Westfall\",\"Dun Morogh\",\"Teldrassil\",\"Redridge Mountains\",\"Onyxia's Lair\",\"Quel'thalas\",\"Stormwind City\",\"The Great Sea\",\"Gates of Ahn'Qiraj\",\"Azuremyst Isle\",\"Blackwing Lair\"],\"xaxis\":\"x\",\"y\":[101972,78224,52623,51115,40410,40218,39669,38340,35009,33549,33320,30906,26871,23387,23067,21824,17906,16470,15659,15157,14988,13272,11939,10752,10185,9933,9145,8565,8456,7878,7441,7351,7206,7084,6816,6474,6352,6322,6209,6099,5716,5381,5261,4959,4910,4851,4845,4699,4460,4433,4411,4326,4246,3907,3889,3758,3733,3585,3460,3363,3362,3279,3087,2699,2647,2581,2579,2461,2357,2330,2043,1906,1865,1473,1468,1388,1387,1276,1161,1125,1082,1007,956,942,758,642,544,427,404,392,380,378,370,338,210,190,187,133,127,97,69,36,24,23,13,7,3,2,2,1,1],\"yaxis\":\"y\",\"type\":\"bar\"}],                        {\"template\":{\"data\":{\"histogram2dcontour\":[{\"type\":\"histogram2dcontour\",\"colorbar\":{\"outlinewidth\":0,\"ticks\":\"\"},\"colorscale\":[[0.0,\"#0d0887\"],[0.1111111111111111,\"#46039f\"],[0.2222222222222222,\"#7201a8\"],[0.3333333333333333,\"#9c179e\"],[0.4444444444444444,\"#bd3786\"],[0.5555555555555556,\"#d8576b\"],[0.6666666666666666,\"#ed7953\"],[0.7777777777777778,\"#fb9f3a\"],[0.8888888888888888,\"#fdca26\"],[1.0,\"#f0f921\"]]}],\"choropleth\":[{\"type\":\"choropleth\",\"colorbar\":{\"outlinewidth\":0,\"ticks\":\"\"}}],\"histogram2d\":[{\"type\":\"histogram2d\",\"colorbar\":{\"outlinewidth\":0,\"ticks\":\"\"},\"colorscale\":[[0.0,\"#0d0887\"],[0.1111111111111111,\"#46039f\"],[0.2222222222222222,\"#7201a8\"],[0.3333333333333333,\"#9c179e\"],[0.4444444444444444,\"#bd3786\"],[0.5555555555555556,\"#d8576b\"],[0.6666666666666666,\"#ed7953\"],[0.7777777777777778,\"#fb9f3a\"],[0.8888888888888888,\"#fdca26\"],[1.0,\"#f0f921\"]]}],\"heatmap\":[{\"type\":\"heatmap\",\"colorbar\":{\"outlinewidth\":0,\"ticks\":\"\"},\"colorscale\":[[0.0,\"#0d0887\"],[0.1111111111111111,\"#46039f\"],[0.2222222222222222,\"#7201a8\"],[0.3333333333333333,\"#9c179e\"],[0.4444444444444444,\"#bd3786\"],[0.5555555555555556,\"#d8576b\"],[0.6666666666666666,\"#ed7953\"],[0.7777777777777778,\"#fb9f3a\"],[0.8888888888888888,\"#fdca26\"],[1.0,\"#f0f921\"]]}],\"heatmapgl\":[{\"type\":\"heatmapgl\",\"colorbar\":{\"outlinewidth\":0,\"ticks\":\"\"},\"colorscale\":[[0.0,\"#0d0887\"],[0.1111111111111111,\"#46039f\"],[0.2222222222222222,\"#7201a8\"],[0.3333333333333333,\"#9c179e\"],[0.4444444444444444,\"#bd3786\"],[0.5555555555555556,\"#d8576b\"],[0.6666666666666666,\"#ed7953\"],[0.7777777777777778,\"#fb9f3a\"],[0.8888888888888888,\"#fdca26\"],[1.0,\"#f0f921\"]]}],\"contourcarpet\":[{\"type\":\"contourcarpet\",\"colorbar\":{\"outlinewidth\":0,\"ticks\":\"\"}}],\"contour\":[{\"type\":\"contour\",\"colorbar\":{\"outlinewidth\":0,\"ticks\":\"\"},\"colorscale\":[[0.0,\"#0d0887\"],[0.1111111111111111,\"#46039f\"],[0.2222222222222222,\"#7201a8\"],[0.3333333333333333,\"#9c179e\"],[0.4444444444444444,\"#bd3786\"],[0.5555555555555556,\"#d8576b\"],[0.6666666666666666,\"#ed7953\"],[0.7777777777777778,\"#fb9f3a\"],[0.8888888888888888,\"#fdca26\"],[1.0,\"#f0f921\"]]}],\"surface\":[{\"type\":\"surface\",\"colorbar\":{\"outlinewidth\":0,\"ticks\":\"\"},\"colorscale\":[[0.0,\"#0d0887\"],[0.1111111111111111,\"#46039f\"],[0.2222222222222222,\"#7201a8\"],[0.3333333333333333,\"#9c179e\"],[0.4444444444444444,\"#bd3786\"],[0.5555555555555556,\"#d8576b\"],[0.6666666666666666,\"#ed7953\"],[0.7777777777777778,\"#fb9f3a\"],[0.8888888888888888,\"#fdca26\"],[1.0,\"#f0f921\"]]}],\"mesh3d\":[{\"type\":\"mesh3d\",\"colorbar\":{\"outlinewidth\":0,\"ticks\":\"\"}}],\"scatter\":[{\"fillpattern\":{\"fillmode\":\"overlay\",\"size\":10,\"solidity\":0.2},\"type\":\"scatter\"}],\"parcoords\":[{\"type\":\"parcoords\",\"line\":{\"colorbar\":{\"outlinewidth\":0,\"ticks\":\"\"}}}],\"scatterpolargl\":[{\"type\":\"scatterpolargl\",\"marker\":{\"colorbar\":{\"outlinewidth\":0,\"ticks\":\"\"}}}],\"bar\":[{\"error_x\":{\"color\":\"#2a3f5f\"},\"error_y\":{\"color\":\"#2a3f5f\"},\"marker\":{\"line\":{\"color\":\"#E5ECF6\",\"width\":0.5},\"pattern\":{\"fillmode\":\"overlay\",\"size\":10,\"solidity\":0.2}},\"type\":\"bar\"}],\"scattergeo\":[{\"type\":\"scattergeo\",\"marker\":{\"colorbar\":{\"outlinewidth\":0,\"ticks\":\"\"}}}],\"scatterpolar\":[{\"type\":\"scatterpolar\",\"marker\":{\"colorbar\":{\"outlinewidth\":0,\"ticks\":\"\"}}}],\"histogram\":[{\"marker\":{\"pattern\":{\"fillmode\":\"overlay\",\"size\":10,\"solidity\":0.2}},\"type\":\"histogram\"}],\"scattergl\":[{\"type\":\"scattergl\",\"marker\":{\"colorbar\":{\"outlinewidth\":0,\"ticks\":\"\"}}}],\"scatter3d\":[{\"type\":\"scatter3d\",\"line\":{\"colorbar\":{\"outlinewidth\":0,\"ticks\":\"\"}},\"marker\":{\"colorbar\":{\"outlinewidth\":0,\"ticks\":\"\"}}}],\"scattermapbox\":[{\"type\":\"scattermapbox\",\"marker\":{\"colorbar\":{\"outlinewidth\":0,\"ticks\":\"\"}}}],\"scatterternary\":[{\"type\":\"scatterternary\",\"marker\":{\"colorbar\":{\"outlinewidth\":0,\"ticks\":\"\"}}}],\"scattercarpet\":[{\"type\":\"scattercarpet\",\"marker\":{\"colorbar\":{\"outlinewidth\":0,\"ticks\":\"\"}}}],\"carpet\":[{\"aaxis\":{\"endlinecolor\":\"#2a3f5f\",\"gridcolor\":\"white\",\"linecolor\":\"white\",\"minorgridcolor\":\"white\",\"startlinecolor\":\"#2a3f5f\"},\"baxis\":{\"endlinecolor\":\"#2a3f5f\",\"gridcolor\":\"white\",\"linecolor\":\"white\",\"minorgridcolor\":\"white\",\"startlinecolor\":\"#2a3f5f\"},\"type\":\"carpet\"}],\"table\":[{\"cells\":{\"fill\":{\"color\":\"#EBF0F8\"},\"line\":{\"color\":\"white\"}},\"header\":{\"fill\":{\"color\":\"#C8D4E3\"},\"line\":{\"color\":\"white\"}},\"type\":\"table\"}],\"barpolar\":[{\"marker\":{\"line\":{\"color\":\"#E5ECF6\",\"width\":0.5},\"pattern\":{\"fillmode\":\"overlay\",\"size\":10,\"solidity\":0.2}},\"type\":\"barpolar\"}],\"pie\":[{\"automargin\":true,\"type\":\"pie\"}]},\"layout\":{\"autotypenumbers\":\"strict\",\"colorway\":[\"#636efa\",\"#EF553B\",\"#00cc96\",\"#ab63fa\",\"#FFA15A\",\"#19d3f3\",\"#FF6692\",\"#B6E880\",\"#FF97FF\",\"#FECB52\"],\"font\":{\"color\":\"#2a3f5f\"},\"hovermode\":\"closest\",\"hoverlabel\":{\"align\":\"left\"},\"paper_bgcolor\":\"white\",\"plot_bgcolor\":\"#E5ECF6\",\"polar\":{\"bgcolor\":\"#E5ECF6\",\"angularaxis\":{\"gridcolor\":\"white\",\"linecolor\":\"white\",\"ticks\":\"\"},\"radialaxis\":{\"gridcolor\":\"white\",\"linecolor\":\"white\",\"ticks\":\"\"}},\"ternary\":{\"bgcolor\":\"#E5ECF6\",\"aaxis\":{\"gridcolor\":\"white\",\"linecolor\":\"white\",\"ticks\":\"\"},\"baxis\":{\"gridcolor\":\"white\",\"linecolor\":\"white\",\"ticks\":\"\"},\"caxis\":{\"gridcolor\":\"white\",\"linecolor\":\"white\",\"ticks\":\"\"}},\"coloraxis\":{\"colorbar\":{\"outlinewidth\":0,\"ticks\":\"\"}},\"colorscale\":{\"sequential\":[[0.0,\"#0d0887\"],[0.1111111111111111,\"#46039f\"],[0.2222222222222222,\"#7201a8\"],[0.3333333333333333,\"#9c179e\"],[0.4444444444444444,\"#bd3786\"],[0.5555555555555556,\"#d8576b\"],[0.6666666666666666,\"#ed7953\"],[0.7777777777777778,\"#fb9f3a\"],[0.8888888888888888,\"#fdca26\"],[1.0,\"#f0f921\"]],\"sequentialminus\":[[0.0,\"#0d0887\"],[0.1111111111111111,\"#46039f\"],[0.2222222222222222,\"#7201a8\"],[0.3333333333333333,\"#9c179e\"],[0.4444444444444444,\"#bd3786\"],[0.5555555555555556,\"#d8576b\"],[0.6666666666666666,\"#ed7953\"],[0.7777777777777778,\"#fb9f3a\"],[0.8888888888888888,\"#fdca26\"],[1.0,\"#f0f921\"]],\"diverging\":[[0,\"#8e0152\"],[0.1,\"#c51b7d\"],[0.2,\"#de77ae\"],[0.3,\"#f1b6da\"],[0.4,\"#fde0ef\"],[0.5,\"#f7f7f7\"],[0.6,\"#e6f5d0\"],[0.7,\"#b8e186\"],[0.8,\"#7fbc41\"],[0.9,\"#4d9221\"],[1,\"#276419\"]]},\"xaxis\":{\"gridcolor\":\"white\",\"linecolor\":\"white\",\"ticks\":\"\",\"title\":{\"standoff\":15},\"zerolinecolor\":\"white\",\"automargin\":true,\"zerolinewidth\":2},\"yaxis\":{\"gridcolor\":\"white\",\"linecolor\":\"white\",\"ticks\":\"\",\"title\":{\"standoff\":15},\"zerolinecolor\":\"white\",\"automargin\":true,\"zerolinewidth\":2},\"scene\":{\"xaxis\":{\"backgroundcolor\":\"#E5ECF6\",\"gridcolor\":\"white\",\"linecolor\":\"white\",\"showbackground\":true,\"ticks\":\"\",\"zerolinecolor\":\"white\",\"gridwidth\":2},\"yaxis\":{\"backgroundcolor\":\"#E5ECF6\",\"gridcolor\":\"white\",\"linecolor\":\"white\",\"showbackground\":true,\"ticks\":\"\",\"zerolinecolor\":\"white\",\"gridwidth\":2},\"zaxis\":{\"backgroundcolor\":\"#E5ECF6\",\"gridcolor\":\"white\",\"linecolor\":\"white\",\"showbackground\":true,\"ticks\":\"\",\"zerolinecolor\":\"white\",\"gridwidth\":2}},\"shapedefaults\":{\"line\":{\"color\":\"#2a3f5f\"}},\"annotationdefaults\":{\"arrowcolor\":\"#2a3f5f\",\"arrowhead\":0,\"arrowwidth\":1},\"geo\":{\"bgcolor\":\"white\",\"landcolor\":\"#E5ECF6\",\"subunitcolor\":\"white\",\"showland\":true,\"showlakes\":true,\"lakecolor\":\"white\"},\"title\":{\"x\":0.05},\"mapbox\":{\"style\":\"light\"}}},\"xaxis\":{\"anchor\":\"y\",\"domain\":[0.0,1.0],\"title\":{\"text\":\"Zona\"},\"tickangle\":-45},\"yaxis\":{\"anchor\":\"x\",\"domain\":[0.0,1.0],\"title\":{\"text\":\"Número de Personajes\"}},\"legend\":{\"tracegroupgap\":0},\"title\":{\"text\":\"Número de Personajes por Zona\"},\"barmode\":\"relative\",\"height\":600,\"width\":1000,\"margin\":{\"l\":40,\"r\":40,\"t\":40,\"b\":100}},                        {\"responsive\": true}                    ).then(function(){\n",
       "                            \n",
       "var gd = document.getElementById('5b2e08c1-00e7-4dad-8c49-f0e80430086d');\n",
       "var x = new MutationObserver(function (mutations, observer) {{\n",
       "        var display = window.getComputedStyle(gd).display;\n",
       "        if (!display || display === 'none') {{\n",
       "            console.log([gd, 'removed!']);\n",
       "            Plotly.purge(gd);\n",
       "            observer.disconnect();\n",
       "        }}\n",
       "}});\n",
       "\n",
       "// Listen for the removal of the full notebook cells\n",
       "var notebookContainer = gd.closest('#notebook-container');\n",
       "if (notebookContainer) {{\n",
       "    x.observe(notebookContainer, {childList: true});\n",
       "}}\n",
       "\n",
       "// Listen for the clearing of the current output cell\n",
       "var outputEl = gd.closest('.output');\n",
       "if (outputEl) {{\n",
       "    x.observe(outputEl, {childList: true});\n",
       "}}\n",
       "\n",
       "                        })                };                });            </script>        </div>"
      ]
     },
     "metadata": {},
     "output_type": "display_data"
    }
   ],
   "source": [
    "zone_counts = wowah_data['zone'].value_counts().reset_index()\n",
    "zone_counts.columns = ['zone', 'count']\n",
    "\n",
    "fig = px.bar(\n",
    "    zone_counts,\n",
    "    x='zone',\n",
    "    y='count',\n",
    "    title='Número de Personajes por Zona',\n",
    "    labels={'zone': 'Zona', 'count': 'Número de Personajes'},\n",
    "    height=600,\n",
    "    width=1000\n",
    ")\n",
    "\n",
    "fig.update_layout(\n",
    "    xaxis_title='Zona',\n",
    "    yaxis_title='Número de Personajes',\n",
    "    xaxis=dict(tickangle=-45), \n",
    "    margin=dict(l=40, r=40, t=40, b=100)  \n",
    ")\n",
    "\n",
    "fig.show()"
   ]
  },
  {
   "cell_type": "markdown",
   "id": "c14a8094-e3f2-4650-a601-33950ae8f589",
   "metadata": {},
   "source": [
    "Contamos el número de personajes en cada zona utilizando la función `value_counts()` de pandas, que nos proporciona una tabla con el conteo de personajes por zona. A continuación, se crea un gráfico de barras para visualizar la distribución de personajes en cada zona del juego."
   ]
  },
  {
   "cell_type": "markdown",
   "id": "efbc4d79-c777-435a-8c93-a2aa80c7eedc",
   "metadata": {},
   "source": [
    "este gráfico proporciona una visión general útil para entender cómo se distribuyen los jugadores en diferentes zonas y puede servir como base para explorar más a fondo las razones detrás de estas tendencias."
   ]
  },
  {
   "cell_type": "code",
   "execution_count": 229,
   "id": "9c50c470-3513-4568-8bcf-7a90bc88dc7f",
   "metadata": {},
   "outputs": [
    {
     "data": {
      "application/vnd.plotly.v1+json": {
       "config": {
        "plotlyServerURL": "https://plot.ly"
       },
       "data": [
        {
         "alignmentgroup": "True",
         "hovertemplate": "Expansion=WoW<br>Zona=%{x}<br>Número de Jugadores=%{y}<extra></extra>",
         "legendgroup": "WoW",
         "marker": {
          "color": "#636efa",
          "pattern": {
           "shape": ""
          }
         },
         "name": "WoW",
         "offsetgroup": "WoW",
         "orientation": "v",
         "showlegend": true,
         "textposition": "auto",
         "type": "bar",
         "x": [
          "Alterac Valley",
          "Arathi Basin",
          "Blackfathom Deeps",
          "Blackrock Depths",
          "Blackrock Spire",
          "Blackwing Lair",
          "Blade's Edge Arena",
          "Dire Maul",
          "Eye of the Storm",
          "Gnomeregan",
          "Maraudon",
          "Molten Core",
          "Nagrand Arena",
          "Ragefire Chasm",
          "Razorfen Downs",
          "Razorfen Kraul",
          "Ruins of Lordaeron",
          "Scarlet Monastery",
          "Scholomance",
          "Shadowfang Keep",
          "Stratholme",
          "The Temple of Atal'Hakkar",
          "Uldaman",
          "Wailing Caverns",
          "Warsong Gulch",
          "Zul'Farrak"
         ],
         "xaxis": "x",
         "y": [
          33320,
          51115,
          758,
          392,
          404,
          1,
          3585,
          1007,
          9933,
          427,
          1387,
          210,
          3279,
          1276,
          956,
          1468,
          3460,
          3087,
          1125,
          1473,
          1388,
          1906,
          642,
          2043,
          26871,
          2461
         ],
         "yaxis": "y"
        },
        {
         "alignmentgroup": "True",
         "hovertemplate": "Expansion=TBC<br>Zona=%{x}<br>Número de Jugadores=%{y}<extra></extra>",
         "legendgroup": "TBC",
         "marker": {
          "color": "#EF553B",
          "pattern": {
           "shape": ""
          }
         },
         "name": "TBC",
         "offsetgroup": "TBC",
         "orientation": "v",
         "showlegend": true,
         "textposition": "auto",
         "type": "bar",
         "x": [
          "Auchenai Crypts",
          "Gruul's Lair",
          "Hellfire Ramparts",
          "Karazhan",
          "Magtheridon's Lair",
          "Mana-Tombs",
          "Old Hillsbrad Foothills",
          "Serpentshrine Cavern",
          "Sethekk Halls",
          "The Arcatraz",
          "The Black Morass",
          "The Blood Furnace",
          "The Botanica",
          "The Mechanar",
          "The Shattered Halls",
          "The Steamvault",
          "The Underbog"
         ],
         "xaxis": "x",
         "y": [
          2330,
          4411,
          6099,
          40218,
          1865,
          7441,
          3363,
          23067,
          4699,
          4910,
          3889,
          4326,
          7084,
          16470,
          4246,
          8565,
          5261
         ],
         "yaxis": "y"
        }
       ],
       "layout": {
        "autosize": true,
        "barmode": "relative",
        "legend": {
         "title": {
          "text": "Expansion"
         },
         "tracegroupgap": 0
        },
        "template": {
         "data": {
          "bar": [
           {
            "error_x": {
             "color": "#2a3f5f"
            },
            "error_y": {
             "color": "#2a3f5f"
            },
            "marker": {
             "line": {
              "color": "#E5ECF6",
              "width": 0.5
             },
             "pattern": {
              "fillmode": "overlay",
              "size": 10,
              "solidity": 0.2
             }
            },
            "type": "bar"
           }
          ],
          "barpolar": [
           {
            "marker": {
             "line": {
              "color": "#E5ECF6",
              "width": 0.5
             },
             "pattern": {
              "fillmode": "overlay",
              "size": 10,
              "solidity": 0.2
             }
            },
            "type": "barpolar"
           }
          ],
          "carpet": [
           {
            "aaxis": {
             "endlinecolor": "#2a3f5f",
             "gridcolor": "white",
             "linecolor": "white",
             "minorgridcolor": "white",
             "startlinecolor": "#2a3f5f"
            },
            "baxis": {
             "endlinecolor": "#2a3f5f",
             "gridcolor": "white",
             "linecolor": "white",
             "minorgridcolor": "white",
             "startlinecolor": "#2a3f5f"
            },
            "type": "carpet"
           }
          ],
          "choropleth": [
           {
            "colorbar": {
             "outlinewidth": 0,
             "ticks": ""
            },
            "type": "choropleth"
           }
          ],
          "contour": [
           {
            "colorbar": {
             "outlinewidth": 0,
             "ticks": ""
            },
            "colorscale": [
             [
              0,
              "#0d0887"
             ],
             [
              0.1111111111111111,
              "#46039f"
             ],
             [
              0.2222222222222222,
              "#7201a8"
             ],
             [
              0.3333333333333333,
              "#9c179e"
             ],
             [
              0.4444444444444444,
              "#bd3786"
             ],
             [
              0.5555555555555556,
              "#d8576b"
             ],
             [
              0.6666666666666666,
              "#ed7953"
             ],
             [
              0.7777777777777778,
              "#fb9f3a"
             ],
             [
              0.8888888888888888,
              "#fdca26"
             ],
             [
              1,
              "#f0f921"
             ]
            ],
            "type": "contour"
           }
          ],
          "contourcarpet": [
           {
            "colorbar": {
             "outlinewidth": 0,
             "ticks": ""
            },
            "type": "contourcarpet"
           }
          ],
          "heatmap": [
           {
            "colorbar": {
             "outlinewidth": 0,
             "ticks": ""
            },
            "colorscale": [
             [
              0,
              "#0d0887"
             ],
             [
              0.1111111111111111,
              "#46039f"
             ],
             [
              0.2222222222222222,
              "#7201a8"
             ],
             [
              0.3333333333333333,
              "#9c179e"
             ],
             [
              0.4444444444444444,
              "#bd3786"
             ],
             [
              0.5555555555555556,
              "#d8576b"
             ],
             [
              0.6666666666666666,
              "#ed7953"
             ],
             [
              0.7777777777777778,
              "#fb9f3a"
             ],
             [
              0.8888888888888888,
              "#fdca26"
             ],
             [
              1,
              "#f0f921"
             ]
            ],
            "type": "heatmap"
           }
          ],
          "heatmapgl": [
           {
            "colorbar": {
             "outlinewidth": 0,
             "ticks": ""
            },
            "colorscale": [
             [
              0,
              "#0d0887"
             ],
             [
              0.1111111111111111,
              "#46039f"
             ],
             [
              0.2222222222222222,
              "#7201a8"
             ],
             [
              0.3333333333333333,
              "#9c179e"
             ],
             [
              0.4444444444444444,
              "#bd3786"
             ],
             [
              0.5555555555555556,
              "#d8576b"
             ],
             [
              0.6666666666666666,
              "#ed7953"
             ],
             [
              0.7777777777777778,
              "#fb9f3a"
             ],
             [
              0.8888888888888888,
              "#fdca26"
             ],
             [
              1,
              "#f0f921"
             ]
            ],
            "type": "heatmapgl"
           }
          ],
          "histogram": [
           {
            "marker": {
             "pattern": {
              "fillmode": "overlay",
              "size": 10,
              "solidity": 0.2
             }
            },
            "type": "histogram"
           }
          ],
          "histogram2d": [
           {
            "colorbar": {
             "outlinewidth": 0,
             "ticks": ""
            },
            "colorscale": [
             [
              0,
              "#0d0887"
             ],
             [
              0.1111111111111111,
              "#46039f"
             ],
             [
              0.2222222222222222,
              "#7201a8"
             ],
             [
              0.3333333333333333,
              "#9c179e"
             ],
             [
              0.4444444444444444,
              "#bd3786"
             ],
             [
              0.5555555555555556,
              "#d8576b"
             ],
             [
              0.6666666666666666,
              "#ed7953"
             ],
             [
              0.7777777777777778,
              "#fb9f3a"
             ],
             [
              0.8888888888888888,
              "#fdca26"
             ],
             [
              1,
              "#f0f921"
             ]
            ],
            "type": "histogram2d"
           }
          ],
          "histogram2dcontour": [
           {
            "colorbar": {
             "outlinewidth": 0,
             "ticks": ""
            },
            "colorscale": [
             [
              0,
              "#0d0887"
             ],
             [
              0.1111111111111111,
              "#46039f"
             ],
             [
              0.2222222222222222,
              "#7201a8"
             ],
             [
              0.3333333333333333,
              "#9c179e"
             ],
             [
              0.4444444444444444,
              "#bd3786"
             ],
             [
              0.5555555555555556,
              "#d8576b"
             ],
             [
              0.6666666666666666,
              "#ed7953"
             ],
             [
              0.7777777777777778,
              "#fb9f3a"
             ],
             [
              0.8888888888888888,
              "#fdca26"
             ],
             [
              1,
              "#f0f921"
             ]
            ],
            "type": "histogram2dcontour"
           }
          ],
          "mesh3d": [
           {
            "colorbar": {
             "outlinewidth": 0,
             "ticks": ""
            },
            "type": "mesh3d"
           }
          ],
          "parcoords": [
           {
            "line": {
             "colorbar": {
              "outlinewidth": 0,
              "ticks": ""
             }
            },
            "type": "parcoords"
           }
          ],
          "pie": [
           {
            "automargin": true,
            "type": "pie"
           }
          ],
          "scatter": [
           {
            "fillpattern": {
             "fillmode": "overlay",
             "size": 10,
             "solidity": 0.2
            },
            "type": "scatter"
           }
          ],
          "scatter3d": [
           {
            "line": {
             "colorbar": {
              "outlinewidth": 0,
              "ticks": ""
             }
            },
            "marker": {
             "colorbar": {
              "outlinewidth": 0,
              "ticks": ""
             }
            },
            "type": "scatter3d"
           }
          ],
          "scattercarpet": [
           {
            "marker": {
             "colorbar": {
              "outlinewidth": 0,
              "ticks": ""
             }
            },
            "type": "scattercarpet"
           }
          ],
          "scattergeo": [
           {
            "marker": {
             "colorbar": {
              "outlinewidth": 0,
              "ticks": ""
             }
            },
            "type": "scattergeo"
           }
          ],
          "scattergl": [
           {
            "marker": {
             "colorbar": {
              "outlinewidth": 0,
              "ticks": ""
             }
            },
            "type": "scattergl"
           }
          ],
          "scattermapbox": [
           {
            "marker": {
             "colorbar": {
              "outlinewidth": 0,
              "ticks": ""
             }
            },
            "type": "scattermapbox"
           }
          ],
          "scatterpolar": [
           {
            "marker": {
             "colorbar": {
              "outlinewidth": 0,
              "ticks": ""
             }
            },
            "type": "scatterpolar"
           }
          ],
          "scatterpolargl": [
           {
            "marker": {
             "colorbar": {
              "outlinewidth": 0,
              "ticks": ""
             }
            },
            "type": "scatterpolargl"
           }
          ],
          "scatterternary": [
           {
            "marker": {
             "colorbar": {
              "outlinewidth": 0,
              "ticks": ""
             }
            },
            "type": "scatterternary"
           }
          ],
          "surface": [
           {
            "colorbar": {
             "outlinewidth": 0,
             "ticks": ""
            },
            "colorscale": [
             [
              0,
              "#0d0887"
             ],
             [
              0.1111111111111111,
              "#46039f"
             ],
             [
              0.2222222222222222,
              "#7201a8"
             ],
             [
              0.3333333333333333,
              "#9c179e"
             ],
             [
              0.4444444444444444,
              "#bd3786"
             ],
             [
              0.5555555555555556,
              "#d8576b"
             ],
             [
              0.6666666666666666,
              "#ed7953"
             ],
             [
              0.7777777777777778,
              "#fb9f3a"
             ],
             [
              0.8888888888888888,
              "#fdca26"
             ],
             [
              1,
              "#f0f921"
             ]
            ],
            "type": "surface"
           }
          ],
          "table": [
           {
            "cells": {
             "fill": {
              "color": "#EBF0F8"
             },
             "line": {
              "color": "white"
             }
            },
            "header": {
             "fill": {
              "color": "#C8D4E3"
             },
             "line": {
              "color": "white"
             }
            },
            "type": "table"
           }
          ]
         },
         "layout": {
          "annotationdefaults": {
           "arrowcolor": "#2a3f5f",
           "arrowhead": 0,
           "arrowwidth": 1
          },
          "autotypenumbers": "strict",
          "coloraxis": {
           "colorbar": {
            "outlinewidth": 0,
            "ticks": ""
           }
          },
          "colorscale": {
           "diverging": [
            [
             0,
             "#8e0152"
            ],
            [
             0.1,
             "#c51b7d"
            ],
            [
             0.2,
             "#de77ae"
            ],
            [
             0.3,
             "#f1b6da"
            ],
            [
             0.4,
             "#fde0ef"
            ],
            [
             0.5,
             "#f7f7f7"
            ],
            [
             0.6,
             "#e6f5d0"
            ],
            [
             0.7,
             "#b8e186"
            ],
            [
             0.8,
             "#7fbc41"
            ],
            [
             0.9,
             "#4d9221"
            ],
            [
             1,
             "#276419"
            ]
           ],
           "sequential": [
            [
             0,
             "#0d0887"
            ],
            [
             0.1111111111111111,
             "#46039f"
            ],
            [
             0.2222222222222222,
             "#7201a8"
            ],
            [
             0.3333333333333333,
             "#9c179e"
            ],
            [
             0.4444444444444444,
             "#bd3786"
            ],
            [
             0.5555555555555556,
             "#d8576b"
            ],
            [
             0.6666666666666666,
             "#ed7953"
            ],
            [
             0.7777777777777778,
             "#fb9f3a"
            ],
            [
             0.8888888888888888,
             "#fdca26"
            ],
            [
             1,
             "#f0f921"
            ]
           ],
           "sequentialminus": [
            [
             0,
             "#0d0887"
            ],
            [
             0.1111111111111111,
             "#46039f"
            ],
            [
             0.2222222222222222,
             "#7201a8"
            ],
            [
             0.3333333333333333,
             "#9c179e"
            ],
            [
             0.4444444444444444,
             "#bd3786"
            ],
            [
             0.5555555555555556,
             "#d8576b"
            ],
            [
             0.6666666666666666,
             "#ed7953"
            ],
            [
             0.7777777777777778,
             "#fb9f3a"
            ],
            [
             0.8888888888888888,
             "#fdca26"
            ],
            [
             1,
             "#f0f921"
            ]
           ]
          },
          "colorway": [
           "#636efa",
           "#EF553B",
           "#00cc96",
           "#ab63fa",
           "#FFA15A",
           "#19d3f3",
           "#FF6692",
           "#B6E880",
           "#FF97FF",
           "#FECB52"
          ],
          "font": {
           "color": "#2a3f5f"
          },
          "geo": {
           "bgcolor": "white",
           "lakecolor": "white",
           "landcolor": "#E5ECF6",
           "showlakes": true,
           "showland": true,
           "subunitcolor": "white"
          },
          "hoverlabel": {
           "align": "left"
          },
          "hovermode": "closest",
          "mapbox": {
           "style": "light"
          },
          "paper_bgcolor": "white",
          "plot_bgcolor": "#E5ECF6",
          "polar": {
           "angularaxis": {
            "gridcolor": "white",
            "linecolor": "white",
            "ticks": ""
           },
           "bgcolor": "#E5ECF6",
           "radialaxis": {
            "gridcolor": "white",
            "linecolor": "white",
            "ticks": ""
           }
          },
          "scene": {
           "xaxis": {
            "backgroundcolor": "#E5ECF6",
            "gridcolor": "white",
            "gridwidth": 2,
            "linecolor": "white",
            "showbackground": true,
            "ticks": "",
            "zerolinecolor": "white"
           },
           "yaxis": {
            "backgroundcolor": "#E5ECF6",
            "gridcolor": "white",
            "gridwidth": 2,
            "linecolor": "white",
            "showbackground": true,
            "ticks": "",
            "zerolinecolor": "white"
           },
           "zaxis": {
            "backgroundcolor": "#E5ECF6",
            "gridcolor": "white",
            "gridwidth": 2,
            "linecolor": "white",
            "showbackground": true,
            "ticks": "",
            "zerolinecolor": "white"
           }
          },
          "shapedefaults": {
           "line": {
            "color": "#2a3f5f"
           }
          },
          "ternary": {
           "aaxis": {
            "gridcolor": "white",
            "linecolor": "white",
            "ticks": ""
           },
           "baxis": {
            "gridcolor": "white",
            "linecolor": "white",
            "ticks": ""
           },
           "bgcolor": "#E5ECF6",
           "caxis": {
            "gridcolor": "white",
            "linecolor": "white",
            "ticks": ""
           }
          },
          "title": {
           "x": 0.05
          },
          "xaxis": {
           "automargin": true,
           "gridcolor": "white",
           "linecolor": "white",
           "ticks": "",
           "title": {
            "standoff": 15
           },
           "zerolinecolor": "white",
           "zerolinewidth": 2
          },
          "yaxis": {
           "automargin": true,
           "gridcolor": "white",
           "linecolor": "white",
           "ticks": "",
           "title": {
            "standoff": 15
           },
           "zerolinecolor": "white",
           "zerolinewidth": 2
          }
         }
        },
        "title": {
         "text": "Número de Jugadores por Zona y Expansión"
        },
        "xaxis": {
         "anchor": "y",
         "autorange": true,
         "domain": [
          0,
          1
         ],
         "range": [
          -0.5,
          42.5
         ],
         "tickangle": -45,
         "title": {
          "text": "Zona"
         },
         "type": "category"
        },
        "yaxis": {
         "anchor": "x",
         "autorange": true,
         "domain": [
          0,
          1
         ],
         "range": [
          0,
          53805.26315789474
         ],
         "title": {
          "text": "Número de Jugadores"
         },
         "type": "linear"
        }
       }
      },
      "image/png": "[encoded data removed]",
      "text/html": [
       "<div>                            <div id=\"1b36041d-6bbd-41fa-8d95-f419f6a4cd6d\" class=\"plotly-graph-div\" style=\"height:525px; width:100%;\"></div>            <script type=\"text/javascript\">                require([\"plotly\"], function(Plotly) {                    window.PLOTLYENV=window.PLOTLYENV || {};                                    if (document.getElementById(\"1b36041d-6bbd-41fa-8d95-f419f6a4cd6d\")) {                    Plotly.newPlot(                        \"1b36041d-6bbd-41fa-8d95-f419f6a4cd6d\",                        [{\"alignmentgroup\":\"True\",\"hovertemplate\":\"Expansion=WoW\\u003cbr\\u003eZona=%{x}\\u003cbr\\u003eNúmero de Jugadores=%{y}\\u003cextra\\u003e\\u003c\\u002fextra\\u003e\",\"legendgroup\":\"WoW\",\"marker\":{\"color\":\"#636efa\",\"pattern\":{\"shape\":\"\"}},\"name\":\"WoW\",\"offsetgroup\":\"WoW\",\"orientation\":\"v\",\"showlegend\":true,\"textposition\":\"auto\",\"x\":[\"Alterac Valley\",\"Arathi Basin\",\"Blackfathom Deeps\",\"Blackrock Depths\",\"Blackrock Spire\",\"Blackwing Lair\",\"Blade's Edge Arena\",\"Dire Maul\",\"Eye of the Storm\",\"Gnomeregan\",\"Maraudon\",\"Molten Core\",\"Nagrand Arena\",\"Ragefire Chasm\",\"Razorfen Downs\",\"Razorfen Kraul\",\"Ruins of Lordaeron\",\"Scarlet Monastery\",\"Scholomance\",\"Shadowfang Keep\",\"Stratholme\",\"The Temple of Atal'Hakkar\",\"Uldaman\",\"Wailing Caverns\",\"Warsong Gulch\",\"Zul'Farrak\"],\"xaxis\":\"x\",\"y\":[33320,51115,758,392,404,1,3585,1007,9933,427,1387,210,3279,1276,956,1468,3460,3087,1125,1473,1388,1906,642,2043,26871,2461],\"yaxis\":\"y\",\"type\":\"bar\"},{\"alignmentgroup\":\"True\",\"hovertemplate\":\"Expansion=TBC\\u003cbr\\u003eZona=%{x}\\u003cbr\\u003eNúmero de Jugadores=%{y}\\u003cextra\\u003e\\u003c\\u002fextra\\u003e\",\"legendgroup\":\"TBC\",\"marker\":{\"color\":\"#EF553B\",\"pattern\":{\"shape\":\"\"}},\"name\":\"TBC\",\"offsetgroup\":\"TBC\",\"orientation\":\"v\",\"showlegend\":true,\"textposition\":\"auto\",\"x\":[\"Auchenai Crypts\",\"Gruul's Lair\",\"Hellfire Ramparts\",\"Karazhan\",\"Magtheridon's Lair\",\"Mana-Tombs\",\"Old Hillsbrad Foothills\",\"Serpentshrine Cavern\",\"Sethekk Halls\",\"The Arcatraz\",\"The Black Morass\",\"The Blood Furnace\",\"The Botanica\",\"The Mechanar\",\"The Shattered Halls\",\"The Steamvault\",\"The Underbog\"],\"xaxis\":\"x\",\"y\":[2330,4411,6099,40218,1865,7441,3363,23067,4699,4910,3889,4326,7084,16470,4246,8565,5261],\"yaxis\":\"y\",\"type\":\"bar\"}],                        {\"template\":{\"data\":{\"histogram2dcontour\":[{\"type\":\"histogram2dcontour\",\"colorbar\":{\"outlinewidth\":0,\"ticks\":\"\"},\"colorscale\":[[0.0,\"#0d0887\"],[0.1111111111111111,\"#46039f\"],[0.2222222222222222,\"#7201a8\"],[0.3333333333333333,\"#9c179e\"],[0.4444444444444444,\"#bd3786\"],[0.5555555555555556,\"#d8576b\"],[0.6666666666666666,\"#ed7953\"],[0.7777777777777778,\"#fb9f3a\"],[0.8888888888888888,\"#fdca26\"],[1.0,\"#f0f921\"]]}],\"choropleth\":[{\"type\":\"choropleth\",\"colorbar\":{\"outlinewidth\":0,\"ticks\":\"\"}}],\"histogram2d\":[{\"type\":\"histogram2d\",\"colorbar\":{\"outlinewidth\":0,\"ticks\":\"\"},\"colorscale\":[[0.0,\"#0d0887\"],[0.1111111111111111,\"#46039f\"],[0.2222222222222222,\"#7201a8\"],[0.3333333333333333,\"#9c179e\"],[0.4444444444444444,\"#bd3786\"],[0.5555555555555556,\"#d8576b\"],[0.6666666666666666,\"#ed7953\"],[0.7777777777777778,\"#fb9f3a\"],[0.8888888888888888,\"#fdca26\"],[1.0,\"#f0f921\"]]}],\"heatmap\":[{\"type\":\"heatmap\",\"colorbar\":{\"outlinewidth\":0,\"ticks\":\"\"},\"colorscale\":[[0.0,\"#0d0887\"],[0.1111111111111111,\"#46039f\"],[0.2222222222222222,\"#7201a8\"],[0.3333333333333333,\"#9c179e\"],[0.4444444444444444,\"#bd3786\"],[0.5555555555555556,\"#d8576b\"],[0.6666666666666666,\"#ed7953\"],[0.7777777777777778,\"#fb9f3a\"],[0.8888888888888888,\"#fdca26\"],[1.0,\"#f0f921\"]]}],\"heatmapgl\":[{\"type\":\"heatmapgl\",\"colorbar\":{\"outlinewidth\":0,\"ticks\":\"\"},\"colorscale\":[[0.0,\"#0d0887\"],[0.1111111111111111,\"#46039f\"],[0.2222222222222222,\"#7201a8\"],[0.3333333333333333,\"#9c179e\"],[0.4444444444444444,\"#bd3786\"],[0.5555555555555556,\"#d8576b\"],[0.6666666666666666,\"#ed7953\"],[0.7777777777777778,\"#fb9f3a\"],[0.8888888888888888,\"#fdca26\"],[1.0,\"#f0f921\"]]}],\"contourcarpet\":[{\"type\":\"contourcarpet\",\"colorbar\":{\"outlinewidth\":0,\"ticks\":\"\"}}],\"contour\":[{\"type\":\"contour\",\"colorbar\":{\"outlinewidth\":0,\"ticks\":\"\"},\"colorscale\":[[0.0,\"#0d0887\"],[0.1111111111111111,\"#46039f\"],[0.2222222222222222,\"#7201a8\"],[0.3333333333333333,\"#9c179e\"],[0.4444444444444444,\"#bd3786\"],[0.5555555555555556,\"#d8576b\"],[0.6666666666666666,\"#ed7953\"],[0.7777777777777778,\"#fb9f3a\"],[0.8888888888888888,\"#fdca26\"],[1.0,\"#f0f921\"]]}],\"surface\":[{\"type\":\"surface\",\"colorbar\":{\"outlinewidth\":0,\"ticks\":\"\"},\"colorscale\":[[0.0,\"#0d0887\"],[0.1111111111111111,\"#46039f\"],[0.2222222222222222,\"#7201a8\"],[0.3333333333333333,\"#9c179e\"],[0.4444444444444444,\"#bd3786\"],[0.5555555555555556,\"#d8576b\"],[0.6666666666666666,\"#ed7953\"],[0.7777777777777778,\"#fb9f3a\"],[0.8888888888888888,\"#fdca26\"],[1.0,\"#f0f921\"]]}],\"mesh3d\":[{\"type\":\"mesh3d\",\"colorbar\":{\"outlinewidth\":0,\"ticks\":\"\"}}],\"scatter\":[{\"fillpattern\":{\"fillmode\":\"overlay\",\"size\":10,\"solidity\":0.2},\"type\":\"scatter\"}],\"parcoords\":[{\"type\":\"parcoords\",\"line\":{\"colorbar\":{\"outlinewidth\":0,\"ticks\":\"\"}}}],\"scatterpolargl\":[{\"type\":\"scatterpolargl\",\"marker\":{\"colorbar\":{\"outlinewidth\":0,\"ticks\":\"\"}}}],\"bar\":[{\"error_x\":{\"color\":\"#2a3f5f\"},\"error_y\":{\"color\":\"#2a3f5f\"},\"marker\":{\"line\":{\"color\":\"#E5ECF6\",\"width\":0.5},\"pattern\":{\"fillmode\":\"overlay\",\"size\":10,\"solidity\":0.2}},\"type\":\"bar\"}],\"scattergeo\":[{\"type\":\"scattergeo\",\"marker\":{\"colorbar\":{\"outlinewidth\":0,\"ticks\":\"\"}}}],\"scatterpolar\":[{\"type\":\"scatterpolar\",\"marker\":{\"colorbar\":{\"outlinewidth\":0,\"ticks\":\"\"}}}],\"histogram\":[{\"marker\":{\"pattern\":{\"fillmode\":\"overlay\",\"size\":10,\"solidity\":0.2}},\"type\":\"histogram\"}],\"scattergl\":[{\"type\":\"scattergl\",\"marker\":{\"colorbar\":{\"outlinewidth\":0,\"ticks\":\"\"}}}],\"scatter3d\":[{\"type\":\"scatter3d\",\"line\":{\"colorbar\":{\"outlinewidth\":0,\"ticks\":\"\"}},\"marker\":{\"colorbar\":{\"outlinewidth\":0,\"ticks\":\"\"}}}],\"scattermapbox\":[{\"type\":\"scattermapbox\",\"marker\":{\"colorbar\":{\"outlinewidth\":0,\"ticks\":\"\"}}}],\"scatterternary\":[{\"type\":\"scatterternary\",\"marker\":{\"colorbar\":{\"outlinewidth\":0,\"ticks\":\"\"}}}],\"scattercarpet\":[{\"type\":\"scattercarpet\",\"marker\":{\"colorbar\":{\"outlinewidth\":0,\"ticks\":\"\"}}}],\"carpet\":[{\"aaxis\":{\"endlinecolor\":\"#2a3f5f\",\"gridcolor\":\"white\",\"linecolor\":\"white\",\"minorgridcolor\":\"white\",\"startlinecolor\":\"#2a3f5f\"},\"baxis\":{\"endlinecolor\":\"#2a3f5f\",\"gridcolor\":\"white\",\"linecolor\":\"white\",\"minorgridcolor\":\"white\",\"startlinecolor\":\"#2a3f5f\"},\"type\":\"carpet\"}],\"table\":[{\"cells\":{\"fill\":{\"color\":\"#EBF0F8\"},\"line\":{\"color\":\"white\"}},\"header\":{\"fill\":{\"color\":\"#C8D4E3\"},\"line\":{\"color\":\"white\"}},\"type\":\"table\"}],\"barpolar\":[{\"marker\":{\"line\":{\"color\":\"#E5ECF6\",\"width\":0.5},\"pattern\":{\"fillmode\":\"overlay\",\"size\":10,\"solidity\":0.2}},\"type\":\"barpolar\"}],\"pie\":[{\"automargin\":true,\"type\":\"pie\"}]},\"layout\":{\"autotypenumbers\":\"strict\",\"colorway\":[\"#636efa\",\"#EF553B\",\"#00cc96\",\"#ab63fa\",\"#FFA15A\",\"#19d3f3\",\"#FF6692\",\"#B6E880\",\"#FF97FF\",\"#FECB52\"],\"font\":{\"color\":\"#2a3f5f\"},\"hovermode\":\"closest\",\"hoverlabel\":{\"align\":\"left\"},\"paper_bgcolor\":\"white\",\"plot_bgcolor\":\"#E5ECF6\",\"polar\":{\"bgcolor\":\"#E5ECF6\",\"angularaxis\":{\"gridcolor\":\"white\",\"linecolor\":\"white\",\"ticks\":\"\"},\"radialaxis\":{\"gridcolor\":\"white\",\"linecolor\":\"white\",\"ticks\":\"\"}},\"ternary\":{\"bgcolor\":\"#E5ECF6\",\"aaxis\":{\"gridcolor\":\"white\",\"linecolor\":\"white\",\"ticks\":\"\"},\"baxis\":{\"gridcolor\":\"white\",\"linecolor\":\"white\",\"ticks\":\"\"},\"caxis\":{\"gridcolor\":\"white\",\"linecolor\":\"white\",\"ticks\":\"\"}},\"coloraxis\":{\"colorbar\":{\"outlinewidth\":0,\"ticks\":\"\"}},\"colorscale\":{\"sequential\":[[0.0,\"#0d0887\"],[0.1111111111111111,\"#46039f\"],[0.2222222222222222,\"#7201a8\"],[0.3333333333333333,\"#9c179e\"],[0.4444444444444444,\"#bd3786\"],[0.5555555555555556,\"#d8576b\"],[0.6666666666666666,\"#ed7953\"],[0.7777777777777778,\"#fb9f3a\"],[0.8888888888888888,\"#fdca26\"],[1.0,\"#f0f921\"]],\"sequentialminus\":[[0.0,\"#0d0887\"],[0.1111111111111111,\"#46039f\"],[0.2222222222222222,\"#7201a8\"],[0.3333333333333333,\"#9c179e\"],[0.4444444444444444,\"#bd3786\"],[0.5555555555555556,\"#d8576b\"],[0.6666666666666666,\"#ed7953\"],[0.7777777777777778,\"#fb9f3a\"],[0.8888888888888888,\"#fdca26\"],[1.0,\"#f0f921\"]],\"diverging\":[[0,\"#8e0152\"],[0.1,\"#c51b7d\"],[0.2,\"#de77ae\"],[0.3,\"#f1b6da\"],[0.4,\"#fde0ef\"],[0.5,\"#f7f7f7\"],[0.6,\"#e6f5d0\"],[0.7,\"#b8e186\"],[0.8,\"#7fbc41\"],[0.9,\"#4d9221\"],[1,\"#276419\"]]},\"xaxis\":{\"gridcolor\":\"white\",\"linecolor\":\"white\",\"ticks\":\"\",\"title\":{\"standoff\":15},\"zerolinecolor\":\"white\",\"automargin\":true,\"zerolinewidth\":2},\"yaxis\":{\"gridcolor\":\"white\",\"linecolor\":\"white\",\"ticks\":\"\",\"title\":{\"standoff\":15},\"zerolinecolor\":\"white\",\"automargin\":true,\"zerolinewidth\":2},\"scene\":{\"xaxis\":{\"backgroundcolor\":\"#E5ECF6\",\"gridcolor\":\"white\",\"linecolor\":\"white\",\"showbackground\":true,\"ticks\":\"\",\"zerolinecolor\":\"white\",\"gridwidth\":2},\"yaxis\":{\"backgroundcolor\":\"#E5ECF6\",\"gridcolor\":\"white\",\"linecolor\":\"white\",\"showbackground\":true,\"ticks\":\"\",\"zerolinecolor\":\"white\",\"gridwidth\":2},\"zaxis\":{\"backgroundcolor\":\"#E5ECF6\",\"gridcolor\":\"white\",\"linecolor\":\"white\",\"showbackground\":true,\"ticks\":\"\",\"zerolinecolor\":\"white\",\"gridwidth\":2}},\"shapedefaults\":{\"line\":{\"color\":\"#2a3f5f\"}},\"annotationdefaults\":{\"arrowcolor\":\"#2a3f5f\",\"arrowhead\":0,\"arrowwidth\":1},\"geo\":{\"bgcolor\":\"white\",\"landcolor\":\"#E5ECF6\",\"subunitcolor\":\"white\",\"showland\":true,\"showlakes\":true,\"lakecolor\":\"white\"},\"title\":{\"x\":0.05},\"mapbox\":{\"style\":\"light\"}}},\"xaxis\":{\"anchor\":\"y\",\"domain\":[0.0,1.0],\"title\":{\"text\":\"Zona\"},\"tickangle\":-45},\"yaxis\":{\"anchor\":\"x\",\"domain\":[0.0,1.0],\"title\":{\"text\":\"Número de Jugadores\"}},\"legend\":{\"title\":{\"text\":\"Expansion\"},\"tracegroupgap\":0},\"title\":{\"text\":\"Número de Jugadores por Zona y Expansión\"},\"barmode\":\"relative\"},                        {\"responsive\": true}                    ).then(function(){\n",
       "                            \n",
       "var gd = document.getElementById('1b36041d-6bbd-41fa-8d95-f419f6a4cd6d');\n",
       "var x = new MutationObserver(function (mutations, observer) {{\n",
       "        var display = window.getComputedStyle(gd).display;\n",
       "        if (!display || display === 'none') {{\n",
       "            console.log([gd, 'removed!']);\n",
       "            Plotly.purge(gd);\n",
       "            observer.disconnect();\n",
       "        }}\n",
       "}});\n",
       "\n",
       "// Listen for the removal of the full notebook cells\n",
       "var notebookContainer = gd.closest('#notebook-container');\n",
       "if (notebookContainer) {{\n",
       "    x.observe(notebookContainer, {childList: true});\n",
       "}}\n",
       "\n",
       "// Listen for the clearing of the current output cell\n",
       "var outputEl = gd.closest('.output');\n",
       "if (outputEl) {{\n",
       "    x.observe(outputEl, {childList: true});\n",
       "}}\n",
       "\n",
       "                        })                };                });            </script>        </div>"
      ]
     },
     "metadata": {},
     "output_type": "display_data"
    }
   ],
   "source": [
    "\n",
    "filtered_wowah_data_wow = wowah_data[wowah_data['zone'].isin(locations[locations['Game_Version'] == 'WoW']['Location_Name'])]\n",
    "filtered_wowah_data_tbc = wowah_data[wowah_data['zone'].isin(locations[locations['Game_Version'] == 'TBC']['Location_Name'])]\n",
    "\n",
    "\n",
    "expansion_zone_counts = pd.concat([\n",
    "    filtered_wowah_data_wow.assign(Expansion='WoW'),\n",
    "    filtered_wowah_data_tbc.assign(Expansion='TBC')\n",
    "])\n",
    "\n",
    "zone_expansion_counts = expansion_zone_counts.groupby(['zone', 'Expansion']).size().reset_index(name='count')\n",
    "\n",
    "fig = px.bar(zone_expansion_counts, x='zone', y='count', color='Expansion',\n",
    "             title='Número de Jugadores por Zona y Expansión',\n",
    "             labels={'zone': 'Zona', 'count': 'Número de Jugadores'})\n",
    "fig.update_layout(xaxis_title='Zona', yaxis_title='Número de Jugadores', xaxis_tickangle=-45)\n",
    "fig.show()"
   ]
  },
  {
   "cell_type": "markdown",
   "id": "4a5ad93f-8276-4eb2-8fec-8cb77f585976",
   "metadata": {},
   "source": [
    "Filtramos los datos de personajes en función de las expansiones \"WoW\" y \"TBC\", utilizando la función `isin()` para seleccionar solo las zonas correspondientes a cada expansión. Luego, concatenamos los datos filtrados y contamos el número de jugadores por zona y expansión mediante la función `groupby()`."
   ]
  },
  {
   "cell_type": "markdown",
   "id": "674d974e-6597-45cc-96c7-36dae0105fbf",
   "metadata": {},
   "source": [
    "El gráfico de barras que presentamos muestra la distribución del número de jugadores en las distintas zonas, diferenciadas por expansión. Este análisis nos permite comparar la popularidad de las zonas entre WoW y TBC, proporcionando información sobre cómo la población de jugadores varía en función de la expansión y ayudando a entender las preferencias de los jugadores en diferentes versiones del juego."
   ]
  },
  {
   "cell_type": "code",
   "execution_count": 230,
   "id": "c57506b8-06a5-4d82-bb2e-69263ea5fe92",
   "metadata": {
    "scrolled": true
   },
   "outputs": [
    {
     "data": {
      "application/vnd.plotly.v1+json": {
       "config": {
        "plotlyServerURL": "https://plot.ly"
       },
       "data": [
        {
         "marker": {
          "color": "skyblue"
         },
         "type": "bar",
         "x": [
          "Alterac Mountains",
          "Alterac Valley",
          "Arathi Basin",
          "Arathi Highlands",
          "Ashenvale",
          "Auchenai Crypts",
          "Auchindoun: Shadow Labyrinth",
          "Azshara",
          "Azuremyst Isle",
          "Badlands",
          "Blackfathom Deeps",
          "Blackrock Depths",
          "Blackrock Mountain",
          "Blackrock Spire",
          "Blackwing Lair",
          "Blade's Edge Arena",
          "Blade's Edge Mountains",
          "Blasted Lands",
          "Burning Steppes",
          "Coilfang: The Slave Pens",
          "Darkshore",
          "Deadmines",
          "Deadwind Pass",
          "Desolace",
          "Dire Maul",
          "Dun Morogh",
          "Durotar",
          "Duskwood",
          "Dustwallow Marsh",
          "Eastern Plaguelands",
          "Elwynn Forest",
          "Eversong Woods",
          "Eye of the Storm",
          "Felwood",
          "Feralas",
          "Gates of Ahn'Qiraj",
          "Ghostlands",
          "Gnomeregan",
          "Gruul's Lair",
          "Hall of Legends",
          "Hellfire Peninsula",
          "Hellfire Ramparts",
          "Hillsbrad Foothills",
          "Karazhan",
          "Loch Modan",
          "Magtheridon's Lair",
          "Mana-Tombs",
          "Maraudon",
          "Molten Core",
          "Moonglade",
          "Mulgore",
          "Nagrand",
          "Nagrand Arena",
          "Netherstorm",
          "Old Hillsbrad Foothills",
          "Onyxia's Lair",
          "Orgrimmar",
          "Quel'thalas",
          "Ragefire Chasm",
          "Razorfen Downs",
          "Razorfen Kraul",
          "Redridge Mountains",
          "Ruins of Lordaeron",
          "Scarlet Monastery",
          "Scholomance",
          "Searing Gorge",
          "Serpentshrine Cavern",
          "Sethekk Halls",
          "Shadowfang Keep",
          "Shadowmoon Valley",
          "Shattrath City",
          "Silithus",
          "Silvermoon City",
          "Silverpine Forest",
          "Stonetalon Mountains",
          "Stormwind City",
          "Stranglethorn Vale",
          "Stratholme",
          "Swamp of Sorrows",
          "Tanaris",
          "Teldrassil",
          "Tempest Keep",
          "Terokkar Forest",
          "The Arcatraz",
          "The Barrens",
          "The Black Morass",
          "The Blood Furnace",
          "The Botanica",
          "The Great Sea",
          "The Hinterlands",
          "The Mechanar",
          "The Shattered Halls",
          "The Steamvault",
          "The Temple of Atal'Hakkar",
          "The Underbog",
          "Thousand Needles",
          "Thunder Bluff",
          "Tirisfal Glades",
          "Twisting Nether",
          "Uldaman",
          "Un'Goro Crater",
          "Undercity",
          "Wailing Caverns",
          "Warsong Gulch",
          "Western Plaguelands",
          "Westfall",
          "Wetlands",
          "Winterspring",
          "Zangarmarsh",
          "Zul'Farrak",
          "Zul'Gurub"
         ],
         "y": [
          12.29705946939747,
          2.3809965279088074,
          4.5849947969695455,
          9.960062134114828,
          12.419704719394296,
          1.3695524642827646,
          0.4070496526633549,
          8.075794057986842,
          null,
          11.12888198395376,
          19.683354288050133,
          6.462963659502768,
          7.5926682629164395,
          6.392529436545901,
          null,
          0.9824688481611511,
          1.1629540051817346,
          7.392887246996447,
          6.83851998264233,
          1.4882589602762897,
          16.84213964410478,
          27.981772571085116,
          2.4142284291113496,
          10.492180269551202,
          7.247726249947117,
          15.418680692125196,
          27.409787875217823,
          12.825047550747943,
          9.181864838023268,
          7.460481364796225,
          11.621263734663838,
          9.112591940170757,
          0.609156765944069,
          5.6138254388484,
          7.755047006197821,
          7.0710678118654755,
          16.697986921468157,
          16.440993729313135,
          0,
          8.267500150108448,
          4.3683263862508594,
          3.6917756355280984,
          10.597122125269276,
          0,
          12.59802113239384,
          0,
          1.3350203259745603,
          11.284240766956772,
          3.4052651123376814,
          22.264319468755797,
          24.472359348012798,
          1.9469182663101365,
          1.3766508483372888,
          0.601147627487282,
          1.2862476709215587,
          11.366279412908504,
          19.217762651813093,
          15.071259308460496,
          25.404441661959023,
          16.25384931246912,
          19.316822004240027,
          13.388686156454913,
          0.9024581135434075,
          17.232935884626134,
          6.0926524923912035,
          7.659559495540415,
          0,
          1.2590305315569754,
          22.508865799875384,
          0.506306755811525,
          3.0758165648702223,
          5.303577897335494,
          20.225907440907545,
          16.788760303403745,
          9.646363549239398,
          0,
          10.961362198881298,
          5.230194435576312,
          11.390324070722997,
          11.22157409234298,
          0.5882299658752719,
          0,
          2.5145119968800236,
          0,
          16.96290482389819,
          0.17178860885234928,
          3.4829229842241154,
          0.0617046179262385,
          24.041630560342615,
          6.712285369050263,
          0.04608230778333405,
          0.18643756772698342,
          0.37279281417681487,
          8.791408314615216,
          2.045991539772019,
          12.110389596698617,
          23.33526677468771,
          23.516372746943794,
          0.20710304720105618,
          13.071835992861143,
          4.99817520257083,
          21.117854597990377,
          22.97519286609071,
          7.985700783398046,
          6.961390968843784,
          28.154465241653558,
          14.794706573342607,
          4.942126903184587,
          3.525451414245364,
          11.880599773914279,
          2.31379384133538
         ]
        }
       ],
       "layout": {
        "autosize": true,
        "template": {
         "data": {
          "bar": [
           {
            "error_x": {
             "color": "#2a3f5f"
            },
            "error_y": {
             "color": "#2a3f5f"
            },
            "marker": {
             "line": {
              "color": "#E5ECF6",
              "width": 0.5
             },
             "pattern": {
              "fillmode": "overlay",
              "size": 10,
              "solidity": 0.2
             }
            },
            "type": "bar"
           }
          ],
          "barpolar": [
           {
            "marker": {
             "line": {
              "color": "#E5ECF6",
              "width": 0.5
             },
             "pattern": {
              "fillmode": "overlay",
              "size": 10,
              "solidity": 0.2
             }
            },
            "type": "barpolar"
           }
          ],
          "carpet": [
           {
            "aaxis": {
             "endlinecolor": "#2a3f5f",
             "gridcolor": "white",
             "linecolor": "white",
             "minorgridcolor": "white",
             "startlinecolor": "#2a3f5f"
            },
            "baxis": {
             "endlinecolor": "#2a3f5f",
             "gridcolor": "white",
             "linecolor": "white",
             "minorgridcolor": "white",
             "startlinecolor": "#2a3f5f"
            },
            "type": "carpet"
           }
          ],
          "choropleth": [
           {
            "colorbar": {
             "outlinewidth": 0,
             "ticks": ""
            },
            "type": "choropleth"
           }
          ],
          "contour": [
           {
            "colorbar": {
             "outlinewidth": 0,
             "ticks": ""
            },
            "colorscale": [
             [
              0,
              "#0d0887"
             ],
             [
              0.1111111111111111,
              "#46039f"
             ],
             [
              0.2222222222222222,
              "#7201a8"
             ],
             [
              0.3333333333333333,
              "#9c179e"
             ],
             [
              0.4444444444444444,
              "#bd3786"
             ],
             [
              0.5555555555555556,
              "#d8576b"
             ],
             [
              0.6666666666666666,
              "#ed7953"
             ],
             [
              0.7777777777777778,
              "#fb9f3a"
             ],
             [
              0.8888888888888888,
              "#fdca26"
             ],
             [
              1,
              "#f0f921"
             ]
            ],
            "type": "contour"
           }
          ],
          "contourcarpet": [
           {
            "colorbar": {
             "outlinewidth": 0,
             "ticks": ""
            },
            "type": "contourcarpet"
           }
          ],
          "heatmap": [
           {
            "colorbar": {
             "outlinewidth": 0,
             "ticks": ""
            },
            "colorscale": [
             [
              0,
              "#0d0887"
             ],
             [
              0.1111111111111111,
              "#46039f"
             ],
             [
              0.2222222222222222,
              "#7201a8"
             ],
             [
              0.3333333333333333,
              "#9c179e"
             ],
             [
              0.4444444444444444,
              "#bd3786"
             ],
             [
              0.5555555555555556,
              "#d8576b"
             ],
             [
              0.6666666666666666,
              "#ed7953"
             ],
             [
              0.7777777777777778,
              "#fb9f3a"
             ],
             [
              0.8888888888888888,
              "#fdca26"
             ],
             [
              1,
              "#f0f921"
             ]
            ],
            "type": "heatmap"
           }
          ],
          "heatmapgl": [
           {
            "colorbar": {
             "outlinewidth": 0,
             "ticks": ""
            },
            "colorscale": [
             [
              0,
              "#0d0887"
             ],
             [
              0.1111111111111111,
              "#46039f"
             ],
             [
              0.2222222222222222,
              "#7201a8"
             ],
             [
              0.3333333333333333,
              "#9c179e"
             ],
             [
              0.4444444444444444,
              "#bd3786"
             ],
             [
              0.5555555555555556,
              "#d8576b"
             ],
             [
              0.6666666666666666,
              "#ed7953"
             ],
             [
              0.7777777777777778,
              "#fb9f3a"
             ],
             [
              0.8888888888888888,
              "#fdca26"
             ],
             [
              1,
              "#f0f921"
             ]
            ],
            "type": "heatmapgl"
           }
          ],
          "histogram": [
           {
            "marker": {
             "pattern": {
              "fillmode": "overlay",
              "size": 10,
              "solidity": 0.2
             }
            },
            "type": "histogram"
           }
          ],
          "histogram2d": [
           {
            "colorbar": {
             "outlinewidth": 0,
             "ticks": ""
            },
            "colorscale": [
             [
              0,
              "#0d0887"
             ],
             [
              0.1111111111111111,
              "#46039f"
             ],
             [
              0.2222222222222222,
              "#7201a8"
             ],
             [
              0.3333333333333333,
              "#9c179e"
             ],
             [
              0.4444444444444444,
              "#bd3786"
             ],
             [
              0.5555555555555556,
              "#d8576b"
             ],
             [
              0.6666666666666666,
              "#ed7953"
             ],
             [
              0.7777777777777778,
              "#fb9f3a"
             ],
             [
              0.8888888888888888,
              "#fdca26"
             ],
             [
              1,
              "#f0f921"
             ]
            ],
            "type": "histogram2d"
           }
          ],
          "histogram2dcontour": [
           {
            "colorbar": {
             "outlinewidth": 0,
             "ticks": ""
            },
            "colorscale": [
             [
              0,
              "#0d0887"
             ],
             [
              0.1111111111111111,
              "#46039f"
             ],
             [
              0.2222222222222222,
              "#7201a8"
             ],
             [
              0.3333333333333333,
              "#9c179e"
             ],
             [
              0.4444444444444444,
              "#bd3786"
             ],
             [
              0.5555555555555556,
              "#d8576b"
             ],
             [
              0.6666666666666666,
              "#ed7953"
             ],
             [
              0.7777777777777778,
              "#fb9f3a"
             ],
             [
              0.8888888888888888,
              "#fdca26"
             ],
             [
              1,
              "#f0f921"
             ]
            ],
            "type": "histogram2dcontour"
           }
          ],
          "mesh3d": [
           {
            "colorbar": {
             "outlinewidth": 0,
             "ticks": ""
            },
            "type": "mesh3d"
           }
          ],
          "parcoords": [
           {
            "line": {
             "colorbar": {
              "outlinewidth": 0,
              "ticks": ""
             }
            },
            "type": "parcoords"
           }
          ],
          "pie": [
           {
            "automargin": true,
            "type": "pie"
           }
          ],
          "scatter": [
           {
            "fillpattern": {
             "fillmode": "overlay",
             "size": 10,
             "solidity": 0.2
            },
            "type": "scatter"
           }
          ],
          "scatter3d": [
           {
            "line": {
             "colorbar": {
              "outlinewidth": 0,
              "ticks": ""
             }
            },
            "marker": {
             "colorbar": {
              "outlinewidth": 0,
              "ticks": ""
             }
            },
            "type": "scatter3d"
           }
          ],
          "scattercarpet": [
           {
            "marker": {
             "colorbar": {
              "outlinewidth": 0,
              "ticks": ""
             }
            },
            "type": "scattercarpet"
           }
          ],
          "scattergeo": [
           {
            "marker": {
             "colorbar": {
              "outlinewidth": 0,
              "ticks": ""
             }
            },
            "type": "scattergeo"
           }
          ],
          "scattergl": [
           {
            "marker": {
             "colorbar": {
              "outlinewidth": 0,
              "ticks": ""
             }
            },
            "type": "scattergl"
           }
          ],
          "scattermapbox": [
           {
            "marker": {
             "colorbar": {
              "outlinewidth": 0,
              "ticks": ""
             }
            },
            "type": "scattermapbox"
           }
          ],
          "scatterpolar": [
           {
            "marker": {
             "colorbar": {
              "outlinewidth": 0,
              "ticks": ""
             }
            },
            "type": "scatterpolar"
           }
          ],
          "scatterpolargl": [
           {
            "marker": {
             "colorbar": {
              "outlinewidth": 0,
              "ticks": ""
             }
            },
            "type": "scatterpolargl"
           }
          ],
          "scatterternary": [
           {
            "marker": {
             "colorbar": {
              "outlinewidth": 0,
              "ticks": ""
             }
            },
            "type": "scatterternary"
           }
          ],
          "surface": [
           {
            "colorbar": {
             "outlinewidth": 0,
             "ticks": ""
            },
            "colorscale": [
             [
              0,
              "#0d0887"
             ],
             [
              0.1111111111111111,
              "#46039f"
             ],
             [
              0.2222222222222222,
              "#7201a8"
             ],
             [
              0.3333333333333333,
              "#9c179e"
             ],
             [
              0.4444444444444444,
              "#bd3786"
             ],
             [
              0.5555555555555556,
              "#d8576b"
             ],
             [
              0.6666666666666666,
              "#ed7953"
             ],
             [
              0.7777777777777778,
              "#fb9f3a"
             ],
             [
              0.8888888888888888,
              "#fdca26"
             ],
             [
              1,
              "#f0f921"
             ]
            ],
            "type": "surface"
           }
          ],
          "table": [
           {
            "cells": {
             "fill": {
              "color": "#EBF0F8"
             },
             "line": {
              "color": "white"
             }
            },
            "header": {
             "fill": {
              "color": "#C8D4E3"
             },
             "line": {
              "color": "white"
             }
            },
            "type": "table"
           }
          ]
         },
         "layout": {
          "annotationdefaults": {
           "arrowcolor": "#2a3f5f",
           "arrowhead": 0,
           "arrowwidth": 1
          },
          "autotypenumbers": "strict",
          "coloraxis": {
           "colorbar": {
            "outlinewidth": 0,
            "ticks": ""
           }
          },
          "colorscale": {
           "diverging": [
            [
             0,
             "#8e0152"
            ],
            [
             0.1,
             "#c51b7d"
            ],
            [
             0.2,
             "#de77ae"
            ],
            [
             0.3,
             "#f1b6da"
            ],
            [
             0.4,
             "#fde0ef"
            ],
            [
             0.5,
             "#f7f7f7"
            ],
            [
             0.6,
             "#e6f5d0"
            ],
            [
             0.7,
             "#b8e186"
            ],
            [
             0.8,
             "#7fbc41"
            ],
            [
             0.9,
             "#4d9221"
            ],
            [
             1,
             "#276419"
            ]
           ],
           "sequential": [
            [
             0,
             "#0d0887"
            ],
            [
             0.1111111111111111,
             "#46039f"
            ],
            [
             0.2222222222222222,
             "#7201a8"
            ],
            [
             0.3333333333333333,
             "#9c179e"
            ],
            [
             0.4444444444444444,
             "#bd3786"
            ],
            [
             0.5555555555555556,
             "#d8576b"
            ],
            [
             0.6666666666666666,
             "#ed7953"
            ],
            [
             0.7777777777777778,
             "#fb9f3a"
            ],
            [
             0.8888888888888888,
             "#fdca26"
            ],
            [
             1,
             "#f0f921"
            ]
           ],
           "sequentialminus": [
            [
             0,
             "#0d0887"
            ],
            [
             0.1111111111111111,
             "#46039f"
            ],
            [
             0.2222222222222222,
             "#7201a8"
            ],
            [
             0.3333333333333333,
             "#9c179e"
            ],
            [
             0.4444444444444444,
             "#bd3786"
            ],
            [
             0.5555555555555556,
             "#d8576b"
            ],
            [
             0.6666666666666666,
             "#ed7953"
            ],
            [
             0.7777777777777778,
             "#fb9f3a"
            ],
            [
             0.8888888888888888,
             "#fdca26"
            ],
            [
             1,
             "#f0f921"
            ]
           ]
          },
          "colorway": [
           "#636efa",
           "#EF553B",
           "#00cc96",
           "#ab63fa",
           "#FFA15A",
           "#19d3f3",
           "#FF6692",
           "#B6E880",
           "#FF97FF",
           "#FECB52"
          ],
          "font": {
           "color": "#2a3f5f"
          },
          "geo": {
           "bgcolor": "white",
           "lakecolor": "white",
           "landcolor": "#E5ECF6",
           "showlakes": true,
           "showland": true,
           "subunitcolor": "white"
          },
          "hoverlabel": {
           "align": "left"
          },
          "hovermode": "closest",
          "mapbox": {
           "style": "light"
          },
          "paper_bgcolor": "white",
          "plot_bgcolor": "#E5ECF6",
          "polar": {
           "angularaxis": {
            "gridcolor": "white",
            "linecolor": "white",
            "ticks": ""
           },
           "bgcolor": "#E5ECF6",
           "radialaxis": {
            "gridcolor": "white",
            "linecolor": "white",
            "ticks": ""
           }
          },
          "scene": {
           "xaxis": {
            "backgroundcolor": "#E5ECF6",
            "gridcolor": "white",
            "gridwidth": 2,
            "linecolor": "white",
            "showbackground": true,
            "ticks": "",
            "zerolinecolor": "white"
           },
           "yaxis": {
            "backgroundcolor": "#E5ECF6",
            "gridcolor": "white",
            "gridwidth": 2,
            "linecolor": "white",
            "showbackground": true,
            "ticks": "",
            "zerolinecolor": "white"
           },
           "zaxis": {
            "backgroundcolor": "#E5ECF6",
            "gridcolor": "white",
            "gridwidth": 2,
            "linecolor": "white",
            "showbackground": true,
            "ticks": "",
            "zerolinecolor": "white"
           }
          },
          "shapedefaults": {
           "line": {
            "color": "#2a3f5f"
           }
          },
          "ternary": {
           "aaxis": {
            "gridcolor": "white",
            "linecolor": "white",
            "ticks": ""
           },
           "baxis": {
            "gridcolor": "white",
            "linecolor": "white",
            "ticks": ""
           },
           "bgcolor": "#E5ECF6",
           "caxis": {
            "gridcolor": "white",
            "linecolor": "white",
            "ticks": ""
           }
          },
          "title": {
           "x": 0.05
          },
          "xaxis": {
           "automargin": true,
           "gridcolor": "white",
           "linecolor": "white",
           "ticks": "",
           "title": {
            "standoff": 15
           },
           "zerolinecolor": "white",
           "zerolinewidth": 2
          },
          "yaxis": {
           "automargin": true,
           "gridcolor": "white",
           "linecolor": "white",
           "ticks": "",
           "title": {
            "standoff": 15
           },
           "zerolinecolor": "white",
           "zerolinewidth": 2
          }
         }
        },
        "title": {
         "text": "Homogeneidad del Nivel de Jugadores por Zona"
        },
        "xaxis": {
         "autorange": true,
         "range": [
          -0.5,
          110.5
         ],
         "title": {
          "text": "Zona"
         },
         "type": "category"
        },
        "yaxis": {
         "autorange": true,
         "range": [
          0,
          29.63627920174059
         ],
         "title": {
          "text": "Desviación Estándar del Nivel"
         },
         "type": "linear"
        }
       }
      },
      "image/png": "[encoded data removed]",
      "text/html": [
       "<div>                            <div id=\"04dd2759-491e-499d-bfe3-c23f9d1773b7\" class=\"plotly-graph-div\" style=\"height:525px; width:100%;\"></div>            <script type=\"text/javascript\">                require([\"plotly\"], function(Plotly) {                    window.PLOTLYENV=window.PLOTLYENV || {};                                    if (document.getElementById(\"04dd2759-491e-499d-bfe3-c23f9d1773b7\")) {                    Plotly.newPlot(                        \"04dd2759-491e-499d-bfe3-c23f9d1773b7\",                        [{\"marker\":{\"color\":\"skyblue\"},\"x\":[\"Alterac Mountains\",\"Alterac Valley\",\"Arathi Basin\",\"Arathi Highlands\",\"Ashenvale\",\"Auchenai Crypts\",\"Auchindoun: Shadow Labyrinth\",\"Azshara\",\"Azuremyst Isle\",\"Badlands\",\"Blackfathom Deeps\",\"Blackrock Depths\",\"Blackrock Mountain\",\"Blackrock Spire\",\"Blackwing Lair\",\"Blade's Edge Arena\",\"Blade's Edge Mountains\",\"Blasted Lands\",\"Burning Steppes\",\"Coilfang: The Slave Pens\",\"Darkshore\",\"Deadmines\",\"Deadwind Pass\",\"Desolace\",\"Dire Maul\",\"Dun Morogh\",\"Durotar\",\"Duskwood\",\"Dustwallow Marsh\",\"Eastern Plaguelands\",\"Elwynn Forest\",\"Eversong Woods\",\"Eye of the Storm\",\"Felwood\",\"Feralas\",\"Gates of Ahn'Qiraj\",\"Ghostlands\",\"Gnomeregan\",\"Gruul's Lair\",\"Hall of Legends\",\"Hellfire Peninsula\",\"Hellfire Ramparts\",\"Hillsbrad Foothills\",\"Karazhan\",\"Loch Modan\",\"Magtheridon's Lair\",\"Mana-Tombs\",\"Maraudon\",\"Molten Core\",\"Moonglade\",\"Mulgore\",\"Nagrand\",\"Nagrand Arena\",\"Netherstorm\",\"Old Hillsbrad Foothills\",\"Onyxia's Lair\",\"Orgrimmar\",\"Quel'thalas\",\"Ragefire Chasm\",\"Razorfen Downs\",\"Razorfen Kraul\",\"Redridge Mountains\",\"Ruins of Lordaeron\",\"Scarlet Monastery\",\"Scholomance\",\"Searing Gorge\",\"Serpentshrine Cavern\",\"Sethekk Halls\",\"Shadowfang Keep\",\"Shadowmoon Valley\",\"Shattrath City\",\"Silithus\",\"Silvermoon City\",\"Silverpine Forest\",\"Stonetalon Mountains\",\"Stormwind City\",\"Stranglethorn Vale\",\"Stratholme\",\"Swamp of Sorrows\",\"Tanaris\",\"Teldrassil\",\"Tempest Keep\",\"Terokkar Forest\",\"The Arcatraz\",\"The Barrens\",\"The Black Morass\",\"The Blood Furnace\",\"The Botanica\",\"The Great Sea\",\"The Hinterlands\",\"The Mechanar\",\"The Shattered Halls\",\"The Steamvault\",\"The Temple of Atal'Hakkar\",\"The Underbog\",\"Thousand Needles\",\"Thunder Bluff\",\"Tirisfal Glades\",\"Twisting Nether\",\"Uldaman\",\"Un'Goro Crater\",\"Undercity\",\"Wailing Caverns\",\"Warsong Gulch\",\"Western Plaguelands\",\"Westfall\",\"Wetlands\",\"Winterspring\",\"Zangarmarsh\",\"Zul'Farrak\",\"Zul'Gurub\"],\"y\":[12.29705946939747,2.3809965279088074,4.5849947969695455,9.960062134114828,12.419704719394296,1.3695524642827646,0.4070496526633549,8.075794057986842,null,11.12888198395376,19.683354288050133,6.462963659502768,7.5926682629164395,6.392529436545901,null,0.9824688481611511,1.1629540051817346,7.392887246996447,6.83851998264233,1.4882589602762897,16.84213964410478,27.981772571085116,2.4142284291113496,10.492180269551202,7.247726249947117,15.418680692125196,27.409787875217823,12.825047550747943,9.181864838023268,7.460481364796225,11.621263734663838,9.112591940170757,0.609156765944069,5.6138254388484,7.755047006197821,7.0710678118654755,16.697986921468157,16.440993729313135,0.0,8.267500150108448,4.3683263862508594,3.6917756355280984,10.597122125269276,0.0,12.59802113239384,0.0,1.3350203259745603,11.284240766956772,3.4052651123376814,22.264319468755797,24.472359348012798,1.9469182663101365,1.3766508483372888,0.601147627487282,1.2862476709215587,11.366279412908504,19.217762651813093,15.071259308460496,25.404441661959023,16.25384931246912,19.316822004240027,13.388686156454913,0.9024581135434075,17.232935884626134,6.0926524923912035,7.659559495540415,0.0,1.2590305315569754,22.508865799875384,0.506306755811525,3.0758165648702223,5.303577897335494,20.225907440907545,16.788760303403745,9.646363549239398,0.0,10.961362198881298,5.230194435576312,11.390324070722997,11.22157409234298,0.5882299658752719,0.0,2.5145119968800236,0.0,16.96290482389819,0.17178860885234928,3.4829229842241154,0.0617046179262385,24.041630560342615,6.712285369050263,0.04608230778333405,0.18643756772698342,0.37279281417681487,8.791408314615216,2.045991539772019,12.110389596698617,23.33526677468771,23.516372746943794,0.20710304720105618,13.071835992861143,4.99817520257083,21.117854597990377,22.97519286609071,7.985700783398046,6.961390968843784,28.154465241653558,14.794706573342607,4.942126903184587,3.525451414245364,11.880599773914279,2.31379384133538],\"type\":\"bar\"}],                        {\"template\":{\"data\":{\"histogram2dcontour\":[{\"type\":\"histogram2dcontour\",\"colorbar\":{\"outlinewidth\":0,\"ticks\":\"\"},\"colorscale\":[[0.0,\"#0d0887\"],[0.1111111111111111,\"#46039f\"],[0.2222222222222222,\"#7201a8\"],[0.3333333333333333,\"#9c179e\"],[0.4444444444444444,\"#bd3786\"],[0.5555555555555556,\"#d8576b\"],[0.6666666666666666,\"#ed7953\"],[0.7777777777777778,\"#fb9f3a\"],[0.8888888888888888,\"#fdca26\"],[1.0,\"#f0f921\"]]}],\"choropleth\":[{\"type\":\"choropleth\",\"colorbar\":{\"outlinewidth\":0,\"ticks\":\"\"}}],\"histogram2d\":[{\"type\":\"histogram2d\",\"colorbar\":{\"outlinewidth\":0,\"ticks\":\"\"},\"colorscale\":[[0.0,\"#0d0887\"],[0.1111111111111111,\"#46039f\"],[0.2222222222222222,\"#7201a8\"],[0.3333333333333333,\"#9c179e\"],[0.4444444444444444,\"#bd3786\"],[0.5555555555555556,\"#d8576b\"],[0.6666666666666666,\"#ed7953\"],[0.7777777777777778,\"#fb9f3a\"],[0.8888888888888888,\"#fdca26\"],[1.0,\"#f0f921\"]]}],\"heatmap\":[{\"type\":\"heatmap\",\"colorbar\":{\"outlinewidth\":0,\"ticks\":\"\"},\"colorscale\":[[0.0,\"#0d0887\"],[0.1111111111111111,\"#46039f\"],[0.2222222222222222,\"#7201a8\"],[0.3333333333333333,\"#9c179e\"],[0.4444444444444444,\"#bd3786\"],[0.5555555555555556,\"#d8576b\"],[0.6666666666666666,\"#ed7953\"],[0.7777777777777778,\"#fb9f3a\"],[0.8888888888888888,\"#fdca26\"],[1.0,\"#f0f921\"]]}],\"heatmapgl\":[{\"type\":\"heatmapgl\",\"colorbar\":{\"outlinewidth\":0,\"ticks\":\"\"},\"colorscale\":[[0.0,\"#0d0887\"],[0.1111111111111111,\"#46039f\"],[0.2222222222222222,\"#7201a8\"],[0.3333333333333333,\"#9c179e\"],[0.4444444444444444,\"#bd3786\"],[0.5555555555555556,\"#d8576b\"],[0.6666666666666666,\"#ed7953\"],[0.7777777777777778,\"#fb9f3a\"],[0.8888888888888888,\"#fdca26\"],[1.0,\"#f0f921\"]]}],\"contourcarpet\":[{\"type\":\"contourcarpet\",\"colorbar\":{\"outlinewidth\":0,\"ticks\":\"\"}}],\"contour\":[{\"type\":\"contour\",\"colorbar\":{\"outlinewidth\":0,\"ticks\":\"\"},\"colorscale\":[[0.0,\"#0d0887\"],[0.1111111111111111,\"#46039f\"],[0.2222222222222222,\"#7201a8\"],[0.3333333333333333,\"#9c179e\"],[0.4444444444444444,\"#bd3786\"],[0.5555555555555556,\"#d8576b\"],[0.6666666666666666,\"#ed7953\"],[0.7777777777777778,\"#fb9f3a\"],[0.8888888888888888,\"#fdca26\"],[1.0,\"#f0f921\"]]}],\"surface\":[{\"type\":\"surface\",\"colorbar\":{\"outlinewidth\":0,\"ticks\":\"\"},\"colorscale\":[[0.0,\"#0d0887\"],[0.1111111111111111,\"#46039f\"],[0.2222222222222222,\"#7201a8\"],[0.3333333333333333,\"#9c179e\"],[0.4444444444444444,\"#bd3786\"],[0.5555555555555556,\"#d8576b\"],[0.6666666666666666,\"#ed7953\"],[0.7777777777777778,\"#fb9f3a\"],[0.8888888888888888,\"#fdca26\"],[1.0,\"#f0f921\"]]}],\"mesh3d\":[{\"type\":\"mesh3d\",\"colorbar\":{\"outlinewidth\":0,\"ticks\":\"\"}}],\"scatter\":[{\"fillpattern\":{\"fillmode\":\"overlay\",\"size\":10,\"solidity\":0.2},\"type\":\"scatter\"}],\"parcoords\":[{\"type\":\"parcoords\",\"line\":{\"colorbar\":{\"outlinewidth\":0,\"ticks\":\"\"}}}],\"scatterpolargl\":[{\"type\":\"scatterpolargl\",\"marker\":{\"colorbar\":{\"outlinewidth\":0,\"ticks\":\"\"}}}],\"bar\":[{\"error_x\":{\"color\":\"#2a3f5f\"},\"error_y\":{\"color\":\"#2a3f5f\"},\"marker\":{\"line\":{\"color\":\"#E5ECF6\",\"width\":0.5},\"pattern\":{\"fillmode\":\"overlay\",\"size\":10,\"solidity\":0.2}},\"type\":\"bar\"}],\"scattergeo\":[{\"type\":\"scattergeo\",\"marker\":{\"colorbar\":{\"outlinewidth\":0,\"ticks\":\"\"}}}],\"scatterpolar\":[{\"type\":\"scatterpolar\",\"marker\":{\"colorbar\":{\"outlinewidth\":0,\"ticks\":\"\"}}}],\"histogram\":[{\"marker\":{\"pattern\":{\"fillmode\":\"overlay\",\"size\":10,\"solidity\":0.2}},\"type\":\"histogram\"}],\"scattergl\":[{\"type\":\"scattergl\",\"marker\":{\"colorbar\":{\"outlinewidth\":0,\"ticks\":\"\"}}}],\"scatter3d\":[{\"type\":\"scatter3d\",\"line\":{\"colorbar\":{\"outlinewidth\":0,\"ticks\":\"\"}},\"marker\":{\"colorbar\":{\"outlinewidth\":0,\"ticks\":\"\"}}}],\"scattermapbox\":[{\"type\":\"scattermapbox\",\"marker\":{\"colorbar\":{\"outlinewidth\":0,\"ticks\":\"\"}}}],\"scatterternary\":[{\"type\":\"scatterternary\",\"marker\":{\"colorbar\":{\"outlinewidth\":0,\"ticks\":\"\"}}}],\"scattercarpet\":[{\"type\":\"scattercarpet\",\"marker\":{\"colorbar\":{\"outlinewidth\":0,\"ticks\":\"\"}}}],\"carpet\":[{\"aaxis\":{\"endlinecolor\":\"#2a3f5f\",\"gridcolor\":\"white\",\"linecolor\":\"white\",\"minorgridcolor\":\"white\",\"startlinecolor\":\"#2a3f5f\"},\"baxis\":{\"endlinecolor\":\"#2a3f5f\",\"gridcolor\":\"white\",\"linecolor\":\"white\",\"minorgridcolor\":\"white\",\"startlinecolor\":\"#2a3f5f\"},\"type\":\"carpet\"}],\"table\":[{\"cells\":{\"fill\":{\"color\":\"#EBF0F8\"},\"line\":{\"color\":\"white\"}},\"header\":{\"fill\":{\"color\":\"#C8D4E3\"},\"line\":{\"color\":\"white\"}},\"type\":\"table\"}],\"barpolar\":[{\"marker\":{\"line\":{\"color\":\"#E5ECF6\",\"width\":0.5},\"pattern\":{\"fillmode\":\"overlay\",\"size\":10,\"solidity\":0.2}},\"type\":\"barpolar\"}],\"pie\":[{\"automargin\":true,\"type\":\"pie\"}]},\"layout\":{\"autotypenumbers\":\"strict\",\"colorway\":[\"#636efa\",\"#EF553B\",\"#00cc96\",\"#ab63fa\",\"#FFA15A\",\"#19d3f3\",\"#FF6692\",\"#B6E880\",\"#FF97FF\",\"#FECB52\"],\"font\":{\"color\":\"#2a3f5f\"},\"hovermode\":\"closest\",\"hoverlabel\":{\"align\":\"left\"},\"paper_bgcolor\":\"white\",\"plot_bgcolor\":\"#E5ECF6\",\"polar\":{\"bgcolor\":\"#E5ECF6\",\"angularaxis\":{\"gridcolor\":\"white\",\"linecolor\":\"white\",\"ticks\":\"\"},\"radialaxis\":{\"gridcolor\":\"white\",\"linecolor\":\"white\",\"ticks\":\"\"}},\"ternary\":{\"bgcolor\":\"#E5ECF6\",\"aaxis\":{\"gridcolor\":\"white\",\"linecolor\":\"white\",\"ticks\":\"\"},\"baxis\":{\"gridcolor\":\"white\",\"linecolor\":\"white\",\"ticks\":\"\"},\"caxis\":{\"gridcolor\":\"white\",\"linecolor\":\"white\",\"ticks\":\"\"}},\"coloraxis\":{\"colorbar\":{\"outlinewidth\":0,\"ticks\":\"\"}},\"colorscale\":{\"sequential\":[[0.0,\"#0d0887\"],[0.1111111111111111,\"#46039f\"],[0.2222222222222222,\"#7201a8\"],[0.3333333333333333,\"#9c179e\"],[0.4444444444444444,\"#bd3786\"],[0.5555555555555556,\"#d8576b\"],[0.6666666666666666,\"#ed7953\"],[0.7777777777777778,\"#fb9f3a\"],[0.8888888888888888,\"#fdca26\"],[1.0,\"#f0f921\"]],\"sequentialminus\":[[0.0,\"#0d0887\"],[0.1111111111111111,\"#46039f\"],[0.2222222222222222,\"#7201a8\"],[0.3333333333333333,\"#9c179e\"],[0.4444444444444444,\"#bd3786\"],[0.5555555555555556,\"#d8576b\"],[0.6666666666666666,\"#ed7953\"],[0.7777777777777778,\"#fb9f3a\"],[0.8888888888888888,\"#fdca26\"],[1.0,\"#f0f921\"]],\"diverging\":[[0,\"#8e0152\"],[0.1,\"#c51b7d\"],[0.2,\"#de77ae\"],[0.3,\"#f1b6da\"],[0.4,\"#fde0ef\"],[0.5,\"#f7f7f7\"],[0.6,\"#e6f5d0\"],[0.7,\"#b8e186\"],[0.8,\"#7fbc41\"],[0.9,\"#4d9221\"],[1,\"#276419\"]]},\"xaxis\":{\"gridcolor\":\"white\",\"linecolor\":\"white\",\"ticks\":\"\",\"title\":{\"standoff\":15},\"zerolinecolor\":\"white\",\"automargin\":true,\"zerolinewidth\":2},\"yaxis\":{\"gridcolor\":\"white\",\"linecolor\":\"white\",\"ticks\":\"\",\"title\":{\"standoff\":15},\"zerolinecolor\":\"white\",\"automargin\":true,\"zerolinewidth\":2},\"scene\":{\"xaxis\":{\"backgroundcolor\":\"#E5ECF6\",\"gridcolor\":\"white\",\"linecolor\":\"white\",\"showbackground\":true,\"ticks\":\"\",\"zerolinecolor\":\"white\",\"gridwidth\":2},\"yaxis\":{\"backgroundcolor\":\"#E5ECF6\",\"gridcolor\":\"white\",\"linecolor\":\"white\",\"showbackground\":true,\"ticks\":\"\",\"zerolinecolor\":\"white\",\"gridwidth\":2},\"zaxis\":{\"backgroundcolor\":\"#E5ECF6\",\"gridcolor\":\"white\",\"linecolor\":\"white\",\"showbackground\":true,\"ticks\":\"\",\"zerolinecolor\":\"white\",\"gridwidth\":2}},\"shapedefaults\":{\"line\":{\"color\":\"#2a3f5f\"}},\"annotationdefaults\":{\"arrowcolor\":\"#2a3f5f\",\"arrowhead\":0,\"arrowwidth\":1},\"geo\":{\"bgcolor\":\"white\",\"landcolor\":\"#E5ECF6\",\"subunitcolor\":\"white\",\"showland\":true,\"showlakes\":true,\"lakecolor\":\"white\"},\"title\":{\"x\":0.05},\"mapbox\":{\"style\":\"light\"}}},\"title\":{\"text\":\"Homogeneidad del Nivel de Jugadores por Zona\"},\"xaxis\":{\"title\":{\"text\":\"Zona\"}},\"yaxis\":{\"title\":{\"text\":\"Desviación Estándar del Nivel\"}}},                        {\"responsive\": true}                    ).then(function(){\n",
       "                            \n",
       "var gd = document.getElementById('04dd2759-491e-499d-bfe3-c23f9d1773b7');\n",
       "var x = new MutationObserver(function (mutations, observer) {{\n",
       "        var display = window.getComputedStyle(gd).display;\n",
       "        if (!display || display === 'none') {{\n",
       "            console.log([gd, 'removed!']);\n",
       "            Plotly.purge(gd);\n",
       "            observer.disconnect();\n",
       "        }}\n",
       "}});\n",
       "\n",
       "// Listen for the removal of the full notebook cells\n",
       "var notebookContainer = gd.closest('#notebook-container');\n",
       "if (notebookContainer) {{\n",
       "    x.observe(notebookContainer, {childList: true});\n",
       "}}\n",
       "\n",
       "// Listen for the clearing of the current output cell\n",
       "var outputEl = gd.closest('.output');\n",
       "if (outputEl) {{\n",
       "    x.observe(outputEl, {childList: true});\n",
       "}}\n",
       "\n",
       "                        })                };                });            </script>        </div>"
      ]
     },
     "metadata": {},
     "output_type": "display_data"
    }
   ],
   "source": [
    "std_dev_by_zone = wowah_data.groupby('zone')['level'].std().reset_index()\n",
    "\n",
    "fig = go.Figure(data=[go.Bar(x=std_dev_by_zone['zone'], y=std_dev_by_zone['level'], \n",
    "                             marker_color='skyblue')])\n",
    "fig.update_layout(\n",
    "    title='Homogeneidad del Nivel de Jugadores por Zona',\n",
    "    xaxis_title='Zona',\n",
    "    yaxis_title='Desviación Estándar del Nivel'\n",
    ")\n",
    "fig.show()"
   ]
  },
  {
   "cell_type": "markdown",
   "id": "b2539085-6dbe-4ed1-90fa-b0c7aa0ef2fb",
   "metadata": {},
   "source": [
    "Calculamos la desviación estándar del nivel de los jugadores en cada zona utilizando la función `groupby()` de pandas. Esta medida nos permite evaluar la variabilidad del nivel de los personajes dentro de cada área."
   ]
  },
  {
   "cell_type": "markdown",
   "id": "3b19e803-273d-434a-b8b2-31d151ea1864",
   "metadata": {},
   "source": [
    "El gráfico de barras que presentamos muestra la desviación estándar de los niveles de los jugadores en cada zona. Este análisis nos permite ver cuán homogéneos o variados son los niveles de los jugadores en diferentes zonas. Las zonas con una baja desviación estándar tienen niveles más uniformes, mientras que aquellas con una alta desviación estándar muestran una mayor diversidad de niveles. Esto nos ayuda a entender mejor la distribución de los niveles en el juego y cómo varía la experiencia de los jugadores según la zona."
   ]
  },
  {
   "cell_type": "markdown",
   "id": "30cbd239-8c5a-4273-8ea4-938d0057b5f0",
   "metadata": {},
   "source": [
    "A continuacion utilizaremos una matriz de correlación para explorar la relación entre el nivel de los personajes y las características de las zonas en World of Warcraft. Al combinar datos sobre el nivel de los jugadores y las propiedades de las zonas, como los niveles mínimo requerido, recomendado y máximo, así como los niveles de los bots, podemos identificar patrones que influyen en la jugabilidad.\n",
    "La integración de la matriz de correlación es fundamental para tomar decisiones informadas sobre el equilibrio del juego y la accesibilidad de las zonas, asegurando que se alineen con las expectativas y comportamientos de los jugadores."
   ]
  },
  {
   "cell_type": "code",
   "execution_count": 231,
   "id": "ad5152a7-995f-469d-a899-9479854ade9f",
   "metadata": {},
   "outputs": [
    {
     "data": {
      "text/html": [
       "<pre style=\"white-space:pre;overflow-x:auto;line-height:normal;font-family:Menlo,'DejaVu Sans Mono',consolas,'Courier New',monospace\"></pre>\n"
      ],
      "text/plain": []
     },
     "metadata": {},
     "output_type": "display_data"
    },
    {
     "data": {
      "image/png": "[encoded data removed]",
      "text/plain": [
       "\u001b[1m<\u001b[0m\u001b[1;95mFigure\u001b[0m\u001b[39m size 100\u001b[0m\u001b[1;36m0x800\u001b[0m\u001b[39m with \u001b[0m\u001b[1;36m2\u001b[0m\u001b[39m Axes\u001b[0m\u001b[1m>\u001b[0m"
      ]
     },
     "metadata": {},
     "output_type": "display_data"
    }
   ],
   "source": [
    "data_combined = pd.concat([wowah_data[['level', 'guild']], \n",
    "                           zones[['Min_req_level', 'Min_rec_level', 'Max_rec_level', 'Min_bot_level', 'Max_bot_level']]], \n",
    "                          axis=1)\n",
    "\n",
    "correlation_matrix = data_combined.corr()\n",
    "\n",
    "plt.figure(figsize=(10, 8))\n",
    "sns.heatmap(correlation_matrix, annot=True, cmap='coolwarm', fmt=\".2f\", linewidths=0.5)\n",
    "plt.title(\"Matriz de Correlación entre Variables Numéricas\")\n",
    "plt.show()"
   ]
  },
  {
   "cell_type": "markdown",
   "id": "1addde8b-ab5c-42e8-82b3-6ac288b46405",
   "metadata": {},
   "source": [
    "Al observar la matriz de correlación, podemos identificar relaciones clave entre variables numéricas importantes, como los niveles de los jugadores y las zonas en las que se encuentran. Por ejemplo, una correlación moderada entre el nivel de los personajes y el nivel máximo recomendado de la zona podría indicar que los jugadores tienden a seguir las recomendaciones del juego en cuanto a dónde deberían estar. Por otro lado, correlaciones más bajas en otras áreas podrían sugerir que algunos jugadores se aventuran en zonas fuera de su nivel recomendado, lo que refleja una mayor flexibilidad en el estilo de juego y exploración del mundo."
   ]
  },
  {
   "cell_type": "code",
   "execution_count": 232,
   "id": "b9116994-1812-43ca-9682-d0621453e5eb",
   "metadata": {},
   "outputs": [
    {
     "data": {
      "text/html": [
       "<pre style=\"white-space:pre;overflow-x:auto;line-height:normal;font-family:Menlo,'DejaVu Sans Mono',consolas,'Courier New',monospace\"></pre>\n"
      ],
      "text/plain": []
     },
     "metadata": {},
     "output_type": "display_data"
    },
    {
     "data": {
      "image/png": "[encoded data removed]",
      "text/plain": [
       "\u001b[1m<\u001b[0m\u001b[1;95mFigure\u001b[0m\u001b[39m size 64\u001b[0m\u001b[1;36m0x480\u001b[0m\u001b[39m with \u001b[0m\u001b[1;36m1\u001b[0m\u001b[39m Axes\u001b[0m\u001b[1m>\u001b[0m"
      ]
     },
     "metadata": {},
     "output_type": "display_data"
    }
   ],
   "source": [
    "sns.histplot(wowah_data['level'], kde=True)\n",
    "plt.title('Distribución de los niveles')\n",
    "plt.show()"
   ]
  },
  {
   "cell_type": "markdown",
   "id": "123b63b1-d099-4490-8bbe-94c8f9251145",
   "metadata": {},
   "source": [
    "En este gráfico, utilizamos un histograma combinado con una estimación de densidad (KDE) para visualizar la distribución de los niveles de los personajes en World of Warcraft. El histograma nos proporciona una representación clara de la frecuencia de cada nivel, mientras que la curva de KDE suaviza la distribución, ayudando a identificar patrones y tendencias en los datos."
   ]
  },
  {
   "cell_type": "markdown",
   "id": "65c20262-fbd5-4120-8e8c-2b23d7472a21",
   "metadata": {},
   "source": [
    "FASE 3 : Preparación de los datos"
   ]
  },
  {
   "cell_type": "markdown",
   "id": "54a00d22-932c-4a30-95d5-1ca3616d9777",
   "metadata": {},
   "source": [
    "Ahora procederemos a configurar y perfeccionar los DataSet para nuestra conveniencia y así llegar a la solución con datos limpios y significativos."
   ]
  },
  {
   "cell_type": "code",
   "execution_count": 233,
   "id": "b797b033-6b01-4476-8127-f6818343f7fe",
   "metadata": {},
   "outputs": [
    {
     "data": {
      "text/html": [
       "<pre style=\"white-space:pre;overflow-x:auto;line-height:normal;font-family:Menlo,'DejaVu Sans Mono',consolas,'Courier New',monospace\"></pre>\n"
      ],
      "text/plain": []
     },
     "metadata": {},
     "output_type": "display_data"
    },
    {
     "data": {
      "text/plain": [
       "\n",
       "\u001b[1;36m0\u001b[0m    \u001b[1;36m1199145724\u001b[0m\n",
       "\u001b[1;36m1\u001b[0m    \u001b[1;36m1199145724\u001b[0m\n",
       "\u001b[1;36m2\u001b[0m    \u001b[1;36m1199145724\u001b[0m\n",
       "\u001b[1;36m3\u001b[0m    \u001b[1;36m1199145724\u001b[0m\n",
       "\u001b[1;36m4\u001b[0m    \u001b[1;36m1199145729\u001b[0m\n",
       "Name: timestamp, dtype: int64"
      ]
     },
     "execution_count": 233,
     "metadata": {},
     "output_type": "execute_result"
    }
   ],
   "source": [
    "wowah_data['timestamp'] = pd.to_datetime(wowah_data['timestamp'], format='%m/%d/%y %H:%M:%S')\n",
    "\n",
    "wowah_data['timestamp'] = wowah_data['timestamp'].astype('int64') // 10**9\n",
    "\n",
    "wowah_data['timestamp'].head()"
   ]
  },
  {
   "cell_type": "markdown",
   "id": "f5e1abb9-c623-4cdd-b540-90fb5bffcef2",
   "metadata": {},
   "source": [
    "Cambiamos el tipo de dato de TIMESTAMP de wowah_data para trabajar con numeros y no con tipos de datos de fecha"
   ]
  },
  {
   "cell_type": "code",
   "execution_count": 234,
   "id": "5835b19e-9ed2-4833-ba33-a455cfad56b0",
   "metadata": {},
   "outputs": [
    {
     "data": {
      "text/html": [
       "<pre style=\"white-space:pre;overflow-x:auto;line-height:normal;font-family:Menlo,'DejaVu Sans Mono',consolas,'Courier New',monospace\"></pre>\n"
      ],
      "text/plain": []
     },
     "metadata": {},
     "output_type": "display_data"
    },
    {
     "data": {
      "image/png": "[encoded data removed]",
      "text/plain": [
       "\u001b[1m<\u001b[0m\u001b[1;95mFigure\u001b[0m\u001b[39m size 100\u001b[0m\u001b[1;36m0x600\u001b[0m\u001b[39m with \u001b[0m\u001b[1;36m1\u001b[0m\u001b[39m Axes\u001b[0m\u001b[1m>\u001b[0m"
      ]
     },
     "metadata": {},
     "output_type": "display_data"
    },
    {
     "data": {
      "text/html": [
       "<pre style=\"white-space:pre;overflow-x:auto;line-height:normal;font-family:Menlo,'DejaVu Sans Mono',consolas,'Courier New',monospace\"></pre>\n"
      ],
      "text/plain": []
     },
     "metadata": {},
     "output_type": "display_data"
    },
    {
     "data": {
      "image/png": "[encoded data removed]",
      "text/plain": [
       "\u001b[1m<\u001b[0m\u001b[1;95mFigure\u001b[0m\u001b[39m size 100\u001b[0m\u001b[1;36m0x600\u001b[0m\u001b[39m with \u001b[0m\u001b[1;36m1\u001b[0m\u001b[39m Axes\u001b[0m\u001b[1m>\u001b[0m"
      ]
     },
     "metadata": {},
     "output_type": "display_data"
    }
   ],
   "source": [
    "scaler = StandardScaler()\n",
    "wowah_data_standardized = scaler.fit_transform(wowah_data[['level']])\n",
    "normalizer = MinMaxScaler()\n",
    "wowah_data_normalized = normalizer.fit_transform(wowah_data[['level']])\n",
    "\n",
    "\n",
    "wowah_data_standardized_df = pd.DataFrame(wowah_data_standardized, columns=['level_standardized'])\n",
    "wowah_data_normalized_df = pd.DataFrame(wowah_data_normalized, columns=['level_normalized'])\n",
    "\n",
    "plt.figure(figsize=(10, 6))\n",
    "sns.histplot(wowah_data_standardized_df['level_standardized'], kde=True, color='blue', bins=30)\n",
    "plt.title('Distribución de level estandarizado')\n",
    "plt.xlabel('Valor estandarizado')\n",
    "plt.ylabel('Frecuencia')\n",
    "plt.show()\n",
    "\n",
    "plt.figure(figsize=(10, 6))\n",
    "sns.histplot(wowah_data_normalized_df['level_normalized'], kde=True, color='green', bins=30)\n",
    "plt.title('Distribución de level normalizado')\n",
    "plt.xlabel('Valor normalizado')\n",
    "plt.ylabel('Frecuencia')\n",
    "plt.show()"
   ]
  },
  {
   "cell_type": "markdown",
   "id": "f2cf0cd7-56e1-4b9c-a0eb-9e3429e82011",
   "metadata": {},
   "source": [
    "Primero, utilizamos StandardScaler para transformar los datos a una distribución con media 0 y desviación estándar 1. Luego, aplicamos MinMaxScaler para ajustar los valores al rango de 0 a 1. Los resultados se convierten en DataFrames para facilitar la visualización. Finalmente, se generan histogramas con seaborn para mostrar las distribuciones de los datos estandarizados y normalizados, permitiendo comparar cómo se distribuyen los niveles de los jugadores tras cada transformación."
   ]
  },
  {
   "cell_type": "code",
   "execution_count": 235,
   "id": "2139639a-abef-4760-82ee-97ec54e04394",
   "metadata": {},
   "outputs": [
    {
     "data": {
      "text/html": [
       "<pre style=\"white-space:pre;overflow-x:auto;line-height:normal;font-family:Menlo,'DejaVu Sans Mono',consolas,'Courier New',monospace\"><span style=\"color: #7fbfbf; text-decoration-color: #7fbfbf\">[09/30/24 01:41:25] </span><span style=\"color: #808000; text-decoration-color: #808000\">WARNING </span> C:\\Users\\Juanjo\\Documents\\wow\\machinwow\\Lib\\site-packages\\sklearn\\base <span style=\"color: #7f7f7f; text-decoration-color: #7f7f7f\">warnings.py:110</span>\n",
       "<span style=\"color: #7fbfbf; text-decoration-color: #7fbfbf\">                    </span>         .py:<span style=\"color: #008080; text-decoration-color: #008080; font-weight: bold\">493</span>: UserWarning:                                                  <span style=\"color: #7f7f7f; text-decoration-color: #7f7f7f\">               </span>\n",
       "<span style=\"color: #7fbfbf; text-decoration-color: #7fbfbf\">                    </span>                                                                                <span style=\"color: #7f7f7f; text-decoration-color: #7f7f7f\">               </span>\n",
       "<span style=\"color: #7fbfbf; text-decoration-color: #7fbfbf\">                    </span>         X does not have valid feature names, but PolynomialFeatures was fitted <span style=\"color: #7f7f7f; text-decoration-color: #7f7f7f\">               </span>\n",
       "<span style=\"color: #7fbfbf; text-decoration-color: #7fbfbf\">                    </span>         with feature names                                                     <span style=\"color: #7f7f7f; text-decoration-color: #7f7f7f\">               </span>\n",
       "<span style=\"color: #7fbfbf; text-decoration-color: #7fbfbf\">                    </span>                                                                                <span style=\"color: #7f7f7f; text-decoration-color: #7f7f7f\">               </span>\n",
       "<span style=\"color: #7fbfbf; text-decoration-color: #7fbfbf\">                    </span>                                                                                <span style=\"color: #7f7f7f; text-decoration-color: #7f7f7f\">               </span>\n",
       "</pre>\n"
      ],
      "text/plain": [
       "\u001b[2;36m[09/30/24 01:41:25]\u001b[0m\u001b[2;36m \u001b[0m\u001b[33mWARNING \u001b[0m C:\\Users\\Juanjo\\Documents\\wow\\machinwow\\Lib\\site-packages\\sklearn\\base \u001b[2mwarnings.py\u001b[0m\u001b[2m:\u001b[0m\u001b[2m110\u001b[0m\n",
       "\u001b[2;36m                    \u001b[0m         .py:\u001b[1;36m493\u001b[0m: UserWarning:                                                  \u001b[2m               \u001b[0m\n",
       "\u001b[2;36m                    \u001b[0m                                                                                \u001b[2m               \u001b[0m\n",
       "\u001b[2;36m                    \u001b[0m         X does not have valid feature names, but PolynomialFeatures was fitted \u001b[2m               \u001b[0m\n",
       "\u001b[2;36m                    \u001b[0m         with feature names                                                     \u001b[2m               \u001b[0m\n",
       "\u001b[2;36m                    \u001b[0m                                                                                \u001b[2m               \u001b[0m\n",
       "\u001b[2;36m                    \u001b[0m                                                                                \u001b[2m               \u001b[0m\n"
      ]
     },
     "metadata": {},
     "output_type": "display_data"
    },
    {
     "data": {
      "text/html": [
       "<pre style=\"white-space:pre;overflow-x:auto;line-height:normal;font-family:Menlo,'DejaVu Sans Mono',consolas,'Courier New',monospace\"></pre>\n"
      ],
      "text/plain": []
     },
     "metadata": {},
     "output_type": "display_data"
    },
    {
     "data": {
      "text/html": [
       "<pre style=\"white-space:pre;overflow-x:auto;line-height:normal;font-family:Menlo,'DejaVu Sans Mono',consolas,'Courier New',monospace\"><span style=\"color: #7fbfbf; text-decoration-color: #7fbfbf\">[09/30/24 01:41:27] </span><span style=\"color: #808000; text-decoration-color: #808000\">WARNING </span> C:\\Users\\Juanjo\\Documents\\wow\\machinwow\\Lib\\site-packages\\IPython\\core <span style=\"color: #7f7f7f; text-decoration-color: #7f7f7f\">warnings.py:110</span>\n",
       "<span style=\"color: #7fbfbf; text-decoration-color: #7fbfbf\">                    </span>         \\pylabtools.py:<span style=\"color: #008080; text-decoration-color: #008080; font-weight: bold\">170</span>: UserWarning:                                       <span style=\"color: #7f7f7f; text-decoration-color: #7f7f7f\">               </span>\n",
       "<span style=\"color: #7fbfbf; text-decoration-color: #7fbfbf\">                    </span>                                                                                <span style=\"color: #7f7f7f; text-decoration-color: #7f7f7f\">               </span>\n",
       "<span style=\"color: #7fbfbf; text-decoration-color: #7fbfbf\">                    </span>         Creating legend with <span style=\"color: #808000; text-decoration-color: #808000\">loc</span>=<span style=\"color: #008000; text-decoration-color: #008000\">\"best\"</span> can be slow with large amounts of      <span style=\"color: #7f7f7f; text-decoration-color: #7f7f7f\">               </span>\n",
       "<span style=\"color: #7fbfbf; text-decoration-color: #7fbfbf\">                    </span>         data.                                                                  <span style=\"color: #7f7f7f; text-decoration-color: #7f7f7f\">               </span>\n",
       "<span style=\"color: #7fbfbf; text-decoration-color: #7fbfbf\">                    </span>                                                                                <span style=\"color: #7f7f7f; text-decoration-color: #7f7f7f\">               </span>\n",
       "<span style=\"color: #7fbfbf; text-decoration-color: #7fbfbf\">                    </span>                                                                                <span style=\"color: #7f7f7f; text-decoration-color: #7f7f7f\">               </span>\n",
       "</pre>\n"
      ],
      "text/plain": [
       "\u001b[2;36m[09/30/24 01:41:27]\u001b[0m\u001b[2;36m \u001b[0m\u001b[33mWARNING \u001b[0m C:\\Users\\Juanjo\\Documents\\wow\\machinwow\\Lib\\site-packages\\IPython\\core \u001b[2mwarnings.py\u001b[0m\u001b[2m:\u001b[0m\u001b[2m110\u001b[0m\n",
       "\u001b[2;36m                    \u001b[0m         \\pylabtools.py:\u001b[1;36m170\u001b[0m: UserWarning:                                       \u001b[2m               \u001b[0m\n",
       "\u001b[2;36m                    \u001b[0m                                                                                \u001b[2m               \u001b[0m\n",
       "\u001b[2;36m                    \u001b[0m         Creating legend with \u001b[33mloc\u001b[0m=\u001b[32m\"best\"\u001b[0m can be slow with large amounts of      \u001b[2m               \u001b[0m\n",
       "\u001b[2;36m                    \u001b[0m         data.                                                                  \u001b[2m               \u001b[0m\n",
       "\u001b[2;36m                    \u001b[0m                                                                                \u001b[2m               \u001b[0m\n",
       "\u001b[2;36m                    \u001b[0m                                                                                \u001b[2m               \u001b[0m\n"
      ]
     },
     "metadata": {},
     "output_type": "display_data"
    },
    {
     "data": {
      "image/png": "[encoded data removed]",
      "text/plain": [
       "\u001b[1m<\u001b[0m\u001b[1;95mFigure\u001b[0m\u001b[39m size 64\u001b[0m\u001b[1;36m0x480\u001b[0m\u001b[39m with \u001b[0m\u001b[1;36m1\u001b[0m\u001b[39m Axes\u001b[0m\u001b[1m>\u001b[0m"
      ]
     },
     "metadata": {},
     "output_type": "display_data"
    }
   ],
   "source": [
    "# Selecciona la característica y el objetivo\n",
    "X = wowah_data[['timestamp']]\n",
    "y = wowah_data['level']\n",
    "\n",
    "degree = 3  \n",
    "model = make_pipeline(\n",
    "  PolynomialFeatures(degree=degree, include_bias=False),\n",
    "  LinearRegression()\n",
    ")\n",
    "\n",
    "X_train, X_test, y_train, y_test = train_test_split(X, y, test_size=0.2, random_state=42)\n",
    "\n",
    "\n",
    "model.fit(X_train, y_train)\n",
    "\n",
    "\n",
    "X_plot = np.linspace(X['timestamp'].min(), X['timestamp'].max(), 100).reshape(-1, 1)\n",
    "y_plot = model.predict(X_plot)\n",
    "\n",
    "\n",
    "plt.scatter(X, y, color='blue', label='Datos')\n",
    "plt.plot(X_plot, y_plot, color='red', linewidth=2, label='Regresión polinomial')\n",
    "plt.xlabel('Timestamp')\n",
    "plt.ylabel('Level')\n",
    "plt.title('Regresión Polinomial')\n",
    "plt.legend()\n",
    "plt.show()"
   ]
  },
  {
   "cell_type": "markdown",
   "id": "6a338722-f7c3-4f82-8bf3-2d601c028ccd",
   "metadata": {},
   "source": [
    "Se realizó una regresión polinomial para modelar la relación entre el timestamp y el nivel de los personajes en World of Warcraft. Se seleccionó `timestamp` como característica independiente y `level` como variable objetivo. Se creó un modelo utilizando un pipeline que incluye características polinomiales de grado 3 y regresión lineal. Los datos se dividieron en conjuntos de entrenamiento y prueba, y el modelo se entrenó con los datos de entrenamiento. Luego, se generaron predicciones sobre un rango de timestamps para visualización. En la gráfica, los puntos azules representan los datos reales y la línea roja muestra la predicción del modelo, ayudando a entender cómo varía el nivel de los personajes con el tiempo."
   ]
  },
  {
   "cell_type": "code",
   "execution_count": 236,
   "id": "edd085c6-cd4a-4be7-92f5-55189d5aca9c",
   "metadata": {},
   "outputs": [
    {
     "name": "stdout",
     "output_type": "stream",
     "text": [
      "Zone_Name          0\n",
      "Continent          0\n",
      "Area               3\n",
      "Zone               7\n",
      "Subzone          108\n",
      "Type               0\n",
      "Size               0\n",
      "Controlled         0\n",
      "Min_req_level      0\n",
      "Min_rec_level      0\n",
      "Max_rec_level      0\n",
      "Min_bot_level      0\n",
      "Max_bot_level      0\n",
      "dtype: int64\n"
     ]
    }
   ],
   "source": [
    "numeric_columns = zones.select_dtypes(include=['float64', 'int64']).columns\n",
    "\n",
    "imputer = KNNImputer(n_neighbors=5)\n",
    "\n",
    "zones[numeric_columns] = imputer.fit_transform(zones[numeric_columns])\n",
    "\n",
    "print(zones.isnull().sum())"
   ]
  },
  {
   "cell_type": "markdown",
   "id": "ed36ab37-ae9a-458a-97ac-ee73881c0aee",
   "metadata": {},
   "source": [
    "Se seleccionaron las columnas numéricas del DataFrame `zones` para preparar la imputación de valores faltantes. Se utilizó el `KNNImputer`.\n",
    "Tras aplicar la imputación, se verificaron los datos faltantes en el DataFrame, mostrando cuántos valores faltantes permanecen en cada columna. Esto asegura que los datos estén completos para un análisis más preciso y significativo."
   ]
  },
  {
   "cell_type": "code",
   "execution_count": 237,
   "id": "6748b210-7cc6-4b6f-8b78-03d1295c6558",
   "metadata": {},
   "outputs": [],
   "source": [
    "diccionario = {'Subzone':'None','Area':'None','Zone':'None', }\n",
    "zones = zones.fillna(diccionario)"
   ]
  },
  {
   "cell_type": "markdown",
   "id": "5ad5cd16-a447-47c3-a8d3-de4ae8888b85",
   "metadata": {},
   "source": [
    "Se creó un diccionario para rellenar los valores faltantes en las columnas del DataFrame `zones` con el valor 'None'. Esto permite que estas columnas mantengan consistencia en los datos al evitar que contengan valores nulos, facilitando así el análisis posterior."
   ]
  },
  {
   "cell_type": "code",
   "execution_count": 238,
   "id": "fc21800d-abf5-4bc5-9ce1-56a0c44f1517",
   "metadata": {},
   "outputs": [
    {
     "data": {
      "text/html": [
       "<pre style=\"white-space:pre;overflow-x:auto;line-height:normal;font-family:Menlo,'DejaVu Sans Mono',consolas,'Courier New',monospace\"></pre>\n"
      ],
      "text/plain": []
     },
     "metadata": {},
     "output_type": "display_data"
    },
    {
     "data": {
      "text/plain": [
       "\n",
       "Zone_Name        \u001b[1;36m0\u001b[0m\n",
       "Continent        \u001b[1;36m0\u001b[0m\n",
       "Area             \u001b[1;36m0\u001b[0m\n",
       "Zone             \u001b[1;36m0\u001b[0m\n",
       "Subzone          \u001b[1;36m0\u001b[0m\n",
       "Type             \u001b[1;36m0\u001b[0m\n",
       "Size             \u001b[1;36m0\u001b[0m\n",
       "Controlled       \u001b[1;36m0\u001b[0m\n",
       "Min_req_level    \u001b[1;36m0\u001b[0m\n",
       "Min_rec_level    \u001b[1;36m0\u001b[0m\n",
       "Max_rec_level    \u001b[1;36m0\u001b[0m\n",
       "Min_bot_level    \u001b[1;36m0\u001b[0m\n",
       "Max_bot_level    \u001b[1;36m0\u001b[0m\n",
       "dtype: int64"
      ]
     },
     "execution_count": 238,
     "metadata": {},
     "output_type": "execute_result"
    }
   ],
   "source": [
    "zones.isnull().sum()"
   ]
  },
  {
   "cell_type": "markdown",
   "id": "3c907fb8-8dc9-4f54-bd91-3b37c7f65e8e",
   "metadata": {},
   "source": [
    "Se utiliza `zones.isnull().sum()` para contar el número de valores nulos en cada columna Esto es fundamental para identificar columnas con datos faltantes y determinar si se requieren estrategias adicionales de imputación o limpieza, Rellenamos los valores nulos del archivo zones, ya sea, colocando None a strings vacíos o ceros a valores numericos nulos."
   ]
  },
  {
   "cell_type": "code",
   "execution_count": 239,
   "id": "acc1e0b4-b2a3-4533-a493-0f894db88d11",
   "metadata": {},
   "outputs": [],
   "source": [
    "zones['Min_rec_level'] = zones['Min_rec_level'].astype(int)\n",
    "zones['Max_rec_level'] = zones['Max_rec_level'].astype(int)\n",
    "zones['Min_bot_level'] = zones['Min_bot_level'].astype(int)\n",
    "zones['Max_bot_level'] = zones['Max_bot_level'].astype(int)"
   ]
  },
  {
   "cell_type": "markdown",
   "id": "84985699-5473-4a4d-aba1-f6cdcff819eb",
   "metadata": {},
   "source": [
    "Ahora normalizamos los numeros del archivos zones a tipo de dato entero (`int`), Estom es importante para que podamos trabajar de mejor manera con columnas del mismo tipo de dato."
   ]
  },
  {
   "cell_type": "code",
   "execution_count": 240,
   "id": "08839959-93e8-4f3b-94e0-80fc383ae86e",
   "metadata": {},
   "outputs": [],
   "source": [
    "wowah_data['guild'] = wowah_data['guild'].replace(-1, 0)"
   ]
  },
  {
   "cell_type": "markdown",
   "id": "c8109665-4e0a-448c-8f75-eb6731f9f713",
   "metadata": {},
   "source": [
    "###### Después normalizamos los numeros del archivos wowah_data, cambiando los numeros -1 a 0's."
   ]
  },
  {
   "cell_type": "code",
   "execution_count": 241,
   "id": "553ff9a2-0068-4fe9-bde4-0082cf20fb55",
   "metadata": {},
   "outputs": [],
   "source": [
    "wowah_data.columns = wowah_data.columns.str.strip()"
   ]
  },
  {
   "cell_type": "markdown",
   "id": "93cc9550-5113-448c-a5ce-a968e6c6cbae",
   "metadata": {},
   "source": [
    "Quitamos los espacios de las columnas del dataset para poder referirnos correctamente a las columnas que necesitemos."
   ]
  },
  {
   "cell_type": "code",
   "execution_count": 242,
   "id": "3fa98701-a276-4035-b52a-698201a8ebf0",
   "metadata": {
    "scrolled": true
   },
   "outputs": [
    {
     "data": {
      "text/html": [
       "<pre style=\"white-space:pre;overflow-x:auto;line-height:normal;font-family:Menlo,'DejaVu Sans Mono',consolas,'Courier New',monospace\"></pre>\n"
      ],
      "text/plain": []
     },
     "metadata": {},
     "output_type": "display_data"
    },
    {
     "data": {
      "text/html": [
       "<div>\n",
       "<style scoped>\n",
       "    .dataframe tbody tr th:only-of-type {\n",
       "        vertical-align: middle;\n",
       "    }\n",
       "\n",
       "    .dataframe tbody tr th {\n",
       "        vertical-align: top;\n",
       "    }\n",
       "\n",
       "    .dataframe thead th {\n",
       "        text-align: right;\n",
       "    }\n",
       "</style>\n",
       "<table border=\"1\" class=\"dataframe\">\n",
       "  <thead>\n",
       "    <tr style=\"text-align: right;\">\n",
       "      <th></th>\n",
       "      <th>char</th>\n",
       "      <th>level</th>\n",
       "      <th>race</th>\n",
       "      <th>charclass</th>\n",
       "      <th>zone</th>\n",
       "      <th>guild</th>\n",
       "      <th>timestamp</th>\n",
       "    </tr>\n",
       "  </thead>\n",
       "  <tbody>\n",
       "    <tr>\n",
       "      <th>1</th>\n",
       "      <td>65494</td>\n",
       "      <td>9</td>\n",
       "      <td>Orc</td>\n",
       "      <td>Hunter</td>\n",
       "      <td>Durotar</td>\n",
       "      <td>0</td>\n",
       "      <td>1199145724</td>\n",
       "    </tr>\n",
       "    <tr>\n",
       "      <th>2</th>\n",
       "      <td>65325</td>\n",
       "      <td>14</td>\n",
       "      <td>Orc</td>\n",
       "      <td>Warrior</td>\n",
       "      <td>Ghostlands</td>\n",
       "      <td>0</td>\n",
       "      <td>1199145724</td>\n",
       "    </tr>\n",
       "    <tr>\n",
       "      <th>3</th>\n",
       "      <td>65490</td>\n",
       "      <td>18</td>\n",
       "      <td>Orc</td>\n",
       "      <td>Hunter</td>\n",
       "      <td>Ghostlands</td>\n",
       "      <td>0</td>\n",
       "      <td>1199145724</td>\n",
       "    </tr>\n",
       "    <tr>\n",
       "      <th>4</th>\n",
       "      <td>2288</td>\n",
       "      <td>60</td>\n",
       "      <td>Orc</td>\n",
       "      <td>Hunter</td>\n",
       "      <td>Hellfire Peninsula</td>\n",
       "      <td>0</td>\n",
       "      <td>1199145729</td>\n",
       "    </tr>\n",
       "    <tr>\n",
       "      <th>5</th>\n",
       "      <td>2289</td>\n",
       "      <td>60</td>\n",
       "      <td>Orc</td>\n",
       "      <td>Hunter</td>\n",
       "      <td>Hellfire Peninsula</td>\n",
       "      <td>0</td>\n",
       "      <td>1199145729</td>\n",
       "    </tr>\n",
       "    <tr>\n",
       "      <th>...</th>\n",
       "      <td>...</td>\n",
       "      <td>...</td>\n",
       "      <td>...</td>\n",
       "      <td>...</td>\n",
       "      <td>...</td>\n",
       "      <td>...</td>\n",
       "      <td>...</td>\n",
       "    </tr>\n",
       "    <tr>\n",
       "      <th>1048570</th>\n",
       "      <td>1094</td>\n",
       "      <td>70</td>\n",
       "      <td>Undead</td>\n",
       "      <td>Rogue</td>\n",
       "      <td>Arathi Basin</td>\n",
       "      <td>103</td>\n",
       "      <td>1201335118</td>\n",
       "    </tr>\n",
       "    <tr>\n",
       "      <th>1048571</th>\n",
       "      <td>22703</td>\n",
       "      <td>70</td>\n",
       "      <td>Undead</td>\n",
       "      <td>Warlock</td>\n",
       "      <td>Orgrimmar</td>\n",
       "      <td>103</td>\n",
       "      <td>1201335123</td>\n",
       "    </tr>\n",
       "    <tr>\n",
       "      <th>1048572</th>\n",
       "      <td>33016</td>\n",
       "      <td>70</td>\n",
       "      <td>Undead</td>\n",
       "      <td>Warlock</td>\n",
       "      <td>Orgrimmar</td>\n",
       "      <td>204</td>\n",
       "      <td>1201335123</td>\n",
       "    </tr>\n",
       "    <tr>\n",
       "      <th>1048573</th>\n",
       "      <td>8245</td>\n",
       "      <td>70</td>\n",
       "      <td>Undead</td>\n",
       "      <td>Warlock</td>\n",
       "      <td>Shadowmoon Valley</td>\n",
       "      <td>19</td>\n",
       "      <td>1201335123</td>\n",
       "    </tr>\n",
       "    <tr>\n",
       "      <th>1048574</th>\n",
       "      <td>2416</td>\n",
       "      <td>70</td>\n",
       "      <td>Undead</td>\n",
       "      <td>Warlock</td>\n",
       "      <td>Nagrand</td>\n",
       "      <td>204</td>\n",
       "      <td>1201335123</td>\n",
       "    </tr>\n",
       "  </tbody>\n",
       "</table>\n",
       "<p>1026942 rows × 7 columns</p>\n",
       "</div>"
      ],
      "text/plain": [
       "\n",
       "          char  level    race charclass                zone  guild   timestamp\n",
       "\u001b[1;36m1\u001b[0m        \u001b[1;36m65494\u001b[0m      \u001b[1;36m9\u001b[0m     Orc    Hunter             Durotar      \u001b[1;36m0\u001b[0m  \u001b[1;36m1199145724\u001b[0m\n",
       "\u001b[1;36m2\u001b[0m        \u001b[1;36m65325\u001b[0m     \u001b[1;36m14\u001b[0m     Orc   Warrior          Ghostlands      \u001b[1;36m0\u001b[0m  \u001b[1;36m1199145724\u001b[0m\n",
       "\u001b[1;36m3\u001b[0m        \u001b[1;36m65490\u001b[0m     \u001b[1;36m18\u001b[0m     Orc    Hunter          Ghostlands      \u001b[1;36m0\u001b[0m  \u001b[1;36m1199145724\u001b[0m\n",
       "\u001b[1;36m4\u001b[0m         \u001b[1;36m2288\u001b[0m     \u001b[1;36m60\u001b[0m     Orc    Hunter  Hellfire Peninsula      \u001b[1;36m0\u001b[0m  \u001b[1;36m1199145729\u001b[0m\n",
       "\u001b[1;36m5\u001b[0m         \u001b[1;36m2289\u001b[0m     \u001b[1;36m60\u001b[0m     Orc    Hunter  Hellfire Peninsula      \u001b[1;36m0\u001b[0m  \u001b[1;36m1199145729\u001b[0m\n",
       "\u001b[33m...\u001b[0m        \u001b[33m...\u001b[0m    \u001b[33m...\u001b[0m     \u001b[33m...\u001b[0m       \u001b[33m...\u001b[0m                 \u001b[33m...\u001b[0m    \u001b[33m...\u001b[0m         \u001b[33m...\u001b[0m\n",
       "\u001b[1;36m1048570\u001b[0m   \u001b[1;36m1094\u001b[0m     \u001b[1;36m70\u001b[0m  Undead     Rogue        Arathi Basin    \u001b[1;36m103\u001b[0m  \u001b[1;36m1201335118\u001b[0m\n",
       "\u001b[1;36m1048571\u001b[0m  \u001b[1;36m22703\u001b[0m     \u001b[1;36m70\u001b[0m  Undead   Warlock           Orgrimmar    \u001b[1;36m103\u001b[0m  \u001b[1;36m1201335123\u001b[0m\n",
       "\u001b[1;36m1048572\u001b[0m  \u001b[1;36m33016\u001b[0m     \u001b[1;36m70\u001b[0m  Undead   Warlock           Orgrimmar    \u001b[1;36m204\u001b[0m  \u001b[1;36m1201335123\u001b[0m\n",
       "\u001b[1;36m1048573\u001b[0m   \u001b[1;36m8245\u001b[0m     \u001b[1;36m70\u001b[0m  Undead   Warlock   Shadowmoon Valley     \u001b[1;36m19\u001b[0m  \u001b[1;36m1201335123\u001b[0m\n",
       "\u001b[1;36m1048574\u001b[0m   \u001b[1;36m2416\u001b[0m     \u001b[1;36m70\u001b[0m  Undead   Warlock             Nagrand    \u001b[1;36m204\u001b[0m  \u001b[1;36m1201335123\u001b[0m\n",
       "\n",
       "\u001b[1m[\u001b[0m\u001b[1;36m1026942\u001b[0m rows x \u001b[1;36m7\u001b[0m columns\u001b[1m]\u001b[0m"
      ]
     },
     "execution_count": 242,
     "metadata": {},
     "output_type": "execute_result"
    }
   ],
   "source": [
    "z = np.abs(stats.zscore(wowah_data['level']))\n",
    "wowah_data = wowah_data[( z < 3 )]\n",
    "wowah_data"
   ]
  },
  {
   "cell_type": "markdown",
   "id": "5150ec50-0935-4665-903d-f6521cbd49bf",
   "metadata": {},
   "source": [
    "Recortamos los outliers de wowah_data con niveles menores a 3 de la columna de level, puesto que queremos dejar lo mas representativo"
   ]
  },
  {
   "cell_type": "markdown",
   "id": "b18da334-8fd8-4fc1-ac6f-da6d4f71fa98",
   "metadata": {},
   "source": [
    "Ahora procedemo a recortar los datos aun mas, sacamos los outliers de los DataFrames ( wowah_data y zones ) con la puntuación IQR y comparamos con el antes y los nuevos datos mas significativos."
   ]
  },
  {
   "cell_type": "code",
   "execution_count": 243,
   "id": "4e2d7222-e89f-4422-a5e4-f5c01c0ffd88",
   "metadata": {},
   "outputs": [
    {
     "data": {
      "text/html": [
       "<pre style=\"white-space:pre;overflow-x:auto;line-height:normal;font-family:Menlo,'DejaVu Sans Mono',consolas,'Courier New',monospace\"></pre>\n"
      ],
      "text/plain": []
     },
     "metadata": {},
     "output_type": "display_data"
    },
    {
     "data": {
      "text/plain": [
       "\u001b[1m(\u001b[0m\u001b[1;36m1026942\u001b[0m, \u001b[1;36m7\u001b[0m\u001b[1m)\u001b[0m"
      ]
     },
     "execution_count": 243,
     "metadata": {},
     "output_type": "execute_result"
    }
   ],
   "source": [
    "wowah_data_antes = wowah_data\n",
    "wowah_data_antes.shape"
   ]
  },
  {
   "cell_type": "code",
   "execution_count": 244,
   "id": "bb53195b-bb27-4447-8789-01cf2146cfd7",
   "metadata": {},
   "outputs": [
    {
     "data": {
      "text/html": [
       "<pre style=\"white-space:pre;overflow-x:auto;line-height:normal;font-family:Menlo,'DejaVu Sans Mono',consolas,'Courier New',monospace\"></pre>\n"
      ],
      "text/plain": []
     },
     "metadata": {},
     "output_type": "display_data"
    },
    {
     "data": {
      "text/plain": [
       "\u001b[1m(\u001b[0m\u001b[1;36m842445\u001b[0m, \u001b[1;36m7\u001b[0m\u001b[1m)\u001b[0m"
      ]
     },
     "execution_count": 244,
     "metadata": {},
     "output_type": "execute_result"
    }
   ],
   "source": [
    "Q1 = wowah_data['level'].quantile(0.25)\n",
    "Q3 = wowah_data['level'].quantile(0.75)\n",
    "IQR = Q3 - Q1\n",
    "wowah_data = wowah_data[~((wowah_data['level'] < (Q1 - 1.5 * IQR ))|(wowah_data['level'] > (Q3 + 1.5 * IQR )))]\n",
    "wowah_data.shape"
   ]
  },
  {
   "cell_type": "code",
   "execution_count": 245,
   "id": "f2e1142b-74cc-4b2d-b4b2-443232a95a65",
   "metadata": {},
   "outputs": [
    {
     "data": {
      "text/html": [
       "<pre style=\"white-space:pre;overflow-x:auto;line-height:normal;font-family:Menlo,'DejaVu Sans Mono',consolas,'Courier New',monospace\"></pre>\n"
      ],
      "text/plain": []
     },
     "metadata": {},
     "output_type": "display_data"
    },
    {
     "data": {
      "text/plain": [
       "\u001b[1m(\u001b[0m\u001b[1;36m160\u001b[0m, \u001b[1;36m13\u001b[0m\u001b[1m)\u001b[0m"
      ]
     },
     "execution_count": 245,
     "metadata": {},
     "output_type": "execute_result"
    }
   ],
   "source": [
    "zones_antes = zones\n",
    "zones_antes.shape"
   ]
  },
  {
   "cell_type": "code",
   "execution_count": 246,
   "id": "5bf0543c-c9a0-447d-a294-726541fd6a6f",
   "metadata": {},
   "outputs": [
    {
     "data": {
      "text/html": [
       "<pre style=\"white-space:pre;overflow-x:auto;line-height:normal;font-family:Menlo,'DejaVu Sans Mono',consolas,'Courier New',monospace\"></pre>\n"
      ],
      "text/plain": []
     },
     "metadata": {},
     "output_type": "display_data"
    },
    {
     "data": {
      "text/plain": [
       "\u001b[1m(\u001b[0m\u001b[1;36m160\u001b[0m, \u001b[1;36m13\u001b[0m\u001b[1m)\u001b[0m"
      ]
     },
     "execution_count": 246,
     "metadata": {},
     "output_type": "execute_result"
    }
   ],
   "source": [
    "Q1 = zones['Min_rec_level'].quantile(0.25)\n",
    "Q3 = zones['Min_rec_level'].quantile(0.75)\n",
    "IQR = Q3 - Q1\n",
    "zones = zones[~((zones['Min_rec_level'] < (Q1 - 1.5 * IQR ))|(zones['Min_rec_level'] > (Q3 + 1.5 * IQR )))]\n",
    "zones.shape\n"
   ]
  },
  {
   "cell_type": "markdown",
   "id": "b476e86e-98eb-4b3b-a178-594579c13c82",
   "metadata": {},
   "source": [
    "Primero, hacemos una copia de wowah_data para poder ver el antes y después del tamaño de los datos. Aplicamos la puntuación IQR para sacar de nuestra ecuacion aquellos datos que estan fuera de nuestros cuartiles principales. Y luego hacemos lo mismo con zones."
   ]
  },
  {
   "cell_type": "code",
   "execution_count": 5,
   "id": "193564bd-cb35-4364-b3f8-7ed63f09c3ba",
   "metadata": {},
   "outputs": [
    {
     "data": {
      "text/html": [
       "<pre style=\"white-space:pre;overflow-x:auto;line-height:normal;font-family:Menlo,'DejaVu Sans Mono',consolas,'Courier New',monospace\"></pre>\n"
      ],
      "text/plain": []
     },
     "metadata": {},
     "output_type": "display_data"
    },
    {
     "data": {
      "text/plain": [
       "\n",
       "\u001b[1m(\u001b[0m\n",
       "    \u001b[1;35marray\u001b[0m\u001b[1m(\u001b[0m\u001b[1m[\u001b[0m \u001b[1;36m6.04506708e-03\u001b[0m,  \u001b[1;36m1.23183587e+00\u001b[0m,  \u001b[1;36m1.90256054e+00\u001b[0m,  \u001b[1;36m1.21128170e+00\u001b[0m,\n",
       "        \u001b[1;36m3.64429686e+00\u001b[0m, \u001b[1;36m-0.00000000e+00\u001b[0m,  \u001b[1;36m5.34762413e-01\u001b[0m, \u001b[1;36m-2.56584810e-01\u001b[0m,\n",
       "        \u001b[1;36m0.00000000e+00\u001b[0m, \u001b[1;36m-0.00000000e+00\u001b[0m,  \u001b[1;36m0.00000000e+00\u001b[0m,  \u001b[1;36m0.00000000e+00\u001b[0m,\n",
       "        \u001b[1;36m7.93041225e-02\u001b[0m,  \u001b[1;36m4.78384298e+00\u001b[0m,  \u001b[1;36m5.56400265e+00\u001b[0m, \u001b[1;36m-5.90663348e+00\u001b[0m,\n",
       "       \u001b[1;36m-1.30113510e+01\u001b[0m,  \u001b[1;36m0.00000000e+00\u001b[0m,  \u001b[1;36m0.00000000e+00\u001b[0m, \u001b[1;36m-0.00000000e+00\u001b[0m,\n",
       "        \u001b[1;36m0.00000000e+00\u001b[0m, \u001b[1;36m-0.00000000e+00\u001b[0m, \u001b[1;36m-0.00000000e+00\u001b[0m,  \u001b[1;36m0.00000000e+00\u001b[0m,\n",
       "        \u001b[1;36m0.00000000e+00\u001b[0m,  \u001b[1;36m0.00000000e+00\u001b[0m,  \u001b[1;36m0.00000000e+00\u001b[0m,  \u001b[1;36m0.00000000e+00\u001b[0m,\n",
       "        \u001b[1;36m5.22984170e+00\u001b[0m, \u001b[1;36m-0.00000000e+00\u001b[0m,  \u001b[1;36m0.00000000e+00\u001b[0m,  \u001b[1;36m0.00000000e+00\u001b[0m,\n",
       "       \u001b[1;36m-0.00000000e+00\u001b[0m, \u001b[1;36m-0.00000000e+00\u001b[0m,  \u001b[1;36m0.00000000e+00\u001b[0m, \u001b[1;36m-0.00000000e+00\u001b[0m,\n",
       "        \u001b[1;36m0.00000000e+00\u001b[0m, \u001b[1;36m-0.00000000e+00\u001b[0m, \u001b[1;36m-2.76083640e+01\u001b[0m, \u001b[1;36m-0.00000000e+00\u001b[0m,\n",
       "       \u001b[1;36m-0.00000000e+00\u001b[0m,  \u001b[1;36m0.00000000e+00\u001b[0m, \u001b[1;36m-0.00000000e+00\u001b[0m, \u001b[1;36m-4.29098359e+01\u001b[0m,\n",
       "        \u001b[1;36m0.00000000e+00\u001b[0m, \u001b[1;36m-0.00000000e+00\u001b[0m, \u001b[1;36m-0.00000000e+00\u001b[0m,  \u001b[1;36m0.00000000e+00\u001b[0m,\n",
       "       \u001b[1;36m-2.99955309e+01\u001b[0m, \u001b[1;36m-0.00000000e+00\u001b[0m,  \u001b[1;36m0.00000000e+00\u001b[0m,  \u001b[1;36m0.00000000e+00\u001b[0m,\n",
       "        \u001b[1;36m0.00000000e+00\u001b[0m,  \u001b[1;36m0.00000000e+00\u001b[0m, \u001b[1;36m-2.21631826e+01\u001b[0m,  \u001b[1;36m5.76757749e+00\u001b[0m,\n",
       "       \u001b[1;36m-0.00000000e+00\u001b[0m,  \u001b[1;36m0.00000000e+00\u001b[0m,  \u001b[1;36m0.00000000e+00\u001b[0m, \u001b[1;36m-0.00000000e+00\u001b[0m,\n",
       "        \u001b[1;36m0.00000000e+00\u001b[0m, \u001b[1;36m-0.00000000e+00\u001b[0m, \u001b[1;36m-2.25551401e+01\u001b[0m,  \u001b[1;36m4.70410960e+00\u001b[0m,\n",
       "        \u001b[1;36m0.00000000e+00\u001b[0m,  \u001b[1;36m5.26661019e+00\u001b[0m,  \u001b[1;36m0.00000000e+00\u001b[0m, \u001b[1;36m-0.00000000e+00\u001b[0m,\n",
       "       \u001b[1;36m-0.00000000e+00\u001b[0m, \u001b[1;36m-0.00000000e+00\u001b[0m, \u001b[1;36m-0.00000000e+00\u001b[0m, \u001b[1;36m-0.00000000e+00\u001b[0m,\n",
       "       \u001b[1;36m-0.00000000e+00\u001b[0m, \u001b[1;36m-0.00000000e+00\u001b[0m,  \u001b[1;36m0.00000000e+00\u001b[0m, \u001b[1;36m-0.00000000e+00\u001b[0m,\n",
       "        \u001b[1;36m0.00000000e+00\u001b[0m, \u001b[1;36m-0.00000000e+00\u001b[0m,  \u001b[1;36m3.63290167e+00\u001b[0m,  \u001b[1;36m0.00000000e+00\u001b[0m,\n",
       "       \u001b[1;36m-0.00000000e+00\u001b[0m,  \u001b[1;36m5.96469706e+00\u001b[0m,  \u001b[1;36m6.95810099e+00\u001b[0m,  \u001b[1;36m0.00000000e+00\u001b[0m,\n",
       "       \u001b[1;36m-1.88834305e+01\u001b[0m, \u001b[1;36m-1.14438628e+01\u001b[0m, \u001b[1;36m-1.39244420e+01\u001b[0m,  \u001b[1;36m0.00000000e+00\u001b[0m,\n",
       "       \u001b[1;36m-1.15155871e+01\u001b[0m,  \u001b[1;36m0.00000000e+00\u001b[0m, \u001b[1;36m-0.00000000e+00\u001b[0m, \u001b[1;36m-0.00000000e+00\u001b[0m,\n",
       "        \u001b[1;36m0.00000000e+00\u001b[0m,  \u001b[1;36m3.30073247e+00\u001b[0m,  \u001b[1;36m5.03574183e+00\u001b[0m,  \u001b[1;36m0.00000000e+00\u001b[0m,\n",
       "       \u001b[1;36m-2.81647543e+01\u001b[0m,  \u001b[1;36m0.00000000e+00\u001b[0m,  \u001b[1;36m0.00000000e+00\u001b[0m,  \u001b[1;36m0.00000000e+00\u001b[0m,\n",
       "       \u001b[1;36m-0.00000000e+00\u001b[0m, \u001b[1;36m-0.00000000e+00\u001b[0m,  \u001b[1;36m2.07759707e+00\u001b[0m,  \u001b[1;36m0.00000000e+00\u001b[0m,\n",
       "        \u001b[1;36m0.00000000e+00\u001b[0m, \u001b[1;36m-0.00000000e+00\u001b[0m,  \u001b[1;36m0.00000000e+00\u001b[0m, \u001b[1;36m-1.21821173e+01\u001b[0m,\n",
       "       \u001b[1;36m-6.64833268e+00\u001b[0m, \u001b[1;36m-2.02700893e+01\u001b[0m,  \u001b[1;36m0.00000000e+00\u001b[0m, \u001b[1;36m-0.00000000e+00\u001b[0m,\n",
       "       \u001b[1;36m-0.00000000e+00\u001b[0m, \u001b[1;36m-1.01766409e+01\u001b[0m, \u001b[1;36m-0.00000000e+00\u001b[0m,  \u001b[1;36m2.64147874e+00\u001b[0m,\n",
       "       \u001b[1;36m-0.00000000e+00\u001b[0m, \u001b[1;36m-0.00000000e+00\u001b[0m, \u001b[1;36m-0.00000000e+00\u001b[0m, \u001b[1;36m-0.00000000e+00\u001b[0m,\n",
       "        \u001b[1;36m2.01199811e+00\u001b[0m, \u001b[1;36m-0.00000000e+00\u001b[0m,  \u001b[1;36m0.00000000e+00\u001b[0m\u001b[1m]\u001b[0m\u001b[1m)\u001b[0m,\n",
       "    \u001b[1;35mnp.float64\u001b[0m\u001b[1m(\u001b[0m\u001b[1;36m133.67184811721498\u001b[0m\u001b[1m)\u001b[0m,\n",
       "    \u001b[1;35mnp.float64\u001b[0m\u001b[1m(\u001b[0m\u001b[1;36m7.725071424608199\u001b[0m\u001b[1m)\u001b[0m\n",
       "\u001b[1m)\u001b[0m"
      ]
     },
     "execution_count": 5,
     "metadata": {},
     "output_type": "execute_result"
    }
   ],
   "source": [
    "wowah_lasso = wowah_data2\n",
    "\n",
    "\n",
    "wowah_lasso.drop(columns=['char', 'timestamp'], inplace=True)\n",
    "\n",
    "\n",
    "encoder = OneHotEncoder(drop='first')\n",
    "encoded_df = pd.DataFrame(encoder.fit_transform(wowah_lasso[['race', 'charclass', 'zone']]).toarray())\n",
    "\n",
    "\n",
    "wowah_lasso = wowah_lasso.join(encoded_df)\n",
    "wowah_lasso.drop(columns=['race', 'charclass', 'zone'], inplace=True)\n",
    "\n",
    "\n",
    "X = wowah_lasso.drop(columns='level')\n",
    "y = wowah_lasso['level']\n",
    "\n",
    "\n",
    "X_train, X_test, y_train, y_test = train_test_split(X, y, test_size=0.2, random_state=42)\n",
    "\n",
    "\n",
    "lasso = Lasso(alpha=0.1)\n",
    "X.columns = X.columns.astype(str)\n",
    "\n",
    "\n",
    "X_train.columns = X_train.columns.astype(str)\n",
    "X_test.columns = X_test.columns.astype(str)\n",
    "\n",
    "\n",
    "lasso.fit(X_train, y_train)\n",
    "\n",
    "\n",
    "y_pred = lasso.predict(X_test)\n",
    "\n",
    "\n",
    "mse_corrected = mean_squared_error(y_test, y_pred)\n",
    "mae_corrected = mean_absolute_error(y_test, y_pred)\n",
    "\n",
    "lasso.coef_, mse_corrected, mae_corrected"
   ]
  },
  {
   "cell_type": "markdown",
   "id": "7ddabcfe-7196-42cc-9f9b-b590f907412e",
   "metadata": {},
   "source": [
    "Por ultimo, hacemos una copia de WOWAH_DATA para poder ejecutar algunas pruebas sobre modelaje, en este caso el modelo de regresión lasso el cual nos brinda mejoras en la visualizacion de predicciones futuras e interpretaciones de modelos lineales. Para este codigo eliminamos las columnas innecesarias para el modelo, convertimos las variables categoricas en binarias, hacemos nuestros conjuntos de pruebas y entrenamiento, entrenamos el modelo para después tener nuestro resultado de prediccion, cálculo de error cuadratico medio (MSE) y el error absoluto medio (MAE), donde un MSE más bajo indica un mejor ajuste del modelo a los datos."
   ]
  },
  {
   "cell_type": "markdown",
   "id": "d3c63e79-5393-4b5e-b873-66c56c07086f",
   "metadata": {},
   "source": [
    "Todo esto de la limpieza y pulido de datos serán para que no puedan dar errores a la hora de llegar a la fase de modelar y tambien para que los resultados estén acordes a los datos mas representativos de nuestros DataSet."
   ]
  }
 ],
 "metadata": {
  "kernelspec": {
   "display_name": "Kedro (wow)",
   "language": "python",
   "name": "kedro_wow"
  },
  "language_info": {
   "codemirror_mode": {
    "name": "ipython",
    "version": 3
   },
   "file_extension": ".py",
   "mimetype": "text/x-python",
   "name": "python",
   "nbconvert_exporter": "python",
   "pygments_lexer": "ipython3",
   "version": "3.10.11"
  }
 },
 "nbformat": 4,
 "nbformat_minor": 5
}
